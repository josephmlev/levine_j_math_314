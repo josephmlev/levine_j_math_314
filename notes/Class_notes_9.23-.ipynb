{
 "cells": [
  {
   "cell_type": "markdown",
   "metadata": {},
   "source": [
    "# 9.23"
   ]
  },
  {
   "cell_type": "markdown",
   "metadata": {},
   "source": [
    "## Population mean\n",
    "\n",
    "$\\textbf{E}(X) = \\sum_S x f(x) $ \n",
    "\n",
    "if $X$ ~ $\\text{Binomial}(K, p)$\n",
    "\n",
    "it turns out $\\textbf{E}(X) = K p $ \n",
    "\n",
    "#### example\n",
    "$X$ ~ $\\text{Binomial}(K = 10, p = .5)$ we expect 5 heads. $\\textbf{E}(X) = 10 * .5 = 5$\n",
    "\n",
    "#### example\n",
    "$X$ ~ $\\text{Binomial}(K = 11, p = .5)$ we expect 5.5 heads. $\\textbf{E}(X) = 11 * .5 = 5.5$. Population means do not need to be values in the support of the RV itself.\n",
    "\n",
    "#### example\n",
    "$X$ ~ $\\text{uniform}(a, b) \\rightarrow \\textbf{E}(x) = \\frac{b + a}{2}$"
   ]
  },
  {
   "cell_type": "markdown",
   "metadata": {},
   "source": [
    "## Likelihood Method\n",
    "\n",
    "$L(\\theta | x) = \\prod_{n = 1}^{N} f(x_n | \\theta)$\n",
    "\n",
    "$\\theta$ - populations parameter(s)\n",
    "\n",
    "$L$ - liklihood function\n",
    "\n",
    "$f(x)$ - probability density function\n",
    "\n",
    "$x_n$ - the observed RV in the array \n",
    "\n",
    "$x$ - the array of observed data\n",
    "\n",
    "#### Goal: What is the most likely value of \\theta, given the observed data x\n",
    "$\\hat{\\theta}$ = argmax$[L(\\theta | x)]$ Call $\\hat\\theta$ the maximum likelihood estimator\n",
    "\n",
    "#### example\n",
    "$X_1, X_2, ... X_N $ ~ Binomial$(K, p)$\n",
    "\n",
    "$L(p | x, K) = \\prod_{n = 1}^N$  $K\\choose{  n}$ $p^{x_n}(1-p)^{K - x_n}$\n",
    "\n",
    "    0) Take natural log (makes it easier for computer)\n",
    "    1) Take derivative with respect to p and simplify\n",
    "    2) Set derivative equal to 0\n",
    "    3) solve for p\n",
    "    \n",
    "board math $\\rightarrow \\hat p = \\frac{\\sum x_n}{K N}$"
   ]
  },
  {
   "cell_type": "markdown",
   "metadata": {},
   "source": [
    "# 9.25"
   ]
  },
  {
   "cell_type": "markdown",
   "metadata": {},
   "source": [
    "music recomendation: kokoroko"
   ]
  },
  {
   "cell_type": "markdown",
   "metadata": {},
   "source": [
    "$X_1, ..., X_N$ ~ Binomial$(K, p)$\n",
    "\n",
    "$L(p|\\underline X, k)$ Given the data what is the most likley value of pop paramater p. \n",
    "\n",
    "$L(p|\\underline X, k) = \\prod_{n = 1}^ N f(X_N|p)$\n",
    "\n",
    "We want the \"maximum likliyhood estimator\", $\\hat p = \\text{argmax}_p L(p|\\underline X, k)$\n",
    "\n",
    "for simplicity take natural log. he calls \"ln\" \"log\"\n",
    "\n",
    "$ln(L(p|\\underline{X}, k))\\\\ \n",
    "= \\sum_{n = 1} ^ N ln f(x_n | p)\\\\ \n",
    "= \\sum_{n = 1} ^ N ln({k \\choose N} p^{x_n} * (1-p)^{k-x_n})\\\\ =\\sum_{n = 1} ^ N ln({k \\choose N}) + ln( p^{x_n}) + ln( (1-p)^{k-x_n}) \\\\\n",
    "= \\sum_{n = 1} ^ N ln({k \\choose N}) + x_n ln( p) + (k-x_n) ln (1-p)\\\\ \n",
    "\\propto _p \\sum_{n = 1} ^ N x_n ln( p) + *(k-x_n) ln (1-p) $\n",
    "\n",
    "Lets write this simplified log-likelihood function in python\n",
    "\n",
    "def(LL_binomial(p, X, k)):"
   ]
  },
  {
   "cell_type": "markdown",
   "metadata": {},
   "source": [
    "#### Why is it a product example:\n",
    "Bernoulli = H, T, H\n",
    "\n",
    "p of this outcome = p * (1-p) * p\n",
    "\n",
    "p came from the probability density function, so this is really $f(1) * f(0) * f(1) = f(x_1) * ... = \\prod_{n = 1} ^N f(x_n) $"
   ]
  },
  {
   "cell_type": "markdown",
   "metadata": {},
   "source": [
    "now take $\\frac{d}{dp}\\sum_{n = 1} ^ N x_n ln( p) + (k-x_n) ln (1-p)  \\\\ = \\sum_{n = 1} ^ N \\frac{p}{ x_n} - \\frac{k-x_n} {1-p}   $ \n",
    "\n",
    "so,\n",
    "\n",
    "$\\sum_{n = 1} ^ N \\frac{p}{ x_n} = \\sum_{n = 1} ^ N \\frac{k-x_n} {1-p}$\n",
    "\n",
    "\n",
    "$\\sum_{n = 1} ^ N x_n - p \\sum_{n = 1} ^ N x_n   = p * K * k - p \\sum_{n = 1} ^ N x_n$\n",
    "\n",
    "\n",
    "$\\sum_{n = 1} ^ N x_n    = p * K * k $\n",
    "\n",
    "This gives $\\hat p$, maximum likliyhood estimator\n",
    "\n",
    "$\\hat p  = \\frac{\\sum_{n = 1} ^ N x_n}{N * k}$\n",
    "\n",
    "This is intutitive. $\\textbf{E}(X) = k * p$ and the sample mean is $\\frac{\\sum_{n = 1} ^ N x_n}{N}$ so $\\hat p $ is the mean over k, the piece you don't want\n"
   ]
  },
  {
   "cell_type": "code",
   "execution_count": 4,
   "metadata": {},
   "outputs": [],
   "source": [
    "def ll_binomial(p, X, K):\n",
    "    N = X.size\n",
    "    Sx = np.sum(X)\n",
    "    return -1 * np.log(p) * Sx - (N * K - Sx) * np.log(1 - p)"
   ]
  },
  {
   "cell_type": "code",
   "execution_count": 30,
   "metadata": {},
   "outputs": [],
   "source": [
    "N = 1001\n",
    "K = 12\n",
    "X = np.random.binomial(K, 0.6, size = N)"
   ]
  },
  {
   "cell_type": "code",
   "execution_count": 31,
   "metadata": {},
   "outputs": [
    {
     "data": {
      "text/plain": [
       "      fun: array([8062.74711211])\n",
       " hess_inv: <1x1 LbfgsInvHessProduct with dtype=float64>\n",
       "      jac: array([-9.09494702e-05])\n",
       "  message: b'CONVERGENCE: REL_REDUCTION_OF_F_<=_FACTR*EPSMCH'\n",
       "     nfev: 14\n",
       "      nit: 5\n",
       "   status: 0\n",
       "  success: True\n",
       "        x: array([0.60431235])"
      ]
     },
     "execution_count": 31,
     "metadata": {},
     "output_type": "execute_result"
    }
   ],
   "source": [
    "#minimize(function, tuple of best guess, \n",
    "#arguements, method (always use this), bounds) \n",
    "#this is in hw 10\n",
    "\n",
    "minimize(ll_binomial, (0.5), args = (X, K), \n",
    "         method = \"L-BFGS-B\", bounds = [(1e-5, 1 - 1e-5)])"
   ]
  },
  {
   "cell_type": "markdown",
   "metadata": {},
   "source": [
    "# 9.26\n",
    "### Why math on a computer is hard\n",
    "\n",
    "in yesterday's example, we needed soft bounds else ln(0) is undefined and its bad!!"
   ]
  },
  {
   "cell_type": "code",
   "execution_count": 5,
   "metadata": {},
   "outputs": [
    {
     "ename": "NameError",
     "evalue": "name 'X' is not defined",
     "output_type": "error",
     "traceback": [
      "\u001b[0;31m---------------------------------------------------------------------------\u001b[0m",
      "\u001b[0;31mNameError\u001b[0m                                 Traceback (most recent call last)",
      "\u001b[0;32m<ipython-input-5-ee7fbf6c8e67>\u001b[0m in \u001b[0;36m<module>\u001b[0;34m\u001b[0m\n\u001b[1;32m      1\u001b[0m \u001b[0mp\u001b[0m \u001b[0;34m=\u001b[0m \u001b[0mnp\u001b[0m\u001b[0;34m.\u001b[0m\u001b[0mlinspace\u001b[0m\u001b[0;34m(\u001b[0m\u001b[0;36m1e-5\u001b[0m\u001b[0;34m,\u001b[0m \u001b[0;36m1\u001b[0m\u001b[0;34m-\u001b[0m\u001b[0;36m1e-5\u001b[0m\u001b[0;34m,\u001b[0m \u001b[0;36m101\u001b[0m\u001b[0;34m)\u001b[0m\u001b[0;34m\u001b[0m\u001b[0m\n\u001b[1;32m      2\u001b[0m \u001b[0mp\u001b[0m\u001b[0;34m\u001b[0m\u001b[0m\n\u001b[0;32m----> 3\u001b[0;31m \u001b[0mplt\u001b[0m\u001b[0;34m.\u001b[0m\u001b[0mplot\u001b[0m\u001b[0;34m(\u001b[0m\u001b[0mp\u001b[0m\u001b[0;34m,\u001b[0m \u001b[0mll_binomial\u001b[0m\u001b[0;34m(\u001b[0m\u001b[0mp\u001b[0m\u001b[0;34m,\u001b[0m \u001b[0mX\u001b[0m\u001b[0;34m,\u001b[0m \u001b[0mK\u001b[0m\u001b[0;34m)\u001b[0m\u001b[0;34m)\u001b[0m\u001b[0;34m\u001b[0m\u001b[0m\n\u001b[0m",
      "\u001b[0;31mNameError\u001b[0m: name 'X' is not defined"
     ]
    }
   ],
   "source": [
    "p = np.linspace(1e-5, 1-1e-5, 101)\n",
    "p\n",
    "plt.plot(p, ll_binomial(p, X, K))"
   ]
  },
  {
   "cell_type": "markdown",
   "metadata": {},
   "source": [
    "### Gamma Random Variable\n",
    "This is like homework 11\n",
    "\n",
    "$f(x|\\alpha, \\beta) = (\\beta^\\alpha \\Gamma(\\alpha))^{-1} x^{\\alpha - 1} e^{\\frac{-x} {\\beta}}$ for $\\alpha > 0, \\beta > 0, x > 0$\n",
    "\n",
    "$\\Gamma$ function is the generilization of factorial to non ints. if $\\alpha$ is an int,\n",
    "\n",
    "$\\Gamma(\\alpha) = (\\alpha - 1)!$\n",
    "\n",
    "but really,\n",
    "\n",
    "$\\Gamma(\\alpha) = \\int_0 ^\\infty x^{\\alpha - 1} e ^ x dx$\n",
    "\n",
    "Lets make a lileleyhood function\n",
    "$L(\\alpha, \\beta |\\underline{x}) = \\prod_{n=1}^N f(x_n|\\alpha, \\beta)$\n",
    "\n",
    "0) take log\n",
    "\n",
    "$\\sum log(f(x_n|\\alpha,\\beta))$\n",
    "\n",
    "$\\sum [-\\alpha log(\\beta) - log(\\Gamma(\\alpha)) + (\\alpha - 1) log(x_n) - \\frac{x_n}{\\beta}]$\n",
    "\n",
    "Screw this! Python does the derivitaves!"
   ]
  },
  {
   "cell_type": "code",
   "execution_count": 37,
   "metadata": {},
   "outputs": [],
   "source": [
    "from scipy.special import loggamma\n",
    "def ll_gamma(theta, X):\n",
    "    alpha = theta[0]\n",
    "    beta = theta[1]\n",
    "    Sx = np.sum(X)\n",
    "    N = X.size\n",
    "    return N * alpha * np.log(beta) + N * loggamma(alpha) -\\\n",
    "    (alpha - 1 ) * np.sum(np.log(X)) + Sx / beta"
   ]
  },
  {
   "cell_type": "code",
   "execution_count": 60,
   "metadata": {},
   "outputs": [],
   "source": [
    "N = 1001\n",
    "a = 1.24\n",
    "b = 12.43\n",
    "X = np.random.gamma(a,b,size = N)"
   ]
  },
  {
   "cell_type": "code",
   "execution_count": 61,
   "metadata": {},
   "outputs": [
    {
     "data": {
      "text/plain": [
       "      fun: 3699.2332225827786\n",
       " hess_inv: <2x2 LbfgsInvHessProduct with dtype=float64>\n",
       "      jac: array([-9.09494702e-05, -9.09494702e-05])\n",
       "  message: b'CONVERGENCE: REL_REDUCTION_OF_F_<=_FACTR*EPSMCH'\n",
       "     nfev: 60\n",
       "      nit: 19\n",
       "   status: 0\n",
       "  success: True\n",
       "        x: array([ 1.22090188, 12.27675704])"
      ]
     },
     "execution_count": 61,
     "metadata": {},
     "output_type": "execute_result"
    }
   ],
   "source": [
    "minimize(ll_gamma, (1,1), args = (X), \n",
    "         method = \"L-BFGS-B\", bounds = [(1e-5, np.inf), (1 - 1e-5, np.inf)])"
   ]
  },
  {
   "cell_type": "markdown",
   "metadata": {},
   "source": [
    "# 9.30\n",
    "### Differences between discrete and continous RV's\n",
    "\n",
    "Discrete RVs can take on at most a countably infinite set of values. $\\sum_{\\text{support}}f(x) = 1$\n",
    "\n",
    "Continuous have an uncountably infinite set of values. Now $\\int_{\\text{support}} f(x) dx = 1$\n",
    "\n",
    "$\\textbf{E}(g(x)) = \\int_\\text{support} g(x) * f(x) dx$\n",
    "\n",
    "#### ex\n",
    "$X$ ~ Exponential($\\lambda$)\n",
    "\n",
    "$f(x|\\lambda) = \\lambda e^{-\\lambda x}$\n",
    "\n",
    "Find $\\textbf{E}(X)$\n",
    "\n",
    "Just apply definition!\n",
    "\n",
    "$\\textbf{E}(g(x)) = \\int_0 ^\\infty x  \\lambda e^{-\\lambda x} dx$\n",
    "\n",
    "parts\n",
    "\n",
    "$= \\frac{1}{\\lambda}$"
   ]
  },
  {
   "cell_type": "markdown",
   "metadata": {},
   "source": [
    "# 10/7"
   ]
  },
  {
   "cell_type": "code",
   "execution_count": 1,
   "metadata": {},
   "outputs": [],
   "source": [
    "import numpy as np"
   ]
  },
  {
   "cell_type": "markdown",
   "metadata": {},
   "source": [
    "$X$ ~ Normal($\\mu, \\sigma ^2$)\n",
    "\n",
    "$\\textbf{E}(X) = \\mu$\n",
    "\n",
    "$\\textbf{V}(X) = \\sigma^2$\n",
    "\n",
    "Normal variable\n",
    "\n",
    "    \"bell curve\"\n",
    "    unimodal (one hump)\n",
    "    symmetric about $\\mu$\n",
    "    \n",
    "Ex: let $Y = X - \\mu$\n",
    "\n",
    "$\\textbf{E}(Y) = \\textbf{E}(X - \\mu) = \\textbf{E}(X) - \\mu$ \n",
    "\n",
    "This works because expectation is linear\n",
    "\n",
    "Subtract mean off of variable shifts distrubtion about zero\n",
    "\n",
    "so\n",
    "\n",
    "$ \\mu - \\mu = 0$\n",
    "\n",
    "Ex: let $Y = \\frac{X - \\mu}{\\sigma}$\n",
    "\n",
    "$\\textbf{E}(Y) = \\frac{1}{\\sigma} \\textbf{E}(X - \\mu) = 0 $\n",
    "\n",
    "for the same reason as before\n",
    "    \n",
    "Ex: let $Y = \\frac{X - \\mu}{\\sigma}$\n",
    "\n",
    "$\\textbf{V}(Y) = \\textbf{V}(\\frac{X - \\mu}{\\sigma}) = \\frac{1}{\\sigma^2} \\textbf{V}(X - \\mu) = \\frac{1}{\\sigma^2} \\textbf{V}(X) = \\frac{1}{\\sigma^2} * \\sigma^2 = 1$\n",
    "\n",
    "SO: by letting  $Y = \\frac{X - \\mu}{\\sigma}$ we take our normally distributed random variable and center it about zero with variance 1\n",
    "\n",
    "Sample mean itself is not a constant, it is its own RV. This is because it is an opperation that depends on RVs. Expecations do return constants because they opperate on population means where as sample means depend on real data with $N$ data points.\n",
    "\n",
    "$$\\textbf{E}(\\frac{1}{N} \\sum_{n=1}^N X_n) = \\frac{1}{N} \\textbf{E}(\\sum_{n=1}^N X_n)$$\n",
    "$$= \\frac{1}{N} \\sum_{n=1}^N  \\textbf{E}(X_n)$$\n",
    "$$= \\frac{1}{N} N \\mu = \\mu$$\n",
    "\n",
    "Let $X_1, ..., X_N$~$F$\n",
    "\n"
   ]
  },
  {
   "cell_type": "markdown",
   "metadata": {},
   "source": []
  },
  {
   "cell_type": "markdown",
   "metadata": {},
   "source": [
    "$X_1, ..., X_N$~$F$, all of which are independent\n",
    "$$\\textbf{V}(\\frac{1}{N} \\sum_{n=1}^N X_n) = \\frac{1}{N^2} \\textbf{V}(\\sum_{n=1}^N X_n)$$\n",
    "\n",
    "assuming independance,\n",
    "\n",
    "$$=\\frac{1}{N^2} \\sum_{n=1}^N  \\textbf{V}(X_n) $$\n",
    "\n",
    "$$= \\frac{\\sigma^2}{N}$$\n",
    "\n",
    "This is our uncertanty. The variance of the mean is the width of the guesses of the mean. \n",
    "\n",
    "We are quantifying how wrong our guesses are"
   ]
  },
  {
   "cell_type": "markdown",
   "metadata": {},
   "source": [
    "Let $\\textbf{E}(X) = \\mu$, all independant\n",
    "\n",
    "if $\\textbf{E}(X)  = \\mu & \\textbf{V}(X) = \\simga^2 < \\infty\n",
    "\n",
    "then\n",
    "\n",
    "$$\\frac{\\hat \\mu - \\mu}{\\frac{\\sigma}{\\sqrt{N}}} \\sim N(0,1) $$"
   ]
  },
  {
   "cell_type": "markdown",
   "metadata": {},
   "source": [
    "# 10.9\n",
    "### review\n",
    "$X_1, ... X_N \\sim _{iid} F$\n",
    "iid = independent identically distrubuted (independent data from the same population)\n",
    "\n",
    "#### central limit thrm \n",
    "\n",
    "If $\\textbf{E}(X) = \\mu$ and If $\\textbf{V}(X) = \\sigma^2 < \\infty$ then $ \\frac{\\hat\\mu - \\mu} {\\frac{\\sigma} {\\sqrt N}} \\dot \\sim N(\\mu = 0,\\sigma = 1)$ \n",
    "\n",
    "This means that the population mean, $\\hat \\mu$, is itself a normally distributed RV\n",
    "\n",
    "#### show this in python"
   ]
  },
  {
   "cell_type": "code",
   "execution_count": 31,
   "metadata": {},
   "outputs": [],
   "source": [
    "import numpy as np\n",
    "import matplotlib.pyplot as plt\n",
    "import bplot as bp"
   ]
  },
  {
   "cell_type": "code",
   "execution_count": 24,
   "metadata": {},
   "outputs": [
    {
     "data": {
      "text/plain": [
       "array([3.77743419, 4.21858289, 0.54949353, ..., 3.95018255, 2.98642116,\n",
       "       3.09152145])"
      ]
     },
     "execution_count": 24,
     "metadata": {},
     "output_type": "execute_result"
    }
   ],
   "source": [
    "#dont do this\n",
    "muhats1 = np.random.normal(np.pi, 2, 3).mean()\n",
    "muhats2 = np.random.normal(np.pi, 2, 3).mean()\n",
    "muhats3 = np.random.normal(np.pi, 2, 3).mean()\n",
    "muhats4 = np.random.normal(np.pi, 2, 3).mean()\n",
    "muhats5 = np.random.normal(np.pi, 2, 3).mean()\n",
    "\n",
    "#do this\n",
    "R = 1001\n",
    "muhats = np.full(R, np.nan) #preallocate memmory. Fill with nan to break if you dont populate something\n",
    "for r in range(R):\n",
    "    muhats[r] = np.random.normal(np.pi, 2, 3).mean()\n",
    "muhats"
   ]
  },
  {
   "cell_type": "code",
   "execution_count": 25,
   "metadata": {},
   "outputs": [
    {
     "data": {
      "text/plain": [
       "(array([  1.,   3.,   5.,  15.,  29.,  44.,  65.,  90., 114., 118., 112.,\n",
       "        139., 106.,  74.,  34.,  22.,  18.,   6.,   4.,   2.]),\n",
       " array([-0.60818265, -0.23810915,  0.13196435,  0.50203785,  0.87211135,\n",
       "         1.24218485,  1.61225835,  1.98233184,  2.35240534,  2.72247884,\n",
       "         3.09255234,  3.46262584,  3.83269934,  4.20277284,  4.57284634,\n",
       "         4.94291984,  5.31299334,  5.68306684,  6.05314034,  6.42321384,\n",
       "         6.79328734]),\n",
       " <a list of 20 Patch objects>)"
      ]
     },
     "execution_count": 25,
     "metadata": {},
     "output_type": "execute_result"
    },
    {
     "data": {
      "image/png": "[encoded data removed]",
      "text/plain": [
       "<Figure size 432x288 with 1 Axes>"
      ]
     },
     "metadata": {
      "needs_background": "light"
     },
     "output_type": "display_data"
    }
   ],
   "source": [
    "plt.hist(muhats, bins = 20)"
   ]
  },
  {
   "cell_type": "code",
   "execution_count": 26,
   "metadata": {},
   "outputs": [
    {
     "name": "stdout",
     "output_type": "stream",
     "text": [
      "std of z =  0.9825579145849849\n"
     ]
    },
    {
     "data": {
      "image/png": "[encoded data removed]",
      "text/plain": [
       "<Figure size 432x288 with 1 Axes>"
      ]
     },
     "metadata": {
      "needs_background": "light"
     },
     "output_type": "display_data"
    }
   ],
   "source": [
    "#normlize\n",
    "z = (muhats - np.pi) / (2 / np.sqrt(3)) \n",
    "\n",
    "plt.hist(z, bins = 20)\n",
    "print(\"std of z = \", z.std())"
   ]
  },
  {
   "cell_type": "code",
   "execution_count": 32,
   "metadata": {},
   "outputs": [
    {
     "data": {
      "text/plain": [
       "[<matplotlib.lines.Line2D at 0x11bf81128>]"
      ]
     },
     "execution_count": 32,
     "metadata": {},
     "output_type": "execute_result"
    },
    {
     "data": {
      "image/png": "[encoded data removed]",
      "text/plain": [
       "<Figure size 432x288 with 1 Axes>"
      ]
     },
     "metadata": {
      "needs_background": "light"
     },
     "output_type": "display_data"
    }
   ],
   "source": [
    "bp.density(z)"
   ]
  },
  {
   "cell_type": "markdown",
   "metadata": {},
   "source": []
  },
  {
   "cell_type": "code",
   "execution_count": 35,
   "metadata": {},
   "outputs": [
    {
     "data": {
      "text/plain": [
       "[<matplotlib.lines.Line2D at 0x11bf9a160>]"
      ]
     },
     "execution_count": 35,
     "metadata": {},
     "output_type": "execute_result"
    },
    {
     "data": {
      "image/png": "[encoded data removed]",
      "text/plain": [
       "<Figure size 432x288 with 1 Axes>"
      ]
     },
     "metadata": {
      "needs_background": "light"
     },
     "output_type": "display_data"
    }
   ],
   "source": [
    "#increse observations to 30, trials to 1, bernulie, p = .64\n",
    "R = 1001\n",
    "muhats = np.full(R, np.nan) #preallocate memmory. Fill with nan to break if you dont populate something\n",
    "for r in range(R):\n",
    "    muhats[r] = np.random.normal(1, .64, 30).mean()\n",
    "    \n",
    "z = (muhats - .64) / (np.sqrt(.64 * (1 - .64)/30)) #variance of bernulli = p(1-p)\n",
    "bp.density(z)"
   ]
  },
  {
   "cell_type": "code",
   "execution_count": 38,
   "metadata": {},
   "outputs": [
    {
     "data": {
      "text/plain": [
       "0.9894055250688116"
      ]
     },
     "execution_count": 38,
     "metadata": {},
     "output_type": "execute_result"
    }
   ],
   "source": [
    "#back to normal example\n",
    "R = 1001\n",
    "muhats = np.full(R, np.nan) #preallocate memmory. Fill with nan to break if you dont populate something\n",
    "for r in range(R):\n",
    "    muhats[r] = np.random.normal(np.pi, 2, 30).mean()\n",
    "    \n",
    "z = (muhats - np.pi) / (2 / np.sqrt(30))\n",
    "z.std()"
   ]
  },
  {
   "cell_type": "markdown",
   "metadata": {},
   "source": [
    "# 10.10\n",
    "\n",
    "$X_1, ... , X_N \\sim_{iid} F \\text{ and } \\textbf{V}(X) = \\sigma^2 < \\infty$\n",
    "\n",
    "$\\frac{\\hat \\mu - \\mu}{\\sigma/\\sqrt{N}}$ can go 2 ways\n",
    "1) how we get around the dependance on population parameters? ex) we need to know the population peramaters to find a guess at the statistic. This is kinda silly!\n",
    "\n",
    "2)How do we deal with a single data set?\n",
    "\n",
    "Today we take path 1. The key piece in the central lim thrm is in the denomater, the standard deviation of the sample mean. Can we use an array of $\\hat \\mu$ to figure out population peramaters \n",
    "\n"
   ]
  },
  {
   "cell_type": "code",
   "execution_count": 2,
   "metadata": {},
   "outputs": [],
   "source": [
    "import numpy as np\n",
    "import bplot as bp"
   ]
  },
  {
   "cell_type": "code",
   "execution_count": 15,
   "metadata": {},
   "outputs": [],
   "source": [
    "R = 1001\n",
    "muhats = np.full(R, np.nan) #preallocate memmory. Fill with nan to break if you dont populate something\n",
    "for r in range(R):\n",
    "    muhats[r] = np.random.normal(np.pi, 2, 10).mean()\n",
    "    \n",
    "R = 1001\n",
    "muhats2 = np.full(R, np.nan) #preallocate memmory. Fill with nan to break if you dont populate something\n",
    "for r in range(R):\n",
    "    muhats2[r] = np.random.normal(np.pi, 2, 1001).mean()\n",
    "\n",
    "R = 10001\n",
    "muhats3 = np.full(R, np.nan) #preallocate memmory. Fill with nan to break if you dont populate something\n",
    "for r in range(R):\n",
    "    muhats3[r] = np.random.normal(np.pi, 2, 10).mean()"
   ]
  },
  {
   "cell_type": "code",
   "execution_count": 17,
   "metadata": {},
   "outputs": [
    {
     "data": {
      "text/plain": [
       "[<matplotlib.lines.Line2D at 0x11e01b9b0>]"
      ]
     },
     "execution_count": 17,
     "metadata": {},
     "output_type": "execute_result"
    },
    {
     "data": {
      "image/png": "[encoded data removed]",
      "text/plain": [
       "<Figure size 432x288 with 1 Axes>"
      ]
     },
     "metadata": {
      "needs_background": "light"
     },
     "output_type": "display_data"
    }
   ],
   "source": [
    "bp.density(muhats)\n",
    "bp.density(muhats2, color = 'red')\n",
    "bp.density(muhats3, color = 'orange')"
   ]
  },
  {
   "cell_type": "markdown",
   "metadata": {},
   "source": [
    "We dont need to know pop mean to know muhats2 has a mean close to what it should be."
   ]
  },
  {
   "cell_type": "code",
   "execution_count": 25,
   "metadata": {},
   "outputs": [
    {
     "name": "stdout",
     "output_type": "stream",
     "text": [
      "0.0632139541241014\n",
      "0.06171183699078792\n"
     ]
    }
   ],
   "source": [
    "print(2/np.sqrt(1001))\n",
    "print(muhats2.std())"
   ]
  },
  {
   "cell_type": "code",
   "execution_count": null,
   "metadata": {},
   "outputs": [],
   "source": []
  },
  {
   "cell_type": "markdown",
   "metadata": {},
   "source": [
    "We could also guess the mean by using the median."
   ]
  },
  {
   "cell_type": "code",
   "execution_count": 28,
   "metadata": {},
   "outputs": [],
   "source": [
    "R = 1001\n",
    "medianhats = np.full(R, np.nan) #preallocate memmory. Fill with nan to break if you dont populate something\n",
    "for r in range(R):\n",
    "    medianhats[r] = np.median(np.random.normal(np.pi, 2, 10))"
   ]
  },
  {
   "cell_type": "code",
   "execution_count": 30,
   "metadata": {},
   "outputs": [
    {
     "name": "stdout",
     "output_type": "stream",
     "text": [
      "3.126728628466738\n",
      "0.7448901772568078\n"
     ]
    },
    {
     "data": {
      "text/plain": [
       "[<matplotlib.lines.Line2D at 0x11e01beb8>]"
      ]
     },
     "execution_count": 30,
     "metadata": {},
     "output_type": "execute_result"
    },
    {
     "data": {
      "image/png": "[encoded data removed]",
      "text/plain": [
       "<Figure size 432x288 with 1 Axes>"
      ]
     },
     "metadata": {
      "needs_background": "light"
     },
     "output_type": "display_data"
    }
   ],
   "source": [
    "print(medianhats.mean())\n",
    "print(medianhats.std())\n",
    "bp.density(medianhats)"
   ]
  },
  {
   "cell_type": "code",
   "execution_count": 7,
   "metadata": {},
   "outputs": [],
   "source": [
    "import numpy as np\n",
    "import matplotlib.pyplot as plt\n",
    "import bplot as bp"
   ]
  },
  {
   "cell_type": "markdown",
   "metadata": {},
   "source": [
    "# 10.14\n",
    "\n",
    "Let $X \\sim N(\\mu, \\sigma ^2)$\n",
    "\n",
    "$\\textbf{E}(X) = \\mu$\n",
    "\n",
    "$X_1,..., X_R \\sim N(\\mu, \\sigma ^2)$\n",
    "\n",
    "$\\textbf{E}(X) = \\frac{1}{R} \\sum X_r$\n",
    "\n",
    "let $\\hat \\mu = \\frac{1}{N} \\sum X_n $\n",
    "\n",
    "$\\textbf{E}(\\hat \\mu) \\rightarrow \\hat \\mu_1, ..., \\hat \\mu_R \\dot \\sim N(\\mu, \\frac{\\sigma^2}{N})  $ from central limit thrm\n",
    "\n",
    "From this array of random vatiables we can estimate a population paramater\n",
    "\n",
    "$\\frac{1}{R} \\sum \\hat \\mu_r$\n",
    "\n",
    "let $T(\\underline{X})$\n",
    "\n",
    "$\\textbf{E}(\\hat T) \\rightarrow \\hat T_1, ..., \\hat T_R \\sim ???$ but we dont care becuse we have dropped dependance on population paramaters. The arrays of $\\hat T s$ has all the info we need. Also know variance is perportional to $N^{-1}$. The mean of the $\\hat T$ array is $\\textbf{E}(\\hat T)$\n",
    "\n",
    "We can also estimate std. \n",
    "\n",
    "$\\hat \\sigma = \\sqrt{\\frac{\\sum (x_r - \\hat \\mu)^2}{R}}$\n",
    "\n"
   ]
  },
  {
   "cell_type": "code",
   "execution_count": 8,
   "metadata": {},
   "outputs": [
    {
     "data": {
      "text/plain": [
       "[<matplotlib.lines.Line2D at 0x11a131518>]"
      ]
     },
     "execution_count": 8,
     "metadata": {},
     "output_type": "execute_result"
    },
    {
     "data": {
      "image/png": "[encoded data removed]",
      "text/plain": [
       "<Figure size 432x288 with 1 Axes>"
      ]
     },
     "metadata": {
      "needs_background": "light"
     },
     "output_type": "display_data"
    }
   ],
   "source": [
    "X = np.random.normal(np.pi, 2, 1001)\n",
    "N = X.size\n",
    "R = 1001\n",
    "muhats = np.full(R, np.nan)\n",
    "for r in range(R):\n",
    "    muhats[r] = np.std(np.random.choice(X, replace = True, size = N))\n",
    "\n",
    "bp.density(muhats)"
   ]
  },
  {
   "cell_type": "markdown",
   "metadata": {},
   "source": [
    "^ we resample R times to get the uncertany\n",
    "\n",
    "The name for the shape that a summery stat takes on is the sampeling distrubtion\n",
    "\n",
    "all summery stats have sampling distributions. The central limit thrm tells us that the sampling dist of the sample mean is aprox normal.\n",
    "\n",
    "summry stats are to be thought of as RV so they have distributions under repeated sampling. With bootstraping we can aproxamate pop params from a distribution we don't know. "
   ]
  },
  {
   "cell_type": "markdown",
   "metadata": {},
   "source": [
    "# 10.16\n",
    "\n",
    "$X_1, ... X_N \\rightarrow T(\\underline{X})$\n",
    "\n",
    "T is some function that computes a statistic (estimates pop param). T could be minimize(LLF)\n",
    "\n",
    "We wnat to quantify uncertanty of T\n",
    "\n",
    "Sample from origional data set with replacement\n",
    "First resample WITH REPLACEMENT $X_{1n}$\n",
    "\n",
    "$X_{11}, ... X_{1N} \\rightarrow T_1(\\underline{X})$\n",
    "\n",
    "$X_{21}, ... X_{2N} \\rightarrow T_2(\\underline{X})$\n",
    "\n",
    "...\n",
    "\n",
    "$X_{R1}, ... X_{RN} \\rightarrow T_R(\\underline{X})$\n",
    "\n",
    "If $T(\\underline{X}) = \\frac{1}{N}\\sum X_n$ the central limit thrm tells us that the *sampling distribution* of the sample mean is aproxamatly normal. \n",
    "\n",
    "\n",
    "When we do a bootstrap we get a bunch of $\\underline{T}(\\underline{X})$. None of them are more correct than the first T we calculated, we just need them to find the uncertanty. \n",
    "\n",
    "The bootstrap procedure does not matter what $T(\\underline{X})$ is. There does not need to be a central limit thrm. \n",
    "\n",
    "$\\frac{\\sigma}{\\sqrt{N}}$ is called \"standard error\"\n",
    "\n",
    "We are interested in a range of value within which we are somewhat confident that the actual paramater lies \n",
    "\n",
    "New word: percentile. The medial in the 50th percentile.  definition:$$ \\int_{- \\infty} ^{m} f(x)dx  = \\frac{1}{2}$$\n",
    "\n",
    "more genetal\n",
    "$$ \\int_{- \\infty} ^{\\pi_p} f(x)dx  = p$$\n",
    "\n",
    "If we had a sampling distribution that was not normal\n"
   ]
  },
  {
   "cell_type": "markdown",
   "metadata": {},
   "source": [
    "# 10.18\n",
    "\n",
    "### Other stats class\n",
    "CLT = $T(X) = \\frac{1}{N} \\sum X_n$\n",
    "\n",
    "$$\\hat \\mu_1, ..., \\hat \\mu_N  \\dot \\sim (\\mu, \\frac{\\sigma^2}{N})$$\n",
    "\n",
    "We provide a range of values that the stat is most likley within. \n",
    "\n"
   ]
  },
  {
   "cell_type": "code",
   "execution_count": 2,
   "metadata": {},
   "outputs": [],
   "source": [
    "import numpy as np\n",
    "import bplot as bp\n",
    "from scipy.stats import norm\n"
   ]
  },
  {
   "cell_type": "code",
   "execution_count": 3,
   "metadata": {},
   "outputs": [
    {
     "name": "stdout",
     "output_type": "stream",
     "text": [
      "[-2.05132793  1.81464835]\n"
     ]
    },
    {
     "data": {
      "text/plain": [
       "array([-1.95996398,  1.95996398])"
      ]
     },
     "execution_count": 3,
     "metadata": {},
     "output_type": "execute_result"
    }
   ],
   "source": [
    "muhats = np.random.normal(size = 999)\n",
    "print(np.percentile(muhats,[2.5,97.5]))\n",
    "norm(0,1).ppf([.025,.975])"
   ]
  },
  {
   "cell_type": "markdown",
   "metadata": {},
   "source": [
    "### This class\n",
    "\n",
    "$T(X)$ is not nesessarily the sample mean. \n",
    "\n",
    "$$\\hat T_1, ..., \\hat T_R \\dot \\sim ? $$\n",
    "\n",
    "We can still make a density plot and esitimate the sampling distribution. The mean of this gives the best guess of $\\hat T$. $T(\\underline{X}).std$ is still the standard error even tho the sampling distribution may not be symetric"
   ]
  },
  {
   "cell_type": "markdown",
   "metadata": {},
   "source": [
    "## Other class\n",
    "\n",
    "Report $\\hat \\mu \\pm 2 \\frac{\\sigma}{\\sqrt N}$\n",
    "\n",
    "## This class\n",
    "That does not work because the sampling distribution may not be symetric! \"We are 95% confident that the stat is with in the range such and such\""
   ]
  },
  {
   "cell_type": "code",
   "execution_count": 4,
   "metadata": {},
   "outputs": [
    {
     "name": "stdout",
     "output_type": "stream",
     "text": [
      "median =  3.034080213107716\n",
      "[2.88134229 3.1614884 ]\n"
     ]
    }
   ],
   "source": [
    "X = np.random.normal(np.pi, 2, size = 999)\n",
    "R = 1001\n",
    "print(\"median = \", np.median(X))\n",
    "medhats = np.full(R, np.nan)\n",
    "for r in range(R):\n",
    "    medhats[r] = np.median(np.random.choice(X, replace = 1, size = X.size))\n",
    "print(np.percentile(medhats, [2.5, 97.5]))"
   ]
  },
  {
   "cell_type": "markdown",
   "metadata": {},
   "source": [
    "# 10.21\n",
    "\n",
    "\n"
   ]
  },
  {
   "cell_type": "code",
   "execution_count": null,
   "metadata": {},
   "outputs": [],
   "source": []
  },
  {
   "cell_type": "code",
   "execution_count": 6,
   "metadata": {},
   "outputs": [
    {
     "data": {
      "text/plain": [
       "array([ 8, 43,  6])"
      ]
     },
     "execution_count": 6,
     "metadata": {},
     "output_type": "execute_result"
    }
   ],
   "source": [
    "#Example: index an array with an array\n",
    "Y = np.asarray([10,9,8,6,43])\n",
    "idy = np.asarray([2,4,3])\n",
    "Y[idy]"
   ]
  },
  {
   "cell_type": "code",
   "execution_count": 9,
   "metadata": {},
   "outputs": [
    {
     "name": "stdout",
     "output_type": "stream",
     "text": [
      "median =  3.2345841622175144\n",
      "[3.00054534 3.40540784]\n"
     ]
    }
   ],
   "source": [
    "X = np.random.normal(np.pi, 2, size = 999)\n",
    "N = X.size\n",
    "R = 1001\n",
    "print(\"median = \", np.median(X))\n",
    "medhats = np.full(R, np.nan)\n",
    "for r in range(R):\n",
    "    idx = np.random.choice(N, N, replace = 1)\n",
    "    medhats[r] = np.median(X[idx])\n",
    "print(np.percentile(medhats, [2.5, 97.5]))"
   ]
  },
  {
   "cell_type": "code",
   "execution_count": 49,
   "metadata": {},
   "outputs": [
    {
     "data": {
      "text/plain": [
       "array([2.83814712, 2.94644948])"
      ]
     },
     "execution_count": 49,
     "metadata": {},
     "output_type": "execute_result"
    }
   ],
   "source": [
    "#generilize. This is broken!!!\n",
    "X = np.random.normal(np.pi, 2, size = 999)\n",
    "R = 1001\n",
    "def bootstrap(data, R, fun, conf):\n",
    "    N = data.size\n",
    "    thetas = np.full(R, np.nan)\n",
    "    for r in range(R):\n",
    "        idx = np.random.choice(N, N, replace = 1)\n",
    "        thetas[r] = fun(data[idx])\n",
    "    return np.percentile(thetas, [(1 - conf)/2, 1 - ((1 - conf)/2)])\n",
    "    #return np.percentile(thetas, [.025,.975])\n",
    "bootstrap(X, R, np.median, .95)\n"
   ]
  },
  {
   "cell_type": "code",
   "execution_count": 50,
   "metadata": {},
   "outputs": [
    {
     "data": {
      "text/plain": [
       "array([[ 3.14159265,  3.14159265],\n",
       "       [ 2.92673872,  2.98824734],\n",
       "       [ 2.31988624,  2.48672327],\n",
       "       [ 2.18751335,  2.62841654],\n",
       "       [ 1.40202744,  2.29241585],\n",
       "       [ 0.41714255,  1.49089653],\n",
       "       [-0.08339026,  0.04790056],\n",
       "       [ 0.9011561 ,  1.33838819],\n",
       "       [-0.88286089,  0.07426051],\n",
       "       [ 0.99748348,  1.1978727 ],\n",
       "       [-1.83616158, -1.79667015],\n",
       "       [-2.42131379, -1.11787117],\n",
       "       [-2.09057623, -1.71672183],\n",
       "       [-3.10180098, -1.99995191],\n",
       "       [-0.18467298,  1.11410218],\n",
       "       [-4.21050397, -3.51117405],\n",
       "       [-0.78359656,  0.47984645],\n",
       "       [-3.11780951, -1.34290356],\n",
       "       [-1.91229207,  0.67617149],\n",
       "       [-1.54985775,  1.41184893]])"
      ]
     },
     "execution_count": 50,
     "metadata": {},
     "output_type": "execute_result"
    }
   ],
   "source": [
    "S = 20\n",
    "count = 0\n",
    "CI = np.full((S, 2), np.nan) #array of confidence intervals. \n",
    "for s in range(S):\n",
    "    X = np.random.normal(np.pi, s, size = 99)\n",
    "    CI[s, :] = bootstrap(X, R, np.median, .95)\n",
    "    if CI[s, 0] < np.pi and CI[s, 1] > np.pi:\n",
    "        count += 1\n",
    "np.round(count / S, 3)\n",
    "CI"
   ]
  },
  {
   "cell_type": "markdown",
   "metadata": {},
   "source": [
    "# 10.23\n",
    "\n",
    "Start modeling! \n",
    "\n",
    "Review simplified log likleyhood\n",
    "\n",
    "$$X_1, ..., X_N \\sim N(\\mu, \\sigma ^2)$$\n",
    "\n",
    "All we are interested in is $\\mu$\n",
    "\n",
    "$$L(\\mu \\ \\underline{X}) = \\prod _{n = 1} ^N f(X_n | \\mu)$$\n",
    "\n",
    "simplify log of likleyhood\n",
    "\n",
    "$$\\text{log} (L(\\mu | \\underline{X})) = \\sum_{n = 1} ^N \\text{log}f(X_n | \\mu)$$\n",
    "\n",
    "if $f(X_n | \\mu)$ is a normal dist and we throw out things that wont effect minimization\n",
    "\n",
    "$$\\boxed{\\propto \\sum_{n=1}^N -(X_N - \\mu)^2}$$\n",
    "\n"
   ]
  },
  {
   "cell_type": "markdown",
   "metadata": {},
   "source": [
    "Now change the mean \n",
    "\n",
    "$$ \\sum_{n=1}^N -(X_N - \\mu)^2$$"
   ]
  },
  {
   "cell_type": "code",
   "execution_count": 31,
   "metadata": {},
   "outputs": [],
   "source": [
    "import numpy as np\n",
    "import matplotlib.pyplot\n",
    "import pandas as pd\n",
    "import bplot as bp\n",
    "from scipy.optimize import minimize\n",
    "import patsy"
   ]
  },
  {
   "cell_type": "code",
   "execution_count": 2,
   "metadata": {},
   "outputs": [],
   "source": [
    "def ll_normal(mu, X):\n",
    "    d = X - mu\n",
    "    return np.sum(d * d) #products are cheaper than powers!"
   ]
  },
  {
   "cell_type": "code",
   "execution_count": 3,
   "metadata": {},
   "outputs": [
    {
     "data": {
      "text/html": [
       "<div>\n",
       "<style scoped>\n",
       "    .dataframe tbody tr th:only-of-type {\n",
       "        vertical-align: middle;\n",
       "    }\n",
       "\n",
       "    .dataframe tbody tr th {\n",
       "        vertical-align: top;\n",
       "    }\n",
       "\n",
       "    .dataframe thead th {\n",
       "        text-align: right;\n",
       "    }\n",
       "</style>\n",
       "<table border=\"1\" class=\"dataframe\">\n",
       "  <thead>\n",
       "    <tr style=\"text-align: right;\">\n",
       "      <th></th>\n",
       "      <th>isbn</th>\n",
       "      <th>uclaNew</th>\n",
       "      <th>amazNew</th>\n",
       "    </tr>\n",
       "  </thead>\n",
       "  <tbody>\n",
       "    <tr>\n",
       "      <td>0</td>\n",
       "      <td>978-0803272620</td>\n",
       "      <td>27.67</td>\n",
       "      <td>27.95</td>\n",
       "    </tr>\n",
       "    <tr>\n",
       "      <td>1</td>\n",
       "      <td>978-0030119194</td>\n",
       "      <td>40.59</td>\n",
       "      <td>31.14</td>\n",
       "    </tr>\n",
       "    <tr>\n",
       "      <td>2</td>\n",
       "      <td>978-0300080643</td>\n",
       "      <td>31.68</td>\n",
       "      <td>32.00</td>\n",
       "    </tr>\n",
       "    <tr>\n",
       "      <td>3</td>\n",
       "      <td>978-0226206813</td>\n",
       "      <td>16.00</td>\n",
       "      <td>11.52</td>\n",
       "    </tr>\n",
       "    <tr>\n",
       "      <td>4</td>\n",
       "      <td>978-0892365999</td>\n",
       "      <td>18.95</td>\n",
       "      <td>14.21</td>\n",
       "    </tr>\n",
       "  </tbody>\n",
       "</table>\n",
       "</div>"
      ],
      "text/plain": [
       "             isbn  uclaNew  amazNew\n",
       "0  978-0803272620    27.67    27.95\n",
       "1  978-0030119194    40.59    31.14\n",
       "2  978-0300080643    31.68    32.00\n",
       "3  978-0226206813    16.00    11.52\n",
       "4  978-0892365999    18.95    14.21"
      ]
     },
     "execution_count": 3,
     "metadata": {},
     "output_type": "execute_result"
    }
   ],
   "source": [
    "df = pd.read_csv(\"https://raw.githubusercontent.com/roualdes/data/master/books.csv\")\n",
    "df.head()"
   ]
  },
  {
   "cell_type": "code",
   "execution_count": 4,
   "metadata": {},
   "outputs": [],
   "source": [
    "#dir(df)\n",
    "#runing this shows all the methods and members. There are a lot...\n",
    "\n",
    "#help(pd.read_csv) \n",
    "#gets help"
   ]
  },
  {
   "cell_type": "code",
   "execution_count": 5,
   "metadata": {},
   "outputs": [
    {
     "data": {
      "text/plain": [
       "array([ 27.67,  40.59,  31.68,  16.  ,  18.95,  14.95,  24.7 ,  19.5 ,\n",
       "       123.84,  17.  ,  31.63, 116.  ,  27.67,  24.7 , 126.67,  53.9 ,\n",
       "        89.73, 171.  , 152.  , 124.8 ,  16.  ,  25.95,  18.  ,  21.73,\n",
       "        40.59,  28.95,  19.95,  49.45,  41.09,  50.95,  44.5 ,  82.45,\n",
       "        34.6 ,  88.42,  84.  ,  11.25,  15.  , 180.03, 174.  , 188.58,\n",
       "       146.75, 183.75, 214.5 , 197.  , 194.  , 176.25,  24.7 , 188.  ,\n",
       "        29.7 ,  26.24,  55.13,  43.56, 129.6 , 123.84,  85.12, 152.48,\n",
       "        29.7 ,  24.7 ,  89.71,  10.5 ,  92.88, 100.88,  11.95,  72.47,\n",
       "        92.1 ,  78.35,  42.  ,  18.75,  48.46,  39.55,  29.65,  23.76,\n",
       "        27.7 ])"
      ]
     },
     "execution_count": 5,
     "metadata": {},
     "output_type": "execute_result"
    }
   ],
   "source": [
    "df['uclaNew'].values #unwraps the numpy array"
   ]
  },
  {
   "cell_type": "code",
   "execution_count": 6,
   "metadata": {},
   "outputs": [
    {
     "data": {
      "text/plain": [
       "0     29.67\n",
       "1     42.59\n",
       "2     33.68\n",
       "3     18.00\n",
       "4     20.95\n",
       "      ...  \n",
       "68    50.46\n",
       "69    41.55\n",
       "70    31.65\n",
       "71    25.76\n",
       "72    29.70\n",
       "Name: uclaNew, Length: 73, dtype: float64"
      ]
     },
     "execution_count": 6,
     "metadata": {},
     "output_type": "execute_result"
    }
   ],
   "source": [
    "#you can treat columns of a dataframe as a numpy array.\n",
    "#Vectorized math works on colmuns of dfs just like we\n",
    "#have been doing with normal arrays.\n",
    "\n",
    "df['uclaNew'] + 2"
   ]
  },
  {
   "cell_type": "code",
   "execution_count": 7,
   "metadata": {},
   "outputs": [
    {
     "name": "stdout",
     "output_type": "stream",
     "text": [
      "Index(['isbn', 'uclaNew', 'amazNew'], dtype='object')\n",
      "(73, 3)\n"
     ]
    }
   ],
   "source": [
    "print(df.columns)\n",
    "print(df.shape)"
   ]
  },
  {
   "cell_type": "code",
   "execution_count": null,
   "metadata": {},
   "outputs": [],
   "source": []
  },
  {
   "cell_type": "code",
   "execution_count": 8,
   "metadata": {},
   "outputs": [],
   "source": [
    "#bootstrap the data\n",
    "\n",
    "df['uclaNew']\n",
    "\n",
    "N = df.shape[0]\n",
    "R = 1001\n",
    "mus = np.full(R, np.nan)\n",
    "for r in range(R):\n",
    "    idx = np.random.choice(N, N, replace = 1)\n",
    "    mus[r] = minimize(ll_normal, (50), args = (df['uclaNew'][idx]),\\\n",
    "                      method = \"BFGS\").x #BFGS means we dont need bounds\n",
    "#mus.mean()"
   ]
  },
  {
   "cell_type": "code",
   "execution_count": 9,
   "metadata": {},
   "outputs": [
    {
     "data": {
      "text/plain": [
       "<matplotlib.collections.PathCollection at 0x11e048d68>"
      ]
     },
     "execution_count": 9,
     "metadata": {},
     "output_type": "execute_result"
    },
    {
     "data": {
      "image/png": "[encoded data removed]",
      "text/plain": [
       "<Figure size 432x288 with 1 Axes>"
      ]
     },
     "metadata": {
      "needs_background": "light"
     },
     "output_type": "display_data"
    }
   ],
   "source": [
    "bp.density(mus)\n",
    "bp.percentile_h(mus, y = 0)"
   ]
  },
  {
   "cell_type": "code",
   "execution_count": 10,
   "metadata": {},
   "outputs": [
    {
     "data": {
      "text/plain": [
       "<matplotlib.collections.PathCollection at 0x125d7fe80>"
      ]
     },
     "execution_count": 10,
     "metadata": {},
     "output_type": "execute_result"
    },
    {
     "data": {
      "image/png": "[encoded data removed]",
      "text/plain": [
       "<Figure size 432x288 with 1 Axes>"
      ]
     },
     "metadata": {
      "needs_background": "light"
     },
     "output_type": "display_data"
    }
   ],
   "source": [
    "#this is more common\n",
    "bp.density(df['uclaNew'])\n",
    "bp.percentile_h(mus, y = 0)"
   ]
  },
  {
   "cell_type": "code",
   "execution_count": 17,
   "metadata": {},
   "outputs": [
    {
     "name": "stdout",
     "output_type": "stream",
     "text": [
      "72.22191780821916 [67.76685093 77.20438567]\n",
      "72.22191780821916 [66.77055424 76.16438362]\n",
      "72.22191780821916 [68.01287001 77.14670179]\n",
      "72.22191780821916 [68.02737313 77.09656541]\n",
      "72.22191780821916 [68.10603712 76.51191819]\n",
      "72.22191780821916 [67.6843878  76.19370382]\n",
      "72.22191780821916 [67.51247264 76.48999802]\n",
      "72.22191780821916 [67.20096854 76.48109217]\n",
      "20.3 s ± 632 ms per loop (mean ± std. dev. of 7 runs, 1 loop each)\n"
     ]
    }
   ],
   "source": [
    "def optim(data, initval = None):\n",
    "    if not initval:\n",
    "        initval = np.random.normal()\n",
    "    return minimize(ll_normal, (initval), args = (data), method = \"BFGS\").x\n",
    "    \n",
    "def bootstrap(data, R, fun):\n",
    "    N = data.size\n",
    "    thetas = np.full(R, np.nan)\n",
    "    for r in range(R):\n",
    "        idx = np.random.choice(N, N, replace = True)\n",
    "        thetas[r] = fun(data[idx])\n",
    "    return np.percentile(thetas, [25, 75])\n",
    "\n",
    "R = 1001\n",
    "print(df['uclaNew'].mean(), bootstrap(df['uclaNew'], R, optim))\n",
    "print(df['amazNew'].mean(), bootstrap(df['amazNew'], R, optim))\n",
    "\n",
    "#20.3 s ± 632 ms per loop"
   ]
  },
  {
   "cell_type": "markdown",
   "metadata": {},
   "source": [
    "# 10.24"
   ]
  },
  {
   "cell_type": "markdown",
   "metadata": {},
   "source": [
    "Paired data: when you have two observations tied together. There exists a 1 to 1 telation between every observation in the data set. \n",
    "\n",
    "Ex: book price at amazon vs at ucla for a given book\n",
    "\n",
    "Ex: 2 measurements on oppisite sides of a symetric thing. for ex my arm lengths are paired to me. \n",
    "\n",
    "Ex: 2 measurements across one time point."
   ]
  },
  {
   "cell_type": "code",
   "execution_count": 23,
   "metadata": {},
   "outputs": [
    {
     "data": {
      "text/html": [
       "<div>\n",
       "<style scoped>\n",
       "    .dataframe tbody tr th:only-of-type {\n",
       "        vertical-align: middle;\n",
       "    }\n",
       "\n",
       "    .dataframe tbody tr th {\n",
       "        vertical-align: top;\n",
       "    }\n",
       "\n",
       "    .dataframe thead th {\n",
       "        text-align: right;\n",
       "    }\n",
       "</style>\n",
       "<table border=\"1\" class=\"dataframe\">\n",
       "  <thead>\n",
       "    <tr style=\"text-align: right;\">\n",
       "      <th></th>\n",
       "      <th>isbn</th>\n",
       "      <th>uclaNew</th>\n",
       "      <th>amazNew</th>\n",
       "      <th>diff</th>\n",
       "    </tr>\n",
       "  </thead>\n",
       "  <tbody>\n",
       "    <tr>\n",
       "      <td>0</td>\n",
       "      <td>978-0803272620</td>\n",
       "      <td>27.67</td>\n",
       "      <td>27.95</td>\n",
       "      <td>0.28</td>\n",
       "    </tr>\n",
       "    <tr>\n",
       "      <td>1</td>\n",
       "      <td>978-0030119194</td>\n",
       "      <td>40.59</td>\n",
       "      <td>31.14</td>\n",
       "      <td>-9.45</td>\n",
       "    </tr>\n",
       "    <tr>\n",
       "      <td>2</td>\n",
       "      <td>978-0300080643</td>\n",
       "      <td>31.68</td>\n",
       "      <td>32.00</td>\n",
       "      <td>0.32</td>\n",
       "    </tr>\n",
       "    <tr>\n",
       "      <td>3</td>\n",
       "      <td>978-0226206813</td>\n",
       "      <td>16.00</td>\n",
       "      <td>11.52</td>\n",
       "      <td>-4.48</td>\n",
       "    </tr>\n",
       "    <tr>\n",
       "      <td>4</td>\n",
       "      <td>978-0892365999</td>\n",
       "      <td>18.95</td>\n",
       "      <td>14.21</td>\n",
       "      <td>-4.74</td>\n",
       "    </tr>\n",
       "  </tbody>\n",
       "</table>\n",
       "</div>"
      ],
      "text/plain": [
       "             isbn  uclaNew  amazNew  diff\n",
       "0  978-0803272620    27.67    27.95  0.28\n",
       "1  978-0030119194    40.59    31.14 -9.45\n",
       "2  978-0300080643    31.68    32.00  0.32\n",
       "3  978-0226206813    16.00    11.52 -4.48\n",
       "4  978-0892365999    18.95    14.21 -4.74"
      ]
     },
     "execution_count": 23,
     "metadata": {},
     "output_type": "execute_result"
    }
   ],
   "source": [
    "df = pd.read_csv(\"https://raw.githubusercontent.com/roualdes/data/master/books.csv\")\n",
    "df['diff'] = df['amazNew'] - df['uclaNew']\n",
    "df.head()"
   ]
  },
  {
   "cell_type": "code",
   "execution_count": 28,
   "metadata": {},
   "outputs": [
    {
     "name": "stdout",
     "output_type": "stream",
     "text": [
      "we are 50% confident that the mean price of books at amazonis [-13.86369866 -11.71465579] cheaper than ucla bookstore\n"
     ]
    }
   ],
   "source": [
    "def ll_normal(mu, X):\n",
    "    d = X - mu\n",
    "    return np.sum(d * d) #products are cheaper than powers!\n",
    "\n",
    "def optim(data, initval = None):\n",
    "    if not initval:\n",
    "        initval = np.random.normal()\n",
    "    return minimize(ll_normal, (initval), args = (data), method = \"BFGS\").x\n",
    "    \n",
    "def bootstrap(data, R, fun):\n",
    "    N = data.size\n",
    "    thetas = np.full(R, np.nan)\n",
    "    for r in range(R):\n",
    "        idx = np.random.choice(N, N, replace = True)\n",
    "        thetas[r] = fun(data[idx])\n",
    "    return np.percentile(thetas, [25, 75])\n",
    "\n",
    "R = 1001\n",
    "print('we are 50% confident that the mean price of books at amazon\\\n",
    "is', bootstrap(df['diff'], R, optim), 'cheaper than ucla bookstore')\n",
    "\n",
    "      "
   ]
  },
  {
   "cell_type": "markdown",
   "metadata": {},
   "source": [
    "#### two sample means\n",
    "When you want to compare means amongst two variables. They may not have the same number of observations "
   ]
  },
  {
   "cell_type": "code",
   "execution_count": 29,
   "metadata": {},
   "outputs": [
    {
     "data": {
      "text/html": [
       "<div>\n",
       "<style scoped>\n",
       "    .dataframe tbody tr th:only-of-type {\n",
       "        vertical-align: middle;\n",
       "    }\n",
       "\n",
       "    .dataframe tbody tr th {\n",
       "        vertical-align: top;\n",
       "    }\n",
       "\n",
       "    .dataframe thead th {\n",
       "        text-align: right;\n",
       "    }\n",
       "</style>\n",
       "<table border=\"1\" class=\"dataframe\">\n",
       "  <thead>\n",
       "    <tr style=\"text-align: right;\">\n",
       "      <th></th>\n",
       "      <th>site</th>\n",
       "      <th>pop</th>\n",
       "      <th>sex</th>\n",
       "      <th>age</th>\n",
       "      <th>headL</th>\n",
       "      <th>skullW</th>\n",
       "      <th>totalL</th>\n",
       "      <th>tailL</th>\n",
       "    </tr>\n",
       "  </thead>\n",
       "  <tbody>\n",
       "    <tr>\n",
       "      <td>0</td>\n",
       "      <td>1</td>\n",
       "      <td>Vic</td>\n",
       "      <td>m</td>\n",
       "      <td>8.0</td>\n",
       "      <td>94.1</td>\n",
       "      <td>60.4</td>\n",
       "      <td>89.0</td>\n",
       "      <td>36.0</td>\n",
       "    </tr>\n",
       "    <tr>\n",
       "      <td>1</td>\n",
       "      <td>1</td>\n",
       "      <td>Vic</td>\n",
       "      <td>f</td>\n",
       "      <td>6.0</td>\n",
       "      <td>92.5</td>\n",
       "      <td>57.6</td>\n",
       "      <td>91.5</td>\n",
       "      <td>36.5</td>\n",
       "    </tr>\n",
       "    <tr>\n",
       "      <td>2</td>\n",
       "      <td>1</td>\n",
       "      <td>Vic</td>\n",
       "      <td>f</td>\n",
       "      <td>6.0</td>\n",
       "      <td>94.0</td>\n",
       "      <td>60.0</td>\n",
       "      <td>95.5</td>\n",
       "      <td>39.0</td>\n",
       "    </tr>\n",
       "    <tr>\n",
       "      <td>3</td>\n",
       "      <td>1</td>\n",
       "      <td>Vic</td>\n",
       "      <td>f</td>\n",
       "      <td>6.0</td>\n",
       "      <td>93.2</td>\n",
       "      <td>57.1</td>\n",
       "      <td>92.0</td>\n",
       "      <td>38.0</td>\n",
       "    </tr>\n",
       "    <tr>\n",
       "      <td>4</td>\n",
       "      <td>1</td>\n",
       "      <td>Vic</td>\n",
       "      <td>f</td>\n",
       "      <td>2.0</td>\n",
       "      <td>91.5</td>\n",
       "      <td>56.3</td>\n",
       "      <td>85.5</td>\n",
       "      <td>36.0</td>\n",
       "    </tr>\n",
       "  </tbody>\n",
       "</table>\n",
       "</div>"
      ],
      "text/plain": [
       "   site  pop sex  age  headL  skullW  totalL  tailL\n",
       "0     1  Vic   m  8.0   94.1    60.4    89.0   36.0\n",
       "1     1  Vic   f  6.0   92.5    57.6    91.5   36.5\n",
       "2     1  Vic   f  6.0   94.0    60.0    95.5   39.0\n",
       "3     1  Vic   f  6.0   93.2    57.1    92.0   38.0\n",
       "4     1  Vic   f  2.0   91.5    56.3    85.5   36.0"
      ]
     },
     "execution_count": 29,
     "metadata": {},
     "output_type": "execute_result"
    }
   ],
   "source": [
    "df = pd.read_csv('https://raw.githubusercontent.com/roualdes/data/master/possum.csv')\n",
    "df.head()"
   ]
  },
  {
   "cell_type": "markdown",
   "metadata": {},
   "source": [
    "model: When compairing a catagorical vatiable to a numeric vatiable you calculate the means of the catagories and find the difference"
   ]
  },
  {
   "cell_type": "code",
   "execution_count": 32,
   "metadata": {},
   "outputs": [
    {
     "data": {
      "text/plain": [
       "DesignMatrix with shape (104, 2)\n",
       "  Intercept  C(pop)[T.other]\n",
       "          1                0\n",
       "          1                0\n",
       "          1                0\n",
       "          1                0\n",
       "          1                0\n",
       "          1                0\n",
       "          1                0\n",
       "          1                0\n",
       "          1                0\n",
       "          1                0\n",
       "          1                0\n",
       "          1                0\n",
       "          1                0\n",
       "          1                0\n",
       "          1                0\n",
       "          1                0\n",
       "          1                0\n",
       "          1                0\n",
       "          1                0\n",
       "          1                0\n",
       "          1                0\n",
       "          1                0\n",
       "          1                0\n",
       "          1                0\n",
       "          1                0\n",
       "          1                0\n",
       "          1                0\n",
       "          1                0\n",
       "          1                0\n",
       "          1                0\n",
       "  [74 rows omitted]\n",
       "  Terms:\n",
       "    'Intercept' (column 0)\n",
       "    'C(pop)' (column 1)\n",
       "  (to view full data, use np.asarray(this_obj))"
      ]
     },
     "execution_count": 32,
     "metadata": {},
     "output_type": "execute_result"
    }
   ],
   "source": [
    "patsy.dmatrix('~C(pop)', data = df) \n",
    "#make a design marix based around the catagorical variable pop"
   ]
  },
  {
   "cell_type": "markdown",
   "metadata": {},
   "source": [
    "# 10.28\n",
    "\n",
    "restating \"2 sample means\" above ^\n",
    "\n",
    "to restate: we are interested in compairing the means of a numeric variable across two catigorial variables. $\\beta_1$ is the difference between the means. "
   ]
  },
  {
   "cell_type": "code",
   "execution_count": 1,
   "metadata": {},
   "outputs": [],
   "source": [
    "import numpy as np\n",
    "import bplot as bp\n",
    "import matplotlib.pyplot as plt\n",
    "import patsy\n",
    "import pandas as pd\n",
    "from scipy.optimize import minimize\n"
   ]
  },
  {
   "cell_type": "code",
   "execution_count": 2,
   "metadata": {},
   "outputs": [
    {
     "name": "stdout",
     "output_type": "stream",
     "text": [
      "[[81.5  1.   0. ]\n",
      " [82.5  1.   0. ]\n",
      " [89.   1.   0. ]\n",
      " [82.5  1.   0. ]\n",
      " [89.   1.   0. ]]\n"
     ]
    },
    {
     "data": {
      "text/html": [
       "<div>\n",
       "<style scoped>\n",
       "    .dataframe tbody tr th:only-of-type {\n",
       "        vertical-align: middle;\n",
       "    }\n",
       "\n",
       "    .dataframe tbody tr th {\n",
       "        vertical-align: top;\n",
       "    }\n",
       "\n",
       "    .dataframe thead th {\n",
       "        text-align: right;\n",
       "    }\n",
       "</style>\n",
       "<table border=\"1\" class=\"dataframe\">\n",
       "  <thead>\n",
       "    <tr style=\"text-align: right;\">\n",
       "      <th></th>\n",
       "      <th>site</th>\n",
       "      <th>pop</th>\n",
       "      <th>sex</th>\n",
       "      <th>age</th>\n",
       "      <th>headL</th>\n",
       "      <th>skullW</th>\n",
       "      <th>totalL</th>\n",
       "      <th>tailL</th>\n",
       "    </tr>\n",
       "  </thead>\n",
       "  <tbody>\n",
       "    <tr>\n",
       "      <td>0</td>\n",
       "      <td>1</td>\n",
       "      <td>vic</td>\n",
       "      <td>m</td>\n",
       "      <td>8.0</td>\n",
       "      <td>94.1</td>\n",
       "      <td>60.4</td>\n",
       "      <td>89.0</td>\n",
       "      <td>36.0</td>\n",
       "    </tr>\n",
       "    <tr>\n",
       "      <td>1</td>\n",
       "      <td>1</td>\n",
       "      <td>vic</td>\n",
       "      <td>f</td>\n",
       "      <td>6.0</td>\n",
       "      <td>92.5</td>\n",
       "      <td>57.6</td>\n",
       "      <td>91.5</td>\n",
       "      <td>36.5</td>\n",
       "    </tr>\n",
       "    <tr>\n",
       "      <td>2</td>\n",
       "      <td>1</td>\n",
       "      <td>vic</td>\n",
       "      <td>f</td>\n",
       "      <td>6.0</td>\n",
       "      <td>94.0</td>\n",
       "      <td>60.0</td>\n",
       "      <td>95.5</td>\n",
       "      <td>39.0</td>\n",
       "    </tr>\n",
       "    <tr>\n",
       "      <td>3</td>\n",
       "      <td>1</td>\n",
       "      <td>vic</td>\n",
       "      <td>f</td>\n",
       "      <td>6.0</td>\n",
       "      <td>93.2</td>\n",
       "      <td>57.1</td>\n",
       "      <td>92.0</td>\n",
       "      <td>38.0</td>\n",
       "    </tr>\n",
       "    <tr>\n",
       "      <td>4</td>\n",
       "      <td>1</td>\n",
       "      <td>vic</td>\n",
       "      <td>f</td>\n",
       "      <td>2.0</td>\n",
       "      <td>91.5</td>\n",
       "      <td>56.3</td>\n",
       "      <td>85.5</td>\n",
       "      <td>36.0</td>\n",
       "    </tr>\n",
       "  </tbody>\n",
       "</table>\n",
       "</div>"
      ],
      "text/plain": [
       "   site  pop sex  age  headL  skullW  totalL  tailL\n",
       "0     1  vic   m  8.0   94.1    60.4    89.0   36.0\n",
       "1     1  vic   f  6.0   92.5    57.6    91.5   36.5\n",
       "2     1  vic   f  6.0   94.0    60.0    95.5   39.0\n",
       "3     1  vic   f  6.0   93.2    57.1    92.0   38.0\n",
       "4     1  vic   f  2.0   91.5    56.3    85.5   36.0"
      ]
     },
     "execution_count": 2,
     "metadata": {},
     "output_type": "execute_result"
    }
   ],
   "source": [
    "df = pd.read_csv('https://raw.githubusercontent.com/roualdes/data/master/possum.csv')\n",
    "X = patsy.dmatrix('~C(pop)', data = df) \n",
    "yX = np.c_[df['totalL'], X]\n",
    "print(yX[-5:, :])\n",
    "df.head()"
   ]
  },
  {
   "cell_type": "code",
   "execution_count": 3,
   "metadata": {},
   "outputs": [
    {
     "data": {
      "text/plain": [
       "array([86.78793123,  0.67946003])"
      ]
     },
     "execution_count": 3,
     "metadata": {},
     "output_type": "execute_result"
    }
   ],
   "source": [
    "def ll_normal(beta, yX):\n",
    "    y = yX[:, 0]\n",
    "    X = yX[:, 1:]\n",
    "    N = X.shape[0]\n",
    "    mu = np.full(N, np.nan)\n",
    "    for n in range(N):\n",
    "        mu[n] = np.sum(X[n, :] * beta)\n",
    "    d = y - mu\n",
    "    return np.sum(d * d)\n",
    "\n",
    "betahat = minimize(ll_normal, np.random.normal(size=2), args = (yX), method = \"BFGS\").x\n",
    "\n",
    "betahat"
   ]
  },
  {
   "cell_type": "code",
   "execution_count": 4,
   "metadata": {},
   "outputs": [
    {
     "data": {
      "text/plain": [
       "pop\n",
       "other    86.787931\n",
       "vic      87.467391\n",
       "Name: totalL, dtype: float64"
      ]
     },
     "execution_count": 4,
     "metadata": {},
     "output_type": "execute_result"
    }
   ],
   "source": [
    "#simple code to get out the group means\n",
    "\n",
    "df.groupby('pop').totalL.agg(\"mean\")"
   ]
  },
  {
   "cell_type": "code",
   "execution_count": 5,
   "metadata": {},
   "outputs": [
    {
     "name": "stdout",
     "output_type": "stream",
     "text": [
      "0 5\n",
      "1 6\n",
      "2 7\n",
      "3 8\n",
      "4 9\n",
      "('other',      site    pop sex  age  headL  skullW  totalL  tailL\n",
      "46      3  other   m  2.0   90.1    54.8    89.0   37.5\n",
      "47      3  other   m  5.0   98.6    63.2    85.0   34.0\n",
      "48      3  other   m  4.0   95.4    59.2    85.0   37.0\n",
      "49      3  other   f  5.0   91.6    56.4    88.0   38.0\n",
      "50      3  other   f  5.0   95.6    59.6    85.0   36.0\n",
      "51      3  other   m  6.0   97.6    61.0    93.5   40.0\n",
      "52      3  other   f  3.0   93.1    58.1    91.0   38.0\n",
      "53      4  other   m  7.0   96.9    63.0    91.5   43.0\n",
      "54      4  other   m  2.0  103.1    63.2    92.5   38.0\n",
      "55      4  other   m  3.0   99.9    61.5    93.7   38.0\n",
      "56      4  other   f  4.0   95.1    59.4    93.0   41.0\n",
      "57      4  other   m  3.0   94.5    64.2    91.0   39.0\n",
      "58      4  other   m  2.0  102.5    62.8    96.0   40.0\n",
      "59      4  other   f  2.0   91.3    57.7    88.0   39.0\n",
      "60      5  other   m  7.0   95.7    59.0    86.0   38.0\n",
      "61      5  other   f  3.0   91.3    58.0    90.5   39.0\n",
      "62      5  other   f  6.0   92.0    56.4    88.5   38.0\n",
      "63      5  other   f  3.0   96.9    56.5    89.5   38.5\n",
      "64      5  other   f  5.0   93.5    57.4    88.5   38.0\n",
      "65      5  other   f  3.0   90.4    55.8    86.0   36.5\n",
      "66      5  other   m  4.0   93.3    57.6    85.0   36.5\n",
      "67      5  other   m  5.0   94.1    56.0    88.5   38.0\n",
      "68      5  other   m  5.0   98.0    55.6    88.0   37.5\n",
      "69      5  other   f  7.0   91.9    56.4    87.0   38.0\n",
      "70      5  other   m  6.0   92.8    57.6    90.0   40.0\n",
      "71      5  other   m  1.0   85.9    52.4    80.5   35.0\n",
      "72      5  other   m  1.0   82.5    52.3    82.0   36.5\n",
      "73      6  other   f  4.0   88.7    52.0    83.0   38.0\n",
      "74      6  other   m  6.0   93.8    58.1    89.0   38.0\n",
      "75      6  other   m  5.0   92.4    56.8    89.0   41.0\n",
      "76      6  other   m  6.0   93.6    56.2    84.0   36.0\n",
      "77      6  other   m  1.0   86.5    51.0    81.0   36.5\n",
      "78      6  other   m  1.0   85.8    50.0    81.0   36.5\n",
      "79      6  other   m  1.0   86.7    52.6    84.0   38.0\n",
      "80      6  other   m  3.0   90.6    56.0    85.5   38.0\n",
      "81      6  other   f  4.0   86.0    54.0    82.0   36.5\n",
      "82      6  other   f  3.0   90.0    53.8    81.5   36.0\n",
      "83      6  other   m  3.0   88.4    54.6    80.5   36.0\n",
      "84      6  other   m  3.0   89.5    56.2    92.0   40.5\n",
      "85      6  other   f  3.0   88.2    53.2    86.5   38.5\n",
      "86      7  other   m  2.0   98.5    60.7    93.0   41.5\n",
      "87      7  other   f  2.0   89.6    58.0    87.5   38.0\n",
      "88      7  other   m  6.0   97.7    58.4    84.5   35.0\n",
      "89      7  other   m  3.0   92.6    54.6    85.0   38.5\n",
      "90      7  other   m  3.0   97.8    59.6    89.0   38.0\n",
      "91      7  other   m  2.0   90.7    56.3    85.0   37.0\n",
      "92      7  other   m  3.0   89.2    54.0    82.0   38.0\n",
      "93      7  other   m  7.0   91.8    57.6    84.0   35.5\n",
      "94      7  other   m  4.0   91.6    56.6    88.5   37.5\n",
      "95      7  other   m  4.0   94.8    55.7    83.0   38.0\n",
      "96      7  other   m  3.0   91.0    53.1    86.0   38.0\n",
      "97      7  other   m  5.0   93.2    68.6    84.0   35.0\n",
      "98      7  other   f  3.0   93.3    56.2    86.5   38.5\n",
      "99      7  other   m  1.0   89.5    56.0    81.5   36.5\n",
      "100     7  other   m  1.0   88.6    54.7    82.5   39.0\n",
      "101     7  other   f  6.0   92.4    55.0    89.0   38.0\n",
      "102     7  other   m  4.0   91.5    55.2    82.5   36.5\n",
      "103     7  other   f  3.0   93.6    59.9    89.0   40.0)\n",
      "\n",
      "('vic',     site  pop sex  age  headL  skullW  totalL  tailL\n",
      "0      1  vic   m  8.0   94.1    60.4    89.0   36.0\n",
      "1      1  vic   f  6.0   92.5    57.6    91.5   36.5\n",
      "2      1  vic   f  6.0   94.0    60.0    95.5   39.0\n",
      "3      1  vic   f  6.0   93.2    57.1    92.0   38.0\n",
      "4      1  vic   f  2.0   91.5    56.3    85.5   36.0\n",
      "5      1  vic   f  1.0   93.1    54.8    90.5   35.5\n",
      "6      1  vic   m  2.0   95.3    58.2    89.5   36.0\n",
      "7      1  vic   f  6.0   94.8    57.6    91.0   37.0\n",
      "8      1  vic   f  9.0   93.4    56.3    91.5   37.0\n",
      "9      1  vic   f  6.0   91.8    58.0    89.5   37.5\n",
      "10     1  vic   f  9.0   93.3    57.2    89.5   39.0\n",
      "11     1  vic   f  5.0   94.9    55.6    92.0   35.5\n",
      "12     1  vic   m  5.0   95.1    59.9    89.5   36.0\n",
      "13     1  vic   m  3.0   95.4    57.6    91.5   36.0\n",
      "14     1  vic   m  5.0   92.9    57.6    85.5   34.0\n",
      "15     1  vic   m  4.0   91.6    56.0    86.0   34.5\n",
      "16     1  vic   f  1.0   94.7    67.7    89.5   36.5\n",
      "17     1  vic   m  2.0   93.5    55.7    90.0   36.0\n",
      "18     1  vic   f  5.0   94.4    55.4    90.5   35.0\n",
      "19     1  vic   f  4.0   94.8    56.3    89.0   38.0\n",
      "20     1  vic   f  3.0   95.9    58.1    96.5   39.5\n",
      "21     1  vic   m  3.0   96.3    58.5    91.0   39.5\n",
      "22     1  vic   f  4.0   92.5    56.1    89.0   36.0\n",
      "23     1  vic   m  2.0   94.4    54.9    84.0   34.0\n",
      "24     1  vic   m  3.0   95.8    58.5    91.5   35.5\n",
      "25     1  vic   m  7.0   96.0    59.0    90.0   36.0\n",
      "26     1  vic   f  2.0   90.5    54.5    85.0   35.0\n",
      "27     1  vic   m  4.0   93.8    56.8    87.0   34.5\n",
      "28     1  vic   f  3.0   92.8    56.0    88.0   35.0\n",
      "29     1  vic   f  2.0   92.1    54.4    84.0   33.5\n",
      "30     1  vic   m  3.0   92.8    54.1    93.0   37.0\n",
      "31     1  vic   f  4.0   94.3    56.7    94.0   39.0\n",
      "32     1  vic   m  3.0   91.4    54.6    89.0   37.0\n",
      "33     2  vic   m  2.0   90.6    55.7    85.5   36.5\n",
      "34     2  vic   m  4.0   94.4    57.9    85.0   35.5\n",
      "35     2  vic   m  7.0   93.3    59.3    88.0   35.0\n",
      "36     2  vic   f  2.0   89.3    54.8    82.5   35.0\n",
      "37     2  vic   m  7.0   92.4    56.0    80.5   35.5\n",
      "38     2  vic   f  1.0   84.7    51.5    75.0   34.0\n",
      "39     2  vic   f  3.0   91.0    55.0    84.5   36.0\n",
      "40     2  vic   f  5.0   88.4    57.0    83.0   36.5\n",
      "41     2  vic   m  3.0   85.3    54.1    77.0   32.0\n",
      "42     2  vic   f  2.0   90.0    55.5    81.0   32.0\n",
      "43     2  vic   m  NaN   85.1    51.5    76.0   35.5\n",
      "44     2  vic   m  3.0   90.7    55.9    81.0   34.0\n",
      "45     2  vic   m  NaN   91.4    54.4    84.0   35.0)\n"
     ]
    }
   ],
   "source": [
    "#This indexes a list/array \n",
    "for i, j in enumerate(range(5,10)):\n",
    "    print(i, j)\n",
    "    \n",
    "a , b = df.groupby('pop')\n",
    "print(a)\n",
    "print()\n",
    "print(b)"
   ]
  },
  {
   "cell_type": "code",
   "execution_count": 6,
   "metadata": {},
   "outputs": [
    {
     "name": "stdout",
     "output_type": "stream",
     "text": [
      "other\n",
      "\n",
      "     site    pop sex  age  headL  skullW  totalL  tailL\n",
      "46      3  other   m  2.0   90.1    54.8    89.0   37.5\n",
      "47      3  other   m  5.0   98.6    63.2    85.0   34.0\n",
      "48      3  other   m  4.0   95.4    59.2    85.0   37.0\n",
      "49      3  other   f  5.0   91.6    56.4    88.0   38.0\n",
      "50      3  other   f  5.0   95.6    59.6    85.0   36.0\n",
      "51      3  other   m  6.0   97.6    61.0    93.5   40.0\n",
      "52      3  other   f  3.0   93.1    58.1    91.0   38.0\n",
      "53      4  other   m  7.0   96.9    63.0    91.5   43.0\n",
      "54      4  other   m  2.0  103.1    63.2    92.5   38.0\n",
      "55      4  other   m  3.0   99.9    61.5    93.7   38.0\n",
      "56      4  other   f  4.0   95.1    59.4    93.0   41.0\n",
      "57      4  other   m  3.0   94.5    64.2    91.0   39.0\n",
      "58      4  other   m  2.0  102.5    62.8    96.0   40.0\n",
      "59      4  other   f  2.0   91.3    57.7    88.0   39.0\n",
      "60      5  other   m  7.0   95.7    59.0    86.0   38.0\n",
      "61      5  other   f  3.0   91.3    58.0    90.5   39.0\n",
      "62      5  other   f  6.0   92.0    56.4    88.5   38.0\n",
      "63      5  other   f  3.0   96.9    56.5    89.5   38.5\n",
      "64      5  other   f  5.0   93.5    57.4    88.5   38.0\n",
      "65      5  other   f  3.0   90.4    55.8    86.0   36.5\n",
      "66      5  other   m  4.0   93.3    57.6    85.0   36.5\n",
      "67      5  other   m  5.0   94.1    56.0    88.5   38.0\n",
      "68      5  other   m  5.0   98.0    55.6    88.0   37.5\n",
      "69      5  other   f  7.0   91.9    56.4    87.0   38.0\n",
      "70      5  other   m  6.0   92.8    57.6    90.0   40.0\n",
      "71      5  other   m  1.0   85.9    52.4    80.5   35.0\n",
      "72      5  other   m  1.0   82.5    52.3    82.0   36.5\n",
      "73      6  other   f  4.0   88.7    52.0    83.0   38.0\n",
      "74      6  other   m  6.0   93.8    58.1    89.0   38.0\n",
      "75      6  other   m  5.0   92.4    56.8    89.0   41.0\n",
      "76      6  other   m  6.0   93.6    56.2    84.0   36.0\n",
      "77      6  other   m  1.0   86.5    51.0    81.0   36.5\n",
      "78      6  other   m  1.0   85.8    50.0    81.0   36.5\n",
      "79      6  other   m  1.0   86.7    52.6    84.0   38.0\n",
      "80      6  other   m  3.0   90.6    56.0    85.5   38.0\n",
      "81      6  other   f  4.0   86.0    54.0    82.0   36.5\n",
      "82      6  other   f  3.0   90.0    53.8    81.5   36.0\n",
      "83      6  other   m  3.0   88.4    54.6    80.5   36.0\n",
      "84      6  other   m  3.0   89.5    56.2    92.0   40.5\n",
      "85      6  other   f  3.0   88.2    53.2    86.5   38.5\n",
      "86      7  other   m  2.0   98.5    60.7    93.0   41.5\n",
      "87      7  other   f  2.0   89.6    58.0    87.5   38.0\n",
      "88      7  other   m  6.0   97.7    58.4    84.5   35.0\n",
      "89      7  other   m  3.0   92.6    54.6    85.0   38.5\n",
      "90      7  other   m  3.0   97.8    59.6    89.0   38.0\n",
      "91      7  other   m  2.0   90.7    56.3    85.0   37.0\n",
      "92      7  other   m  3.0   89.2    54.0    82.0   38.0\n",
      "93      7  other   m  7.0   91.8    57.6    84.0   35.5\n",
      "94      7  other   m  4.0   91.6    56.6    88.5   37.5\n",
      "95      7  other   m  4.0   94.8    55.7    83.0   38.0\n",
      "96      7  other   m  3.0   91.0    53.1    86.0   38.0\n",
      "97      7  other   m  5.0   93.2    68.6    84.0   35.0\n",
      "98      7  other   f  3.0   93.3    56.2    86.5   38.5\n",
      "99      7  other   m  1.0   89.5    56.0    81.5   36.5\n",
      "100     7  other   m  1.0   88.6    54.7    82.5   39.0\n",
      "101     7  other   f  6.0   92.4    55.0    89.0   38.0\n",
      "102     7  other   m  4.0   91.5    55.2    82.5   36.5\n",
      "103     7  other   f  3.0   93.6    59.9    89.0   40.0\n",
      "vic\n",
      "\n",
      "    site  pop sex  age  headL  skullW  totalL  tailL\n",
      "0      1  vic   m  8.0   94.1    60.4    89.0   36.0\n",
      "1      1  vic   f  6.0   92.5    57.6    91.5   36.5\n",
      "2      1  vic   f  6.0   94.0    60.0    95.5   39.0\n",
      "3      1  vic   f  6.0   93.2    57.1    92.0   38.0\n",
      "4      1  vic   f  2.0   91.5    56.3    85.5   36.0\n",
      "5      1  vic   f  1.0   93.1    54.8    90.5   35.5\n",
      "6      1  vic   m  2.0   95.3    58.2    89.5   36.0\n",
      "7      1  vic   f  6.0   94.8    57.6    91.0   37.0\n",
      "8      1  vic   f  9.0   93.4    56.3    91.5   37.0\n",
      "9      1  vic   f  6.0   91.8    58.0    89.5   37.5\n",
      "10     1  vic   f  9.0   93.3    57.2    89.5   39.0\n",
      "11     1  vic   f  5.0   94.9    55.6    92.0   35.5\n",
      "12     1  vic   m  5.0   95.1    59.9    89.5   36.0\n",
      "13     1  vic   m  3.0   95.4    57.6    91.5   36.0\n",
      "14     1  vic   m  5.0   92.9    57.6    85.5   34.0\n",
      "15     1  vic   m  4.0   91.6    56.0    86.0   34.5\n",
      "16     1  vic   f  1.0   94.7    67.7    89.5   36.5\n",
      "17     1  vic   m  2.0   93.5    55.7    90.0   36.0\n",
      "18     1  vic   f  5.0   94.4    55.4    90.5   35.0\n",
      "19     1  vic   f  4.0   94.8    56.3    89.0   38.0\n",
      "20     1  vic   f  3.0   95.9    58.1    96.5   39.5\n",
      "21     1  vic   m  3.0   96.3    58.5    91.0   39.5\n",
      "22     1  vic   f  4.0   92.5    56.1    89.0   36.0\n",
      "23     1  vic   m  2.0   94.4    54.9    84.0   34.0\n",
      "24     1  vic   m  3.0   95.8    58.5    91.5   35.5\n",
      "25     1  vic   m  7.0   96.0    59.0    90.0   36.0\n",
      "26     1  vic   f  2.0   90.5    54.5    85.0   35.0\n",
      "27     1  vic   m  4.0   93.8    56.8    87.0   34.5\n",
      "28     1  vic   f  3.0   92.8    56.0    88.0   35.0\n",
      "29     1  vic   f  2.0   92.1    54.4    84.0   33.5\n",
      "30     1  vic   m  3.0   92.8    54.1    93.0   37.0\n",
      "31     1  vic   f  4.0   94.3    56.7    94.0   39.0\n",
      "32     1  vic   m  3.0   91.4    54.6    89.0   37.0\n",
      "33     2  vic   m  2.0   90.6    55.7    85.5   36.5\n",
      "34     2  vic   m  4.0   94.4    57.9    85.0   35.5\n",
      "35     2  vic   m  7.0   93.3    59.3    88.0   35.0\n",
      "36     2  vic   f  2.0   89.3    54.8    82.5   35.0\n",
      "37     2  vic   m  7.0   92.4    56.0    80.5   35.5\n",
      "38     2  vic   f  1.0   84.7    51.5    75.0   34.0\n",
      "39     2  vic   f  3.0   91.0    55.0    84.5   36.0\n",
      "40     2  vic   f  5.0   88.4    57.0    83.0   36.5\n",
      "41     2  vic   m  3.0   85.3    54.1    77.0   32.0\n",
      "42     2  vic   f  2.0   90.0    55.5    81.0   32.0\n",
      "43     2  vic   m  NaN   85.1    51.5    76.0   35.5\n",
      "44     2  vic   m  3.0   90.7    55.9    81.0   34.0\n",
      "45     2  vic   m  NaN   91.4    54.4    84.0   35.0\n"
     ]
    },
    {
     "data": {
      "image/png": "[encoded data removed]",
      "text/plain": [
       "<Figure size 432x288 with 1 Axes>"
      ]
     },
     "metadata": {
      "needs_background": "light"
     },
     "output_type": "display_data"
    }
   ],
   "source": [
    "for i, (name, gdf) in enumerate(df.groupby('pop')):\n",
    "    print(name)\n",
    "    print()\n",
    "    print(gdf)\n",
    "    x = np.repeat(i, gdf['totalL'].size)\n",
    "    y = gdf['totalL']\n",
    "    bp.jitter(x, y, jitter_y = 0, label = name, color = bp.color[i])\n",
    "    bp.legend()\n"
   ]
  },
  {
   "cell_type": "markdown",
   "metadata": {},
   "source": [
    "# 10.30\n",
    "\n",
    "restate ll_normal, plotting"
   ]
  },
  {
   "cell_type": "code",
   "execution_count": 7,
   "metadata": {},
   "outputs": [
    {
     "data": {
      "text/plain": [
       "<matplotlib.axes._subplots.AxesSubplot at 0x118949cc0>"
      ]
     },
     "execution_count": 7,
     "metadata": {},
     "output_type": "execute_result"
    },
    {
     "data": {
      "image/png": "[encoded data removed]",
      "text/plain": [
       "<Figure size 432x288 with 1 Axes>"
      ]
     },
     "metadata": {
      "needs_background": "light"
     },
     "output_type": "display_data"
    }
   ],
   "source": [
    "for i, (name, gdf) in enumerate(df.groupby('pop')):\n",
    "    x = np.repeat(i, gdf['totalL'].size)\n",
    "    y = gdf['totalL']\n",
    "    bp.jitter(x, y, jitter_y = 0, label = name, color = bp.color[i])\n",
    "    \n",
    "\n",
    "bp.labels(x = 'Population', y = 'Length (cm)' )\n",
    "bp.legend()"
   ]
  },
  {
   "cell_type": "markdown",
   "metadata": {},
   "source": [
    "In general: \n",
    "\n",
    "$$y_n \\sim N(\\mu_n, \\sigma^2)$$\n",
    "\n",
    "$$\\mu_n = \\beta_0 + \\beta_1 * x_n$$\n",
    "\n",
    "Spicifically:\n",
    "\n",
    "$$\\text{totalL_n} \\sim N(\\mu_n,, \\sigma^2)$$\n",
    "$$\\mu_n = \\beta_0 + \\beta_1 * \\text{vic}_n$$\n",
    "\n",
    "where vic is the design matrix!\n",
    "\n",
    "simplified log likleyhood for normal RV:\n",
    "\n",
    "$$\\sum_{n = 1}^N (y_n - \\mu)^2$$\n",
    "\n",
    "but now we have \n",
    "\\\n",
    "$$\\sum_{n = 1}^N (y_n - (\\beta_0 + \\beta_1 * x_n))^2$$"
   ]
  },
  {
   "cell_type": "code",
   "execution_count": 8,
   "metadata": {},
   "outputs": [
    {
     "data": {
      "text/plain": [
       "array([[1., 0.],\n",
       "       [1., 0.],\n",
       "       [1., 0.],\n",
       "       [1., 0.],\n",
       "       [1., 0.]])"
      ]
     },
     "execution_count": 8,
     "metadata": {},
     "output_type": "execute_result"
    }
   ],
   "source": [
    "X = patsy.dmatrix(\"~C(pop)\", data = df)\n",
    "yX = np.c_[df['totalL'], X]\n",
    "X = yX[:, 1:]\n",
    "X[-5:, :]"
   ]
  },
  {
   "cell_type": "markdown",
   "metadata": {},
   "source": [
    "# 11.1\n",
    "Now we allow for more than 2 levels of catagorigal variable"
   ]
  },
  {
   "cell_type": "code",
   "execution_count": 10,
   "metadata": {},
   "outputs": [
    {
     "data": {
      "text/plain": [
       "array([[87.16440673,  0.73559326],\n",
       "       [86.47999999,  1.42740744],\n",
       "       [86.3968253 ,  1.49341873],\n",
       "       ...,\n",
       "       [86.24444443,  2.4750677 ],\n",
       "       [85.85238086,  0.90371665],\n",
       "       [86.49531248,  0.6421875 ]])"
      ]
     },
     "execution_count": 10,
     "metadata": {},
     "output_type": "execute_result"
    }
   ],
   "source": [
    "import numpy as np\n",
    "import bplot as bp\n",
    "import matplotlib.pyplot as plt\n",
    "import patsy\n",
    "import pandas as pd\n",
    "from scipy.optimize import minimize\n",
    "\n",
    "def ll_normal(beta, yX):\n",
    "    y = yX[:, 0]\n",
    "    X = yX[:, 1:]\n",
    "    N = X.shape[0]\n",
    "    mu = np.full(N, np.nan)\n",
    "    for n in range(N):\n",
    "        mu[n] = np.sum(X[n, :] * beta)\n",
    "    d = y - mu\n",
    "    return np.sum(d * d)\n",
    "\n",
    "def optim(data, initval = None):\n",
    "    if not initval:\n",
    "        N, k = data.shape \n",
    "        k -= 1\n",
    "        initval = np.random.normal(size = k)\n",
    "    return minimize(ll_normal, (initval), args = (data), method = \"BFGS\").x\n",
    "    \n",
    "def bootstrap(data, R, fun):\n",
    "    N, k = data.shape\n",
    "    k -= 1\n",
    "    thetas = np.full((R, k), np.nan)\n",
    "    for r in range(R):\n",
    "        idx = np.random.choice(N, N, replace = True)\n",
    "        thetas[r, :] = fun(data[idx, :])\n",
    "    return thetas\n",
    "\n",
    "df = pd.read_csv('https://raw.githubusercontent.com/roualdes/data/master/possum.csv')\n",
    "X = patsy.dmatrix('~C(pop)', data = df) \n",
    "yX = np.c_[df['totalL'], X]\n",
    "\n",
    "R = 1001\n",
    "mus = bootstrap(yX, R, optim)\n",
    "\n",
    "mus"
   ]
  },
  {
   "cell_type": "code",
   "execution_count": 29,
   "metadata": {},
   "outputs": [
    {
     "name": "stdout",
     "output_type": "stream",
     "text": [
      "[85.76470588 87.77021269]\n",
      "[-1.17199386  2.41109472]\n",
      "do it with vectorization!!\n",
      "[[85.76470588 -1.17199386]\n",
      " [87.77021269  2.41109472]]\n",
      "matrix transpose to go by rows\n",
      "[[85.76470588 87.77021269]\n",
      " [-1.17199386  2.41109472]]\n"
     ]
    },
    {
     "data": {
      "image/png": "[encoded data removed]",
      "text/plain": [
       "<Figure size 432x288 with 1 Axes>"
      ]
     },
     "metadata": {
      "needs_background": "light"
     },
     "output_type": "display_data"
    }
   ],
   "source": [
    "bp.density(mus[:, 0], color = bp.color[0], label = 'beta_0')\n",
    "bp.density(mus[:, 1], color = bp.color[1], label = 'beta_1')\n",
    "bp.legend()\n",
    "\n",
    "print(np.percentile(mus[:, 0], [2.5,97.5]))\n",
    "print(np.percentile(mus[:, 1], [2.5,97.5]))\n",
    "print(\"do it with vectorization!!\")\n",
    "print(np.percentile(mus, [2.5, 97.5], axis = 0))\n",
    "print('matrix transpose to go by rows')\n",
    "print(np.percentile(mus, [2.5, 97.5], axis = 0).T)"
   ]
  },
  {
   "cell_type": "code",
   "execution_count": 32,
   "metadata": {},
   "outputs": [
    {
     "data": {
      "text/plain": [
       "array([85.91111124, 88.78260883])"
      ]
     },
     "execution_count": 32,
     "metadata": {},
     "output_type": "execute_result"
    }
   ],
   "source": [
    "#This gives the mean for the second population that is defined\n",
    "#as the sum as beta_0 and beta_1\n",
    "np.percentile(mus.sum(axis = 1), (2.5, 97.5))"
   ]
  },
  {
   "cell_type": "markdown",
   "metadata": {},
   "source": [
    "# 11.13"
   ]
  },
  {
   "cell_type": "code",
   "execution_count": 3,
   "metadata": {},
   "outputs": [],
   "source": [
    "import numpy as np\n",
    "import bplot as bp\n",
    "import matplotlib.pyplot as plt\n",
    "import patsy\n",
    "import pandas as pd\n",
    "from scipy.optimize import minimize\n",
    "import joblib\n",
    "\n",
    "def ll_normal(beta, yX):\n",
    "    y = yX[:, 0]\n",
    "    X = yX[:, 1:]\n",
    "    N = X.shape[0]\n",
    "    mu = np.full(N, np.nan)\n",
    "    for n in range(N):\n",
    "        mu[n] = np.sum(X[n, :] * beta)\n",
    "    d = y - mu\n",
    "    return np.sum(d * d)\n",
    "\n",
    "def optim(data, initval = None):\n",
    "    if not initval:\n",
    "        N, k = data.shape \n",
    "        k -= 1\n",
    "        initval = np.random.normal(size = k)\n",
    "    return minimize(ll_normal, (initval), args = (data), method = \"BFGS\").x\n",
    "    \n",
    "def bootstrap(data, R, fun):\n",
    "    N, k = data.shape\n",
    "    k -= 1\n",
    "    thetas = np.full((R, k), np.nan)\n",
    "    for r in range(R):\n",
    "        idx = np.random.choice(N, N, replace = True)\n",
    "        thetas[r, :] = fun(data[idx, :])\n",
    "    return thetas"
   ]
  },
  {
   "cell_type": "code",
   "execution_count": 2,
   "metadata": {},
   "outputs": [
    {
     "data": {
      "text/html": [
       "<div>\n",
       "<style scoped>\n",
       "    .dataframe tbody tr th:only-of-type {\n",
       "        vertical-align: middle;\n",
       "    }\n",
       "\n",
       "    .dataframe tbody tr th {\n",
       "        vertical-align: top;\n",
       "    }\n",
       "\n",
       "    .dataframe thead th {\n",
       "        text-align: right;\n",
       "    }\n",
       "</style>\n",
       "<table border=\"1\" class=\"dataframe\">\n",
       "  <thead>\n",
       "    <tr style=\"text-align: right;\">\n",
       "      <th></th>\n",
       "      <th>site</th>\n",
       "      <th>pop</th>\n",
       "      <th>sex</th>\n",
       "      <th>age</th>\n",
       "      <th>headL</th>\n",
       "      <th>skullW</th>\n",
       "      <th>totalL</th>\n",
       "      <th>tailL</th>\n",
       "    </tr>\n",
       "  </thead>\n",
       "  <tbody>\n",
       "    <tr>\n",
       "      <td>0</td>\n",
       "      <td>1</td>\n",
       "      <td>vic</td>\n",
       "      <td>m</td>\n",
       "      <td>8.0</td>\n",
       "      <td>94.1</td>\n",
       "      <td>60.4</td>\n",
       "      <td>89.0</td>\n",
       "      <td>36.0</td>\n",
       "    </tr>\n",
       "    <tr>\n",
       "      <td>1</td>\n",
       "      <td>1</td>\n",
       "      <td>vic</td>\n",
       "      <td>f</td>\n",
       "      <td>6.0</td>\n",
       "      <td>92.5</td>\n",
       "      <td>57.6</td>\n",
       "      <td>91.5</td>\n",
       "      <td>36.5</td>\n",
       "    </tr>\n",
       "    <tr>\n",
       "      <td>2</td>\n",
       "      <td>1</td>\n",
       "      <td>vic</td>\n",
       "      <td>f</td>\n",
       "      <td>6.0</td>\n",
       "      <td>94.0</td>\n",
       "      <td>60.0</td>\n",
       "      <td>95.5</td>\n",
       "      <td>39.0</td>\n",
       "    </tr>\n",
       "    <tr>\n",
       "      <td>3</td>\n",
       "      <td>1</td>\n",
       "      <td>vic</td>\n",
       "      <td>f</td>\n",
       "      <td>6.0</td>\n",
       "      <td>93.2</td>\n",
       "      <td>57.1</td>\n",
       "      <td>92.0</td>\n",
       "      <td>38.0</td>\n",
       "    </tr>\n",
       "    <tr>\n",
       "      <td>4</td>\n",
       "      <td>1</td>\n",
       "      <td>vic</td>\n",
       "      <td>f</td>\n",
       "      <td>2.0</td>\n",
       "      <td>91.5</td>\n",
       "      <td>56.3</td>\n",
       "      <td>85.5</td>\n",
       "      <td>36.0</td>\n",
       "    </tr>\n",
       "  </tbody>\n",
       "</table>\n",
       "</div>"
      ],
      "text/plain": [
       "   site  pop sex  age  headL  skullW  totalL  tailL\n",
       "0     1  vic   m  8.0   94.1    60.4    89.0   36.0\n",
       "1     1  vic   f  6.0   92.5    57.6    91.5   36.5\n",
       "2     1  vic   f  6.0   94.0    60.0    95.5   39.0\n",
       "3     1  vic   f  6.0   93.2    57.1    92.0   38.0\n",
       "4     1  vic   f  2.0   91.5    56.3    85.5   36.0"
      ]
     },
     "execution_count": 2,
     "metadata": {},
     "output_type": "execute_result"
    }
   ],
   "source": [
    "df = pd.read_csv(\"https://raw.githubusercontent.com/roualdes/data/master/possum.csv\")\n",
    "df.head()"
   ]
  },
  {
   "cell_type": "markdown",
   "metadata": {},
   "source": [
    "### 2 means model\n",
    "$$Y_n \\sim N(\\mu_n, \\sigma^2)$$\n",
    "$$\\mu_n = \\beta_0 + \\beta_1 x_n$$\n",
    "\n",
    "### Simple linear regression\n",
    "Now we change the catagorical vatiable and make it numeric. Put a \"best\" line through the data. \n",
    "\n",
    "The \"$x$\" is called the explanatory variable, \"$y$\" is the response. \"on the x axis is the 'x'planatory varable\""
   ]
  },
  {
   "cell_type": "code",
   "execution_count": 5,
   "metadata": {},
   "outputs": [
    {
     "data": {
      "text/plain": [
       "<matplotlib.collections.PathCollection at 0x11e789080>"
      ]
     },
     "execution_count": 5,
     "metadata": {},
     "output_type": "execute_result"
    },
    {
     "data": {
      "image/png": "[encoded data removed]",
      "text/plain": [
       "<Figure size 432x288 with 1 Axes>"
      ]
     },
     "metadata": {
      "needs_background": "light"
     },
     "output_type": "display_data"
    }
   ],
   "source": [
    "bp.point(df['tailL'],df['totalL'])"
   ]
  },
  {
   "cell_type": "code",
   "execution_count": 8,
   "metadata": {},
   "outputs": [
    {
     "data": {
      "text/plain": [
       "array([[89. ,  1. , 36. ],\n",
       "       [91.5,  1. , 36.5],\n",
       "       [95.5,  1. , 39. ],\n",
       "       [92. ,  1. , 38. ],\n",
       "       [85.5,  1. , 36. ]])"
      ]
     },
     "execution_count": 8,
     "metadata": {},
     "output_type": "execute_result"
    }
   ],
   "source": [
    "X = patsy.dmatrix(\"~ tailL\", data = df)\n",
    "yX = np.c_[df['totalL'], X]\n",
    "yX[:5, :]"
   ]
  },
  {
   "cell_type": "markdown",
   "metadata": {},
   "source": [
    "Dmatrix has the same logic, but it is numeric instead of an indicator"
   ]
  },
  {
   "cell_type": "code",
   "execution_count": 14,
   "metadata": {},
   "outputs": [
    {
     "data": {
      "text/plain": [
       "array([41.03721163,  1.24430501])"
      ]
     },
     "execution_count": 14,
     "metadata": {},
     "output_type": "execute_result"
    }
   ],
   "source": [
    "minimize(ll_normal, np.random.normal(size = 2), args = yX, method = \"BFGS\")['x']"
   ]
  },
  {
   "cell_type": "markdown",
   "metadata": {},
   "source": [
    "$$\\beta_0 + \\beta_1 x_n = \\mu_n \\rightarrow 41.0 + 1.2 x = \\mu$$\n",
    "\"For every 1 cm increse in tail length we expect total length to increse by a factor of 1.2\""
   ]
  },
  {
   "cell_type": "code",
   "execution_count": 29,
   "metadata": {},
   "outputs": [
    {
     "name": "stderr",
     "output_type": "stream",
     "text": [
      "/Users/herbiek9/anaconda/lib/python3.6/site-packages/scipy/optimize/optimize.py:1046: RuntimeWarning: divide by zero encountered in double_scalars\n",
      "  rhok = 1.0 / (numpy.dot(yk, sk))\n",
      "/Users/herbiek9/anaconda/lib/python3.6/site-packages/scipy/optimize/optimize.py:1046: RuntimeWarning: divide by zero encountered in double_scalars\n",
      "  rhok = 1.0 / (numpy.dot(yk, sk))\n"
     ]
    }
   ],
   "source": [
    "R = 1001\n",
    "betas = bootstrap(yX, R, optim)"
   ]
  },
  {
   "cell_type": "code",
   "execution_count": 30,
   "metadata": {},
   "outputs": [
    {
     "name": "stdout",
     "output_type": "stream",
     "text": [
      "[[33.11550296 48.98147102]\n",
      " [ 1.02908774  1.45178838]]\n",
      "\n"
     ]
    },
    {
     "data": {
      "image/png": "[encoded data removed]",
      "text/plain": [
       "<Figure size 432x288 with 1 Axes>"
      ]
     },
     "metadata": {
      "needs_background": "light"
     },
     "output_type": "display_data"
    },
    {
     "data": {
      "image/png": "[encoded data removed]",
      "text/plain": [
       "<Figure size 432x288 with 1 Axes>"
      ]
     },
     "metadata": {
      "needs_background": "light"
     },
     "output_type": "display_data"
    }
   ],
   "source": [
    "print(np.percentile(betas, [10, 90], axis = 0).T)\n",
    "\n",
    "bp.density(betas[0])\n",
    "plt.figure()\n",
    "bp.density(betas[1])\n",
    "print()"
   ]
  },
  {
   "cell_type": "markdown",
   "metadata": {},
   "source": [
    "Extrapolation- predicting outside of the range of data. It is dangerous and is the root of all evil. ex: if you only have "
   ]
  },
  {
   "cell_type": "markdown",
   "metadata": {},
   "source": [
    "# 11.14 \n",
    "## simple linear regression\n"
   ]
  },
  {
   "cell_type": "code",
   "execution_count": 4,
   "metadata": {},
   "outputs": [
    {
     "data": {
      "text/html": [
       "<div>\n",
       "<style scoped>\n",
       "    .dataframe tbody tr th:only-of-type {\n",
       "        vertical-align: middle;\n",
       "    }\n",
       "\n",
       "    .dataframe tbody tr th {\n",
       "        vertical-align: top;\n",
       "    }\n",
       "\n",
       "    .dataframe thead th {\n",
       "        text-align: right;\n",
       "    }\n",
       "</style>\n",
       "<table border=\"1\" class=\"dataframe\">\n",
       "  <thead>\n",
       "    <tr style=\"text-align: right;\">\n",
       "      <th></th>\n",
       "      <th>family_income</th>\n",
       "      <th>gift_aid</th>\n",
       "      <th>price_paid</th>\n",
       "    </tr>\n",
       "  </thead>\n",
       "  <tbody>\n",
       "    <tr>\n",
       "      <td>0</td>\n",
       "      <td>92.922</td>\n",
       "      <td>21.72</td>\n",
       "      <td>14.28</td>\n",
       "    </tr>\n",
       "    <tr>\n",
       "      <td>1</td>\n",
       "      <td>0.250</td>\n",
       "      <td>27.47</td>\n",
       "      <td>8.53</td>\n",
       "    </tr>\n",
       "    <tr>\n",
       "      <td>2</td>\n",
       "      <td>53.092</td>\n",
       "      <td>27.75</td>\n",
       "      <td>14.25</td>\n",
       "    </tr>\n",
       "    <tr>\n",
       "      <td>3</td>\n",
       "      <td>50.200</td>\n",
       "      <td>27.22</td>\n",
       "      <td>8.78</td>\n",
       "    </tr>\n",
       "    <tr>\n",
       "      <td>4</td>\n",
       "      <td>137.613</td>\n",
       "      <td>18.00</td>\n",
       "      <td>24.00</td>\n",
       "    </tr>\n",
       "  </tbody>\n",
       "</table>\n",
       "</div>"
      ],
      "text/plain": [
       "   family_income  gift_aid  price_paid\n",
       "0         92.922     21.72       14.28\n",
       "1          0.250     27.47        8.53\n",
       "2         53.092     27.75       14.25\n",
       "3         50.200     27.22        8.78\n",
       "4        137.613     18.00       24.00"
      ]
     },
     "execution_count": 4,
     "metadata": {},
     "output_type": "execute_result"
    }
   ],
   "source": [
    "df = pd.read_csv(\"https://raw.githubusercontent.com/roualdes/data/master/elmhurst.csv\")\n",
    "\n",
    "df.head()"
   ]
  },
  {
   "cell_type": "markdown",
   "metadata": {},
   "source": [
    "$$Y_n \\sim N(\\mu_n, \\sigma^2)$$\n",
    "each y point is a normal varable about a line with standard devation. $\\mu$ is given by\n",
    "$$\\mu_n = \\beta_0 + \\beta_1 x_n$$"
   ]
  },
  {
   "cell_type": "code",
   "execution_count": 7,
   "metadata": {},
   "outputs": [
    {
     "name": "stdout",
     "output_type": "stream",
     "text": [
      "\n"
     ]
    },
    {
     "data": {
      "image/png": "[encoded data removed]",
      "text/plain": [
       "<Figure size 432x288 with 1 Axes>"
      ]
     },
     "metadata": {
      "needs_background": "light"
     },
     "output_type": "display_data"
    }
   ],
   "source": [
    "plt.scatter(df['family_income'], df['gift_aid'])\n",
    "print()"
   ]
  },
  {
   "cell_type": "code",
   "execution_count": 8,
   "metadata": {},
   "outputs": [
    {
     "data": {
      "text/plain": [
       "array([[ 21.72 ,   1.   ,  92.922],\n",
       "       [ 27.47 ,   1.   ,   0.25 ],\n",
       "       [ 27.75 ,   1.   ,  53.092],\n",
       "       [ 27.22 ,   1.   ,  50.2  ],\n",
       "       [ 18.   ,   1.   , 137.613]])"
      ]
     },
     "execution_count": 8,
     "metadata": {},
     "output_type": "execute_result"
    }
   ],
   "source": [
    "X = patsy.dmatrix(\"~ family_income\", data = df)\n",
    "yX = np.c_[df['gift_aid'], X]\n",
    "yX[:5, :]"
   ]
  },
  {
   "cell_type": "code",
   "execution_count": 10,
   "metadata": {},
   "outputs": [
    {
     "data": {
      "text/plain": [
       "array([24.31933157, -0.04307168])"
      ]
     },
     "execution_count": 10,
     "metadata": {},
     "output_type": "execute_result"
    }
   ],
   "source": [
    "betahat = minimize(ll_normal, np.random.normal(size = 2), args = yX, method = \"BFGS\")['x']\n",
    "betahat"
   ]
  },
  {
   "cell_type": "markdown",
   "metadata": {},
   "source": [
    "when family income is at 0 we expect gift aid to be $\\$$24,000\n",
    "\n",
    "for every $\\$$1000 of additional income we expect the amount of gift aid to decrese by $\\$$.043 thousand "
   ]
  },
  {
   "cell_type": "code",
   "execution_count": 12,
   "metadata": {},
   "outputs": [
    {
     "name": "stdout",
     "output_type": "stream",
     "text": [
      "\n"
     ]
    },
    {
     "data": {
      "image/png": "[encoded data removed]",
      "text/plain": [
       "<Figure size 432x288 with 1 Axes>"
      ]
     },
     "metadata": {
      "needs_background": "light"
     },
     "output_type": "display_data"
    }
   ],
   "source": [
    "plt.plot(df['family_income'], betahat[0] + betahat[1] * df['family_income'], color = 'orange')\n",
    "plt.scatter(df['family_income'], df['gift_aid'])\n",
    "print()"
   ]
  },
  {
   "cell_type": "code",
   "execution_count": 19,
   "metadata": {},
   "outputs": [
    {
     "name": "stdout",
     "output_type": "stream",
     "text": [
      "20.012163785565765 thousand dollars\n",
      "20.012163785565765\n"
     ]
    }
   ],
   "source": [
    "#if income is 100,000 we expect gift aid to be\n",
    "\n",
    "print(betahat[0] + betahat[1] * 100, \"thousand dollars\")\n",
    "#better notation\n",
    "print(np.sum(betahat * np.asarray([1, 100])))"
   ]
  },
  {
   "cell_type": "code",
   "execution_count": 20,
   "metadata": {},
   "outputs": [
    {
     "name": "stderr",
     "output_type": "stream",
     "text": [
      "/Users/herbiek9/anaconda/lib/python3.6/site-packages/scipy/optimize/optimize.py:1046: RuntimeWarning: divide by zero encountered in double_scalars\n",
      "  rhok = 1.0 / (numpy.dot(yk, sk))\n",
      "/Users/herbiek9/anaconda/lib/python3.6/site-packages/scipy/optimize/optimize.py:1046: RuntimeWarning: divide by zero encountered in double_scalars\n",
      "  rhok = 1.0 / (numpy.dot(yk, sk))\n",
      "/Users/herbiek9/anaconda/lib/python3.6/site-packages/scipy/optimize/optimize.py:1046: RuntimeWarning: divide by zero encountered in double_scalars\n",
      "  rhok = 1.0 / (numpy.dot(yk, sk))\n",
      "/Users/herbiek9/anaconda/lib/python3.6/site-packages/scipy/optimize/optimize.py:1046: RuntimeWarning: divide by zero encountered in double_scalars\n",
      "  rhok = 1.0 / (numpy.dot(yk, sk))\n",
      "/Users/herbiek9/anaconda/lib/python3.6/site-packages/scipy/optimize/optimize.py:1046: RuntimeWarning: divide by zero encountered in double_scalars\n",
      "  rhok = 1.0 / (numpy.dot(yk, sk))\n"
     ]
    }
   ],
   "source": [
    "betas = bootstrap(yX, 1001, optim)"
   ]
  },
  {
   "cell_type": "code",
   "execution_count": 21,
   "metadata": {},
   "outputs": [
    {
     "data": {
      "text/plain": [
       "array([[22.89553162, 25.95422881],\n",
       "       [-0.05963614, -0.02972949]])"
      ]
     },
     "execution_count": 21,
     "metadata": {},
     "output_type": "execute_result"
    }
   ],
   "source": [
    "np.percentile(betas, [10, 90], axis = 0).T"
   ]
  },
  {
   "cell_type": "code",
   "execution_count": 22,
   "metadata": {},
   "outputs": [
    {
     "data": {
      "text/plain": [
       "array([[24.77203822, -0.04351578],\n",
       "       [22.79509103, -0.02906071],\n",
       "       [24.02936455, -0.03939499],\n",
       "       [25.15541748, -0.04296749],\n",
       "       [24.31892565, -0.04289876]])"
      ]
     },
     "execution_count": 22,
     "metadata": {},
     "output_type": "execute_result"
    }
   ],
   "source": [
    "betas[:5,:]"
   ]
  },
  {
   "cell_type": "code",
   "execution_count": 39,
   "metadata": {},
   "outputs": [
    {
     "name": "stdout",
     "output_type": "stream",
     "text": [
      "[19.12652236 20.81713186]\n",
      "we are 80% confident that if family income is $100 thousand the gift aidthe gift aid will be between $19 and $20 thousand\n"
     ]
    },
    {
     "data": {
      "image/png": "[encoded data removed]",
      "text/plain": [
       "<Figure size 432x288 with 1 Axes>"
      ]
     },
     "metadata": {
      "needs_background": "light"
     },
     "output_type": "display_data"
    }
   ],
   "source": [
    "#with $100,000 find a confadance interval of the expected aid\n",
    "R = 1001\n",
    "giftaidhat = np.full(R, np.nan)\n",
    "for i in range(R):\n",
    "    giftaidhat[i] = np.sum(betas[i, :] * np.asarray([1, 100])) \n",
    "bp.density(giftaidhat)\n",
    "print(np.percentile(giftaidhat, [10,90], axis = 0).T)\n",
    "print('we are 80% confident that if family income is $100 thousand the gift aid\\\n",
    "the gift aid will be between $19 and $20 thousand')"
   ]
  },
  {
   "cell_type": "code",
   "execution_count": 41,
   "metadata": {},
   "outputs": [
    {
     "name": "stdout",
     "output_type": "stream",
     "text": [
      "\n"
     ]
    },
    {
     "data": {
      "image/png": "[encoded data removed]",
      "text/plain": [
       "<Figure size 432x288 with 1 Axes>"
      ]
     },
     "metadata": {
      "needs_background": "light"
     },
     "output_type": "display_data"
    }
   ],
   "source": [
    "plt.plot(df['family_income'], betahat[0] + betahat[1] * df['family_income'], color = 'orange')\n",
    "plt.scatter(df['family_income'], df['gift_aid'])\n",
    "for i in range(R):\n",
    "    bp.line(df['family_income'], betas[i, 0] + betas[i, 1] * df['family_income'], color = 'orange', alpha = .01)\n",
    "print()"
   ]
  },
  {
   "cell_type": "code",
   "execution_count": 1,
   "metadata": {},
   "outputs": [],
   "source": [
    "import numpy as np\n",
    "import bplot as bp\n",
    "import matplotlib.pyplot as plt\n",
    "import patsy\n",
    "import pandas as pd\n",
    "from scipy.optimize import minimize\n",
    "import joblib\n",
    "\n",
    "def ll_normal(beta, yX):\n",
    "    y = yX[:, 0]\n",
    "    X = yX[:, 1:]\n",
    "    N = X.shape[0]\n",
    "    mu = np.full(N, np.nan)\n",
    "    for n in range(N):\n",
    "        mu[n] = np.sum(X[n, :] * beta)\n",
    "    d = y - mu\n",
    "    return np.sum(d * d)\n",
    "\n",
    "def optim(data, initval = None):\n",
    "    if not initval:\n",
    "        N, k = data.shape \n",
    "        k -= 1\n",
    "        initval = np.random.normal(size = k)\n",
    "    return minimize(ll_normal, (initval), args = (data), method = \"BFGS\").x\n",
    "    \n",
    "def bootstrap(data, R, fun):\n",
    "    N, k = data.shape\n",
    "    k -= 1\n",
    "    thetas = np.full((R, k), np.nan)\n",
    "    for r in range(R):\n",
    "        idx = np.random.choice(N, N, replace = True)\n",
    "        thetas[r, :] = fun(data[idx, :])\n",
    "    return thetas"
   ]
  },
  {
   "cell_type": "markdown",
   "metadata": {},
   "source": [
    "# 11.21\n",
    "\n",
    "Strength, linear, association, sign. "
   ]
  },
  {
   "cell_type": "code",
   "execution_count": 28,
   "metadata": {},
   "outputs": [
    {
     "data": {
      "text/html": [
       "<div>\n",
       "<style scoped>\n",
       "    .dataframe tbody tr th:only-of-type {\n",
       "        vertical-align: middle;\n",
       "    }\n",
       "\n",
       "    .dataframe tbody tr th {\n",
       "        vertical-align: top;\n",
       "    }\n",
       "\n",
       "    .dataframe thead th {\n",
       "        text-align: right;\n",
       "    }\n",
       "</style>\n",
       "<table border=\"1\" class=\"dataframe\">\n",
       "  <thead>\n",
       "    <tr style=\"text-align: right;\">\n",
       "      <th></th>\n",
       "      <th>x</th>\n",
       "      <th>y</th>\n",
       "    </tr>\n",
       "  </thead>\n",
       "  <tbody>\n",
       "    <tr>\n",
       "      <td>0</td>\n",
       "      <td>-1.294887</td>\n",
       "      <td>-2.789032</td>\n",
       "    </tr>\n",
       "    <tr>\n",
       "      <td>1</td>\n",
       "      <td>-2.907415</td>\n",
       "      <td>-8.366390</td>\n",
       "    </tr>\n",
       "    <tr>\n",
       "      <td>2</td>\n",
       "      <td>0.028784</td>\n",
       "      <td>1.171248</td>\n",
       "    </tr>\n",
       "    <tr>\n",
       "      <td>3</td>\n",
       "      <td>1.343520</td>\n",
       "      <td>5.558615</td>\n",
       "    </tr>\n",
       "    <tr>\n",
       "      <td>4</td>\n",
       "      <td>0.085153</td>\n",
       "      <td>-0.636680</td>\n",
       "    </tr>\n",
       "  </tbody>\n",
       "</table>\n",
       "</div>"
      ],
      "text/plain": [
       "          x         y\n",
       "0 -1.294887 -2.789032\n",
       "1 -2.907415 -8.366390\n",
       "2  0.028784  1.171248\n",
       "3  1.343520  5.558615\n",
       "4  0.085153 -0.636680"
      ]
     },
     "execution_count": 28,
     "metadata": {},
     "output_type": "execute_result"
    }
   ],
   "source": [
    "x = np.random.normal(size = 101)\n",
    "y = 3*x + np.random.normal(size = 101)\n",
    "df = pd.DataFrame({\"x\": x, \"y\": y})\n",
    "df.head()"
   ]
  },
  {
   "cell_type": "code",
   "execution_count": 29,
   "metadata": {},
   "outputs": [
    {
     "data": {
      "text/html": [
       "<div>\n",
       "<style scoped>\n",
       "    .dataframe tbody tr th:only-of-type {\n",
       "        vertical-align: middle;\n",
       "    }\n",
       "\n",
       "    .dataframe tbody tr th {\n",
       "        vertical-align: top;\n",
       "    }\n",
       "\n",
       "    .dataframe thead th {\n",
       "        text-align: right;\n",
       "    }\n",
       "</style>\n",
       "<table border=\"1\" class=\"dataframe\">\n",
       "  <thead>\n",
       "    <tr style=\"text-align: right;\">\n",
       "      <th></th>\n",
       "      <th>x</th>\n",
       "      <th>y</th>\n",
       "    </tr>\n",
       "  </thead>\n",
       "  <tbody>\n",
       "    <tr>\n",
       "      <td>x</td>\n",
       "      <td>1.000000</td>\n",
       "      <td>0.954204</td>\n",
       "    </tr>\n",
       "    <tr>\n",
       "      <td>y</td>\n",
       "      <td>0.954204</td>\n",
       "      <td>1.000000</td>\n",
       "    </tr>\n",
       "  </tbody>\n",
       "</table>\n",
       "</div>"
      ],
      "text/plain": [
       "          x         y\n",
       "x  1.000000  0.954204\n",
       "y  0.954204  1.000000"
      ]
     },
     "execution_count": 29,
     "metadata": {},
     "output_type": "execute_result"
    }
   ],
   "source": [
    "r = df.corr()\n",
    "r"
   ]
  },
  {
   "cell_type": "code",
   "execution_count": 46,
   "metadata": {},
   "outputs": [
    {
     "data": {
      "text/plain": [
       "0.9105045861215102"
      ]
     },
     "execution_count": 46,
     "metadata": {},
     "output_type": "execute_result"
    }
   ],
   "source": [
    "r = df.corr()['y'][0]\n",
    "r * r"
   ]
  },
  {
   "cell_type": "markdown",
   "metadata": {},
   "source": [
    "^that much^% of the variation in y is explained by this linear model"
   ]
  },
  {
   "cell_type": "code",
   "execution_count": 47,
   "metadata": {},
   "outputs": [
    {
     "data": {
      "text/plain": [
       "array([-0.13425819,  3.02103495])"
      ]
     },
     "execution_count": 47,
     "metadata": {},
     "output_type": "execute_result"
    }
   ],
   "source": [
    "df.sort_values(by = ['x'], inplace = True)\n",
    "X = patsy.dmatrix('~ x', data =df)\n",
    "yX = np.c_[df['y'], X]\n",
    "betahat = optim(yX)\n",
    "betahat"
   ]
  },
  {
   "cell_type": "code",
   "execution_count": 48,
   "metadata": {},
   "outputs": [],
   "source": [
    "N = yX.shape[0]\n",
    "k = yX.shape[1] - 1\n",
    "mu = np.full(N, np.nan)\n",
    "for n in range(N):\n",
    "    mu[n] = np.sum(yX[n, 1:] * betahat)"
   ]
  },
  {
   "cell_type": "code",
   "execution_count": 49,
   "metadata": {},
   "outputs": [
    {
     "data": {
      "text/plain": [
       "[<matplotlib.lines.Line2D at 0x12171c240>]"
      ]
     },
     "execution_count": 49,
     "metadata": {},
     "output_type": "execute_result"
    },
    {
     "data": {
      "image/png": "[encoded data removed]",
      "text/plain": [
       "<Figure size 432x288 with 1 Axes>"
      ]
     },
     "metadata": {
      "needs_background": "light"
     },
     "output_type": "display_data"
    }
   ],
   "source": [
    "bp.point(df['x'], df['y'])\n",
    "bp.line(df['x'], mu, color = 'orange')"
   ]
  },
  {
   "cell_type": "code",
   "execution_count": 50,
   "metadata": {},
   "outputs": [
    {
     "data": {
      "text/plain": [
       "0.08949541387849005"
      ]
     },
     "execution_count": 50,
     "metadata": {},
     "output_type": "execute_result"
    }
   ],
   "source": [
    "error = df['y'] - mu\n",
    "np.var(error) / np.var(df['y'])"
   ]
  },
  {
   "cell_type": "markdown",
   "metadata": {},
   "source": [
    "^ This is the percent of the unexplained variation relitive to the variation in y. This is the percent variation in y as explained by our model. this is equal to $1 - R^2$"
   ]
  },
  {
   "cell_type": "code",
   "execution_count": 54,
   "metadata": {},
   "outputs": [
    {
     "data": {
      "text/plain": [
       "0.9096005920419292"
      ]
     },
     "execution_count": 54,
     "metadata": {},
     "output_type": "execute_result"
    }
   ],
   "source": [
    "def adjustedR2(y, mu, k):\n",
    "    error = y - mu\n",
    "    return 1 - (np.var(error) / np.var(y)) * (N - 1) /(N - k)\n",
    "\n",
    "adjustedR2(df['y'], mu, k)"
   ]
  },
  {
   "cell_type": "markdown",
   "metadata": {},
   "source": [
    "# 12.4"
   ]
  },
  {
   "cell_type": "code",
   "execution_count": 8,
   "metadata": {},
   "outputs": [],
   "source": [
    "import numpy as np\n",
    "import bplot as bp\n",
    "import matplotlib.pyplot as plt\n",
    "import patsy\n",
    "import pandas as pd\n",
    "from scipy.optimize import minimize\n",
    "import joblib\n",
    "\n",
    "def ll_normal(beta, yX):\n",
    "    y = yX[:, 0]\n",
    "    X = yX[:, 1:]\n",
    "    N = X.shape[0]\n",
    "    mu = np.full(N, np.nan)\n",
    "    for n in range(N):\n",
    "        mu[n] = np.sum(X[n, :] * beta)\n",
    "    d = y - mu\n",
    "    return np.sum(d * d)\n",
    "\n",
    "def optim(data, initval = None):\n",
    "    if not initval:\n",
    "        N, k = data.shape \n",
    "        k -= 1\n",
    "        initval = np.random.normal(size = k)\n",
    "    return minimize(ll_normal, (initval), args = (data), method = \"BFGS\").x\n",
    "    \n",
    "def bootstrap(data, R, fun):\n",
    "    N, k = data.shape\n",
    "    k -= 1\n",
    "    thetas = np.full((R, k), np.nan)\n",
    "    for r in range(R):\n",
    "        idx = np.random.choice(N, N, replace = True)\n",
    "        thetas[r, :] = fun(data[idx, :])\n",
    "    return thetas"
   ]
  },
  {
   "cell_type": "code",
   "execution_count": 9,
   "metadata": {},
   "outputs": [],
   "source": [
    "df = pd.read_csv(\"https://raw.githubusercontent.com/roualdes/data/master/possum.csv\")\n"
   ]
  },
  {
   "cell_type": "markdown",
   "metadata": {},
   "source": [
    "We are adding in an offset to the line for male relitive to female. This model allows independent intersepts but they have the same slope.\n",
    "\n",
    "$totalL_n \\sim N(\\mu_n, \\sigma^2)$\n",
    "\n",
    "$\\mu_n = \\beta_0 + \\beta_1 * Male + \\beta_2 * headL$\n",
    "\n",
    "so for males the intersept is $\\beta_0 + \\beta_1 * 1$ and for females its $ \\beta_0 + \\beta_1 * 0 = \\beta_0$"
   ]
  },
  {
   "cell_type": "code",
   "execution_count": 11,
   "metadata": {},
   "outputs": [],
   "source": [
    "X = patsy.dmatrix(\"~ C(sex) + headL\", data = df)\n",
    "yX = np.c_[df['totalL'], X]\n",
    "betahat = optim(yX)"
   ]
  },
  {
   "cell_type": "code",
   "execution_count": 12,
   "metadata": {},
   "outputs": [
    {
     "data": {
      "text/plain": [
       "array(['f', 'm'], dtype=object)"
      ]
     },
     "execution_count": 12,
     "metadata": {},
     "output_type": "execute_result"
    }
   ],
   "source": [
    "np.unique(df['sex'])"
   ]
  },
  {
   "cell_type": "code",
   "execution_count": 13,
   "metadata": {},
   "outputs": [
    {
     "data": {
      "text/plain": [
       "array([ 8.26148227, -2.06457832,  0.86431361])"
      ]
     },
     "execution_count": 13,
     "metadata": {},
     "output_type": "execute_result"
    }
   ],
   "source": [
    "betahat"
   ]
  },
  {
   "cell_type": "markdown",
   "metadata": {},
   "source": [
    "Now allow for independent slopes\n",
    "\n",
    "\n",
    "$\\mu_n = \\beta_0 + \\beta_1 * Male + \\beta_2 * headL + \\beta_3 * headL * Male$"
   ]
  },
  {
   "cell_type": "code",
   "execution_count": 17,
   "metadata": {},
   "outputs": [
    {
     "data": {
      "text/plain": [
       "array([-28.72144266,  45.08354618,   1.26565264,  -0.51073288])"
      ]
     },
     "execution_count": 17,
     "metadata": {},
     "output_type": "execute_result"
    }
   ],
   "source": [
    "X = patsy.dmatrix(\"~ C(sex) + headL + C(sex):headL\", data = df)\n",
    "yX = np.c_[df['totalL'], X]\n",
    "betahat = optim(yX)\n",
    "betahat"
   ]
  },
  {
   "cell_type": "code",
   "execution_count": 30,
   "metadata": {},
   "outputs": [
    {
     "data": {
      "text/plain": [
       "85.18729517155552"
      ]
     },
     "execution_count": 30,
     "metadata": {},
     "output_type": "execute_result"
    }
   ],
   "source": [
    "# if a female possom had a length of 90mm we expect her head length would be 85cm\n",
    "np.sum(np.asarray([1, 0, 90, 0]) * betahat) #this is really an example row \n",
    "#of a design matrix"
   ]
  },
  {
   "cell_type": "code",
   "execution_count": 22,
   "metadata": {},
   "outputs": [
    {
     "data": {
      "text/plain": [
       "84.30488179132695"
      ]
     },
     "execution_count": 22,
     "metadata": {},
     "output_type": "execute_result"
    }
   ],
   "source": [
    "# if a male possom had a length of 90mm we expect his head length would be 84cm\n",
    "np.sum(np.asarray([1, 1, 90, 90]) * betahat)"
   ]
  },
  {
   "cell_type": "code",
   "execution_count": 37,
   "metadata": {},
   "outputs": [
    {
     "data": {
      "text/plain": [
       "array([87.4000528 , 88.35142678, 90.24990574, 89.23738363, 87.08577414,\n",
       "       89.11081836, 88.30595651, 91.26242786, 89.49051416, 87.46546993,\n",
       "       89.36394889, 91.38899312, 88.15497256, 88.38144849, 86.49414909,\n",
       "       85.5127534 , 91.13586259, 86.94710095, 90.7561668 , 91.26242786,\n",
       "       92.65464576, 89.06087627, 88.35142678, 87.62652873, 88.68341639,\n",
       "       88.83440034, 85.82012149, 87.17357687, 88.73112257, 87.84516572,\n",
       "       86.41865712, 90.62960153, 85.36176945, 84.75783365, 87.62652873,\n",
       "       86.79611699, 84.30133832, 86.11668921, 78.47933617, 86.45294781,\n",
       "       83.16225094, 80.75675893, 85.18729517, 80.60577497, 84.83332562,\n",
       "       85.36176945, 84.38037377, 90.79719171, 88.38144849, 87.2123394 ,\n",
       "       92.27494997, 90.04227196, 89.11081836, 89.51382812, 94.19433063,\n",
       "       91.7785874 , 91.64212365, 87.7020207 , 93.74137877, 86.83264361,\n",
       "       88.60792441, 86.83264361, 87.71860046, 93.92029841, 89.61707942,\n",
       "       85.69355623, 86.79611699, 87.4000528 , 90.34423986, 87.59203519,\n",
       "       86.41865712, 81.20971078, 78.6429836 , 83.54194674, 87.17357687,\n",
       "       86.11668921, 87.02259292, 81.66266264, 81.13421881, 81.81364659,\n",
       "       84.75783365, 80.1246846 , 85.18729517, 83.09701018, 83.92742191,\n",
       "       82.90912042, 90.72169974, 84.68103411, 90.11776393, 86.26767316,\n",
       "       90.19325591, 84.83332562, 83.70094598, 85.66373736, 85.5127534 ,\n",
       "       87.92849663, 85.05980155, 86.72062502, 89.36394889, 83.92742191,\n",
       "       83.24799413, 88.22486151, 85.43726143, 89.74364468])"
      ]
     },
     "execution_count": 37,
     "metadata": {},
     "output_type": "execute_result"
    }
   ],
   "source": [
    "def predict_normal(beta, X):\n",
    "    N = X.shape[0] #observations \n",
    "    mu = np.full(N, np.nan)\n",
    "    for n in range (N):\n",
    "         mu[n] = np.sum (X[n, :] * beta)\n",
    "    return mu\n",
    "\n",
    "def predict_normal_vec(beta, X):\n",
    "    return np.sum(beta * X, axis = 1)\n",
    "predict_normal(betahat, X)"
   ]
  },
  {
   "cell_type": "code",
   "execution_count": 38,
   "metadata": {},
   "outputs": [
    {
     "data": {
      "image/png": "[encoded data removed]",
      "text/plain": [
       "<Figure size 432x288 with 1 Axes>"
      ]
     },
     "metadata": {
      "needs_background": "light"
     },
     "output_type": "display_data"
    }
   ],
   "source": [
    "for i, (name, gdf) in enumerate(df.groupby('sex')):\n",
    "    x = gdf['headL']; col = bp.color[i]\n",
    "    bp.point(x , gdf['totalL'], color = col)\n",
    "    \n",
    "    idx = df['sex'] == name\n",
    "    bp.line(x, predict_normal_vec(betahat, X[idx, : ]), color = col)"
   ]
  },
  {
   "cell_type": "code",
   "execution_count": null,
   "metadata": {},
   "outputs": [],
   "source": []
  },
  {
   "cell_type": "code",
   "execution_count": null,
   "metadata": {},
   "outputs": [],
   "source": []
  }
 ],
 "metadata": {
  "kernelspec": {
   "display_name": "Python 3",
   "language": "python",
   "name": "python3"
  },
  "language_info": {
   "codemirror_mode": {
    "name": "ipython",
    "version": 3
   },
   "file_extension": ".py",
   "mimetype": "text/x-python",
   "name": "python",
   "nbconvert_exporter": "python",
   "pygments_lexer": "ipython3",
   "version": "3.6.1"
  }
 },
 "nbformat": 4,
 "nbformat_minor": 2
}

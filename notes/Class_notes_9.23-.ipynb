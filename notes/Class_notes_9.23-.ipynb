{
 "cells": [
  {
   "cell_type": "markdown",
   "metadata": {},
   "source": [
    "# 9.23"
   ]
  },
  {
   "cell_type": "markdown",
   "metadata": {},
   "source": [
    "## Population mean\n",
    "\n",
    "$\\textbf{E}(X) = \\sum_S x f(x) $ \n",
    "\n",
    "if $X$ ~ $\\text{Binomial}(K, p)$\n",
    "\n",
    "it turns out $\\textbf{E}(X) = K p $ \n",
    "\n",
    "#### example\n",
    "$X$ ~ $\\text{Binomial}(K = 10, p = .5)$ we expect 5 heads. $\\textbf{E}(X) = 10 * .5 = 5$\n",
    "\n",
    "#### example\n",
    "$X$ ~ $\\text{Binomial}(K = 11, p = .5)$ we expect 5.5 heads. $\\textbf{E}(X) = 11 * .5 = 5.5$. Population means do not need to be values in the support of the RV itself.\n",
    "\n",
    "#### example\n",
    "$X$ ~ $\\text{uniform}(a, b) \\rightarrow \\textbf{E}(x) = \\frac{b + a}{2}$"
   ]
  },
  {
   "cell_type": "markdown",
   "metadata": {},
   "source": [
    "## Likelihood Method\n",
    "\n",
    "$L(\\theta | x) = \\prod_{n = 1}^{N} f(x_n | \\theta)$\n",
    "\n",
    "$\\theta$ - populations parameter(s)\n",
    "\n",
    "$L$ - liklihood function\n",
    "\n",
    "$f(x)$ - probability density function\n",
    "\n",
    "$x_n$ - the observed RV in the array \n",
    "\n",
    "$x$ - the array of observed data\n",
    "\n",
    "#### Goal: What is the most likely value of \\theta, given the observed data x\n",
    "$\\hat{\\theta}$ = argmax$[L(\\theta | x)]$ Call $\\hat\\theta$ the maximum likelihood estimator\n",
    "\n",
    "#### example\n",
    "$X_1, X_2, ... X_N $ ~ Binomial$(K, p)$\n",
    "\n",
    "$L(p | x, K) = \\prod_{n = 1}^N$  $K\\choose{  n}$ $p^{x_n}(1-p)^{K - x_n}$\n",
    "\n",
    "    0) Take natural log (makes it easier for computer)\n",
    "    1) Take derivative with respect to p and simplify\n",
    "    2) Set derivative equal to 0\n",
    "    3) solve for p\n",
    "    \n",
    "board math $\\rightarrow \\hat p = \\frac{\\sum x_n}{K N}$"
   ]
  },
  {
   "cell_type": "markdown",
   "metadata": {},
   "source": [
    "# 9.25"
   ]
  },
  {
   "cell_type": "markdown",
   "metadata": {},
   "source": [
    "music recomendation: kokoroko"
   ]
  },
  {
   "cell_type": "markdown",
   "metadata": {},
   "source": [
    "$X_1, ..., X_N$ ~ Binomial$(K, p)$\n",
    "\n",
    "$L(p|\\underline X, k)$ Given the data what is the most likley value of pop paramater p. \n",
    "\n",
    "$L(p|\\underline X, k) = \\prod_{n = 1}^ N f(X_N|p)$\n",
    "\n",
    "We want the \"maximum likliyhood estimator\", $\\hat p = \\text{argmax}_p L(p|\\underline X, k)$\n",
    "\n",
    "for simplicity take natural log. he calls \"ln\" \"log\"\n",
    "\n",
    "$ln(L(p|\\underline{X}, k))\\\\ \n",
    "= \\sum_{n = 1} ^ N ln f(x_n | p)\\\\ \n",
    "= \\sum_{n = 1} ^ N ln({k \\choose N} p^{x_n} * (1-p)^{k-x_n})\\\\ =\\sum_{n = 1} ^ N ln({k \\choose N}) + ln( p^{x_n}) + ln( (1-p)^{k-x_n}) \\\\\n",
    "= \\sum_{n = 1} ^ N ln({k \\choose N}) + x_n ln( p) + (k-x_n) ln (1-p)\\\\ \n",
    "\\propto _p \\sum_{n = 1} ^ N x_n ln( p) + *(k-x_n) ln (1-p) $\n",
    "\n",
    "Lets write this simplified log-likelihood function in python\n",
    "\n",
    "def(LL_binomial(p, X, k)):"
   ]
  },
  {
   "cell_type": "markdown",
   "metadata": {},
   "source": [
    "#### Why is it a product example:\n",
    "Bernoulli = H, T, H\n",
    "\n",
    "p of this outcome = p * (1-p) * p\n",
    "\n",
    "p came from the probability density function, so this is really $f(1) * f(0) * f(1) = f(x_1) * ... = \\prod_{n = 1} ^N f(x_n) $"
   ]
  },
  {
   "cell_type": "markdown",
   "metadata": {},
   "source": [
    "now take $\\frac{d}{dp}\\sum_{n = 1} ^ N x_n ln( p) + (k-x_n) ln (1-p)  \\\\ = \\sum_{n = 1} ^ N \\frac{p}{ x_n} - \\frac{k-x_n} {1-p}   $ \n",
    "\n",
    "so,\n",
    "\n",
    "$\\sum_{n = 1} ^ N \\frac{p}{ x_n} = \\sum_{n = 1} ^ N \\frac{k-x_n} {1-p}$\n",
    "\n",
    "\n",
    "$\\sum_{n = 1} ^ N x_n - p \\sum_{n = 1} ^ N x_n   = p * K * k - p \\sum_{n = 1} ^ N x_n$\n",
    "\n",
    "\n",
    "$\\sum_{n = 1} ^ N x_n    = p * K * k $\n",
    "\n",
    "This gives $\\hat p$, maximum likliyhood estimator\n",
    "\n",
    "$\\hat p  = \\frac{\\sum_{n = 1} ^ N x_n}{N * k}$\n",
    "\n",
    "This is intutitive. $\\textbf{E}(X) = k * p$ and the sample mean is $\\frac{\\sum_{n = 1} ^ N x_n}{N}$ so $\\hat p $ is the mean over k, the piece you don't want\n"
   ]
  },
  {
   "cell_type": "code",
   "execution_count": 4,
   "metadata": {},
   "outputs": [],
   "source": [
    "def ll_binomial(p, X, K):\n",
    "    N = X.size\n",
    "    Sx = np.sum(X)\n",
    "    return -1 * np.log(p) * Sx - (N * K - Sx) * np.log(1 - p)"
   ]
  },
  {
   "cell_type": "code",
   "execution_count": 30,
   "metadata": {},
   "outputs": [],
   "source": [
    "N = 1001\n",
    "K = 12\n",
    "X = np.random.binomial(K, 0.6, size = N)"
   ]
  },
  {
   "cell_type": "code",
   "execution_count": 31,
   "metadata": {},
   "outputs": [
    {
     "data": {
      "text/plain": [
       "      fun: array([8062.74711211])\n",
       " hess_inv: <1x1 LbfgsInvHessProduct with dtype=float64>\n",
       "      jac: array([-9.09494702e-05])\n",
       "  message: b'CONVERGENCE: REL_REDUCTION_OF_F_<=_FACTR*EPSMCH'\n",
       "     nfev: 14\n",
       "      nit: 5\n",
       "   status: 0\n",
       "  success: True\n",
       "        x: array([0.60431235])"
      ]
     },
     "execution_count": 31,
     "metadata": {},
     "output_type": "execute_result"
    }
   ],
   "source": [
    "#minimize(function, tuple of best guess, \n",
    "#arguements, method (always use this), bounds) \n",
    "#this is in hw 10\n",
    "\n",
    "minimize(ll_binomial, (0.5), args = (X, K), \n",
    "         method = \"L-BFGS-B\", bounds = [(1e-5, 1 - 1e-5)])"
   ]
  },
  {
   "cell_type": "markdown",
   "metadata": {},
   "source": [
    "# 9.26\n",
    "### Why math on a computer is hard\n",
    "\n",
    "in yesterday's example, we needed soft bounds else ln(0) is undefined and its bad!!"
   ]
  },
  {
   "cell_type": "code",
   "execution_count": 5,
   "metadata": {},
   "outputs": [
    {
     "ename": "NameError",
     "evalue": "name 'X' is not defined",
     "output_type": "error",
     "traceback": [
      "\u001b[0;31m---------------------------------------------------------------------------\u001b[0m",
      "\u001b[0;31mNameError\u001b[0m                                 Traceback (most recent call last)",
      "\u001b[0;32m<ipython-input-5-ee7fbf6c8e67>\u001b[0m in \u001b[0;36m<module>\u001b[0;34m\u001b[0m\n\u001b[1;32m      1\u001b[0m \u001b[0mp\u001b[0m \u001b[0;34m=\u001b[0m \u001b[0mnp\u001b[0m\u001b[0;34m.\u001b[0m\u001b[0mlinspace\u001b[0m\u001b[0;34m(\u001b[0m\u001b[0;36m1e-5\u001b[0m\u001b[0;34m,\u001b[0m \u001b[0;36m1\u001b[0m\u001b[0;34m-\u001b[0m\u001b[0;36m1e-5\u001b[0m\u001b[0;34m,\u001b[0m \u001b[0;36m101\u001b[0m\u001b[0;34m)\u001b[0m\u001b[0;34m\u001b[0m\u001b[0m\n\u001b[1;32m      2\u001b[0m \u001b[0mp\u001b[0m\u001b[0;34m\u001b[0m\u001b[0m\n\u001b[0;32m----> 3\u001b[0;31m \u001b[0mplt\u001b[0m\u001b[0;34m.\u001b[0m\u001b[0mplot\u001b[0m\u001b[0;34m(\u001b[0m\u001b[0mp\u001b[0m\u001b[0;34m,\u001b[0m \u001b[0mll_binomial\u001b[0m\u001b[0;34m(\u001b[0m\u001b[0mp\u001b[0m\u001b[0;34m,\u001b[0m \u001b[0mX\u001b[0m\u001b[0;34m,\u001b[0m \u001b[0mK\u001b[0m\u001b[0;34m)\u001b[0m\u001b[0;34m)\u001b[0m\u001b[0;34m\u001b[0m\u001b[0m\n\u001b[0m",
      "\u001b[0;31mNameError\u001b[0m: name 'X' is not defined"
     ]
    }
   ],
   "source": [
    "p = np.linspace(1e-5, 1-1e-5, 101)\n",
    "p\n",
    "plt.plot(p, ll_binomial(p, X, K))"
   ]
  },
  {
   "cell_type": "markdown",
   "metadata": {},
   "source": [
    "### Gamma Random Variable\n",
    "This is like homework 11\n",
    "\n",
    "$f(x|\\alpha, \\beta) = (\\beta^\\alpha \\Gamma(\\alpha))^{-1} x^{\\alpha - 1} e^{\\frac{-x} {\\beta}}$ for $\\alpha > 0, \\beta > 0, x > 0$\n",
    "\n",
    "$\\Gamma$ function is the generilization of factorial to non ints. if $\\alpha$ is an int,\n",
    "\n",
    "$\\Gamma(\\alpha) = (\\alpha - 1)!$\n",
    "\n",
    "but really,\n",
    "\n",
    "$\\Gamma(\\alpha) = \\int_0 ^\\infty x^{\\alpha - 1} e ^ x dx$\n",
    "\n",
    "Lets make a lileleyhood function\n",
    "$L(\\alpha, \\beta |\\underline{x}) = \\prod_{n=1}^N f(x_n|\\alpha, \\beta)$\n",
    "\n",
    "0) take log\n",
    "\n",
    "$\\sum log(f(x_n|\\alpha,\\beta))$\n",
    "\n",
    "$\\sum [-\\alpha log(\\beta) - log(\\Gamma(\\alpha)) + (\\alpha - 1) log(x_n) - \\frac{x_n}{\\beta}]$\n",
    "\n",
    "Screw this! Python does the derivitaves!"
   ]
  },
  {
   "cell_type": "code",
   "execution_count": 37,
   "metadata": {},
   "outputs": [],
   "source": [
    "from scipy.special import loggamma\n",
    "def ll_gamma(theta, X):\n",
    "    alpha = theta[0]\n",
    "    beta = theta[1]\n",
    "    Sx = np.sum(X)\n",
    "    N = X.size\n",
    "    return N * alpha * np.log(beta) + N * loggamma(alpha) -\\\n",
    "    (alpha - 1 ) * np.sum(np.log(X)) + Sx / beta"
   ]
  },
  {
   "cell_type": "code",
   "execution_count": 60,
   "metadata": {},
   "outputs": [],
   "source": [
    "N = 1001\n",
    "a = 1.24\n",
    "b = 12.43\n",
    "X = np.random.gamma(a,b,size = N)"
   ]
  },
  {
   "cell_type": "code",
   "execution_count": 61,
   "metadata": {},
   "outputs": [
    {
     "data": {
      "text/plain": [
       "      fun: 3699.2332225827786\n",
       " hess_inv: <2x2 LbfgsInvHessProduct with dtype=float64>\n",
       "      jac: array([-9.09494702e-05, -9.09494702e-05])\n",
       "  message: b'CONVERGENCE: REL_REDUCTION_OF_F_<=_FACTR*EPSMCH'\n",
       "     nfev: 60\n",
       "      nit: 19\n",
       "   status: 0\n",
       "  success: True\n",
       "        x: array([ 1.22090188, 12.27675704])"
      ]
     },
     "execution_count": 61,
     "metadata": {},
     "output_type": "execute_result"
    }
   ],
   "source": [
    "minimize(ll_gamma, (1,1), args = (X), \n",
    "         method = \"L-BFGS-B\", bounds = [(1e-5, np.inf), (1 - 1e-5, np.inf)])"
   ]
  },
  {
   "cell_type": "markdown",
   "metadata": {},
   "source": [
    "# 9.30\n",
    "### Differences between discrete and continous RV's\n",
    "\n",
    "Discrete RVs can take on at most a countably infinite set of values. $\\sum_{\\text{support}}f(x) = 1$\n",
    "\n",
    "Continuous have an uncountably infinite set of values. Now $\\int_{\\text{support}} f(x) dx = 1$\n",
    "\n",
    "$\\textbf{E}(g(x)) = \\int_\\text{support} g(x) * f(x) dx$\n",
    "\n",
    "#### ex\n",
    "$X$ ~ Exponential($\\lambda$)\n",
    "\n",
    "$f(x|\\lambda) = \\lambda e^{-\\lambda x}$\n",
    "\n",
    "Find $\\textbf{E}(X)$\n",
    "\n",
    "Just apply definition!\n",
    "\n",
    "$\\textbf{E}(g(x)) = \\int_0 ^\\infty x  \\lambda e^{-\\lambda x} dx$\n",
    "\n",
    "parts\n",
    "\n",
    "$= \\frac{1}{\\lambda}$"
   ]
  },
  {
   "cell_type": "markdown",
   "metadata": {},
   "source": [
    "# 10/7"
   ]
  },
  {
   "cell_type": "code",
   "execution_count": 1,
   "metadata": {},
   "outputs": [],
   "source": [
    "import numpy as np"
   ]
  },
  {
   "cell_type": "markdown",
   "metadata": {},
   "source": [
    "$X$ ~ Normal($\\mu, \\sigma ^2$)\n",
    "\n",
    "$\\textbf{E}(X) = \\mu$\n",
    "\n",
    "$\\textbf{V}(X) = \\sigma^2$\n",
    "\n",
    "Normal variable\n",
    "\n",
    "    \"bell curve\"\n",
    "    unimodal (one hump)\n",
    "    symmetric about $\\mu$\n",
    "    \n",
    "Ex: let $Y = X - \\mu$\n",
    "\n",
    "$\\textbf{E}(Y) = \\textbf{E}(X - \\mu) = \\textbf{E}(X) - \\mu$ \n",
    "\n",
    "This works because expectation is linear\n",
    "\n",
    "Subtract mean off of variable shifts distrubtion about zero\n",
    "\n",
    "so\n",
    "\n",
    "$ \\mu - \\mu = 0$\n",
    "\n",
    "Ex: let $Y = \\frac{X - \\mu}{\\sigma}$\n",
    "\n",
    "$\\textbf{E}(Y) = \\frac{1}{\\sigma} \\textbf{E}(X - \\mu) = 0 $\n",
    "\n",
    "for the same reason as before\n",
    "    \n",
    "Ex: let $Y = \\frac{X - \\mu}{\\sigma}$\n",
    "\n",
    "$\\textbf{V}(Y) = \\textbf{V}(\\frac{X - \\mu}{\\sigma}) = \\frac{1}{\\sigma^2} \\textbf{V}(X - \\mu) = \\frac{1}{\\sigma^2} \\textbf{V}(X) = \\frac{1}{\\sigma^2} * \\sigma^2 = 1$\n",
    "\n",
    "SO: by letting  $Y = \\frac{X - \\mu}{\\sigma}$ we take our normally distributed random variable and center it about zero with variance 1\n",
    "\n",
    "Sample mean itself is not a constant, it is its own RV. This is because it is an opperation that depends on RVs. Expecations do return constants because they opperate on population means where as sample means depend on real data with $N$ data points.\n",
    "\n",
    "$$\\textbf{E}(\\frac{1}{N} \\sum_{n=1}^N X_n) = \\frac{1}{N} \\textbf{E}(\\sum_{n=1}^N X_n)$$\n",
    "$$= \\frac{1}{N} \\sum_{n=1}^N  \\textbf{E}(X_n)$$\n",
    "$$= \\frac{1}{N} N \\mu = \\mu$$\n",
    "\n",
    "Let $X_1, ..., X_N$~$F$\n",
    "\n"
   ]
  },
  {
   "cell_type": "markdown",
   "metadata": {},
   "source": []
  },
  {
   "cell_type": "markdown",
   "metadata": {},
   "source": [
    "$X_1, ..., X_N$~$F$, all of which are independent\n",
    "$$\\textbf{V}(\\frac{1}{N} \\sum_{n=1}^N X_n) = \\frac{1}{N^2} \\textbf{V}(\\sum_{n=1}^N X_n)$$\n",
    "\n",
    "assuming independance,\n",
    "\n",
    "$$=\\frac{1}{N^2} \\sum_{n=1}^N  \\textbf{V}(X_n) $$\n",
    "\n",
    "$$= \\frac{\\sigma^2}{N}$$\n",
    "\n",
    "This is our uncertanty. The variance of the mean is the width of the guesses of the mean. \n",
    "\n",
    "We are quantifying how wrong our guesses are"
   ]
  },
  {
   "cell_type": "markdown",
   "metadata": {},
   "source": [
    "Let $\\textbf{E}(X) = \\mu$, all independant\n",
    "\n",
    "if $\\textbf{E}(X)  = \\mu & \\textbf{V}(X) = \\simga^2 < \\infty\n",
    "\n",
    "then\n",
    "\n",
    "$$\\frac{\\hat \\mu - \\mu}{\\frac{\\sigma}{\\sqrt{N}}} \\sim N(0,1) $$"
   ]
  },
  {
   "cell_type": "markdown",
   "metadata": {},
   "source": [
    "# 10.9\n",
    "### review\n",
    "$X_1, ... X_N \\sim _{iid} F$\n",
    "iid = independent identically distrubuted (independent data from the same population)\n",
    "\n",
    "#### central limit thrm \n",
    "\n",
    "If $\\textbf{E}(X) = \\mu$ and If $\\textbf{V}(X) = \\sigma^2 < \\infty$ then $ \\frac{\\hat\\mu - \\mu} {\\frac{\\sigma} {\\sqrt N}} \\dot \\sim N(\\mu = 0,\\sigma = 1)$ \n",
    "\n",
    "This means that the population mean, $\\hat \\mu$, is itself a normally distributed RV\n",
    "\n",
    "#### show this in python"
   ]
  },
  {
   "cell_type": "code",
   "execution_count": 31,
   "metadata": {},
   "outputs": [],
   "source": [
    "import numpy as np\n",
    "import matplotlib.pyplot as plt\n",
    "import bplot as bp"
   ]
  },
  {
   "cell_type": "code",
   "execution_count": 24,
   "metadata": {},
   "outputs": [
    {
     "data": {
      "text/plain": [
       "array([3.77743419, 4.21858289, 0.54949353, ..., 3.95018255, 2.98642116,\n",
       "       3.09152145])"
      ]
     },
     "execution_count": 24,
     "metadata": {},
     "output_type": "execute_result"
    }
   ],
   "source": [
    "#dont do this\n",
    "muhats1 = np.random.normal(np.pi, 2, 3).mean()\n",
    "muhats2 = np.random.normal(np.pi, 2, 3).mean()\n",
    "muhats3 = np.random.normal(np.pi, 2, 3).mean()\n",
    "muhats4 = np.random.normal(np.pi, 2, 3).mean()\n",
    "muhats5 = np.random.normal(np.pi, 2, 3).mean()\n",
    "\n",
    "#do this\n",
    "R = 1001\n",
    "muhats = np.full(R, np.nan) #preallocate memmory. Fill with nan to break if you dont populate something\n",
    "for r in range(R):\n",
    "    muhats[r] = np.random.normal(np.pi, 2, 3).mean()\n",
    "muhats"
   ]
  },
  {
   "cell_type": "code",
   "execution_count": 25,
   "metadata": {},
   "outputs": [
    {
     "data": {
      "text/plain": [
       "(array([  1.,   3.,   5.,  15.,  29.,  44.,  65.,  90., 114., 118., 112.,\n",
       "        139., 106.,  74.,  34.,  22.,  18.,   6.,   4.,   2.]),\n",
       " array([-0.60818265, -0.23810915,  0.13196435,  0.50203785,  0.87211135,\n",
       "         1.24218485,  1.61225835,  1.98233184,  2.35240534,  2.72247884,\n",
       "         3.09255234,  3.46262584,  3.83269934,  4.20277284,  4.57284634,\n",
       "         4.94291984,  5.31299334,  5.68306684,  6.05314034,  6.42321384,\n",
       "         6.79328734]),\n",
       " <a list of 20 Patch objects>)"
      ]
     },
     "execution_count": 25,
     "metadata": {},
     "output_type": "execute_result"
    },
    {
     "data": {
      "image/png": "[encoded data removed]",
      "text/plain": [
       "<Figure size 432x288 with 1 Axes>"
      ]
     },
     "metadata": {
      "needs_background": "light"
     },
     "output_type": "display_data"
    }
   ],
   "source": [
    "plt.hist(muhats, bins = 20)"
   ]
  },
  {
   "cell_type": "code",
   "execution_count": 26,
   "metadata": {},
   "outputs": [
    {
     "name": "stdout",
     "output_type": "stream",
     "text": [
      "std of z =  0.9825579145849849\n"
     ]
    },
    {
     "data": {
      "image/png": "[encoded data removed]",
      "text/plain": [
       "<Figure size 432x288 with 1 Axes>"
      ]
     },
     "metadata": {
      "needs_background": "light"
     },
     "output_type": "display_data"
    }
   ],
   "source": [
    "#normlize\n",
    "z = (muhats - np.pi) / (2 / np.sqrt(3)) \n",
    "\n",
    "plt.hist(z, bins = 20)\n",
    "print(\"std of z = \", z.std())"
   ]
  },
  {
   "cell_type": "code",
   "execution_count": 32,
   "metadata": {},
   "outputs": [
    {
     "data": {
      "text/plain": [
       "[<matplotlib.lines.Line2D at 0x11bf81128>]"
      ]
     },
     "execution_count": 32,
     "metadata": {},
     "output_type": "execute_result"
    },
    {
     "data": {
      "image/png": "[encoded data removed]",
      "text/plain": [
       "<Figure size 432x288 with 1 Axes>"
      ]
     },
     "metadata": {
      "needs_background": "light"
     },
     "output_type": "display_data"
    }
   ],
   "source": [
    "bp.density(z)"
   ]
  },
  {
   "cell_type": "markdown",
   "metadata": {},
   "source": []
  },
  {
   "cell_type": "code",
   "execution_count": 35,
   "metadata": {},
   "outputs": [
    {
     "data": {
      "text/plain": [
       "[<matplotlib.lines.Line2D at 0x11bf9a160>]"
      ]
     },
     "execution_count": 35,
     "metadata": {},
     "output_type": "execute_result"
    },
    {
     "data": {
      "image/png": "[encoded data removed]",
      "text/plain": [
       "<Figure size 432x288 with 1 Axes>"
      ]
     },
     "metadata": {
      "needs_background": "light"
     },
     "output_type": "display_data"
    }
   ],
   "source": [
    "#increse observations to 30, trials to 1, bernulie, p = .64\n",
    "R = 1001\n",
    "muhats = np.full(R, np.nan) #preallocate memmory. Fill with nan to break if you dont populate something\n",
    "for r in range(R):\n",
    "    muhats[r] = np.random.normal(1, .64, 30).mean()\n",
    "    \n",
    "z = (muhats - .64) / (np.sqrt(.64 * (1 - .64)/30)) #variance of bernulli = p(1-p)\n",
    "bp.density(z)"
   ]
  },
  {
   "cell_type": "code",
   "execution_count": 38,
   "metadata": {},
   "outputs": [
    {
     "data": {
      "text/plain": [
       "0.9894055250688116"
      ]
     },
     "execution_count": 38,
     "metadata": {},
     "output_type": "execute_result"
    }
   ],
   "source": [
    "#back to normal example\n",
    "R = 1001\n",
    "muhats = np.full(R, np.nan) #preallocate memmory. Fill with nan to break if you dont populate something\n",
    "for r in range(R):\n",
    "    muhats[r] = np.random.normal(np.pi, 2, 30).mean()\n",
    "    \n",
    "z = (muhats - np.pi) / (2 / np.sqrt(30))\n",
    "z.std()"
   ]
  },
  {
   "cell_type": "markdown",
   "metadata": {},
   "source": [
    "# 10.10\n",
    "\n",
    "$X_1, ... , X_N \\sim_{iid} F \\text{ and } \\textbf{V}(X) = \\sigma^2 < \\infty$\n",
    "\n",
    "$\\frac{\\hat \\mu - \\mu}{\\sigma/\\sqrt{N}}$ can go 2 ways\n",
    "1) how we get around the dependance on population parameters? ex) we need to know the population peramaters to find a guess at the statistic. This is kinda silly!\n",
    "\n",
    "2)How do we deal with a single data set?\n",
    "\n",
    "Today we take path 1. The key piece in the central lim thrm is in the denomater, the standard deviation of the sample mean. Can we use an array of $\\hat \\mu$ to figure out population peramaters \n",
    "\n"
   ]
  },
  {
   "cell_type": "code",
   "execution_count": 2,
   "metadata": {},
   "outputs": [],
   "source": [
    "import numpy as np\n",
    "import bplot as bp"
   ]
  },
  {
   "cell_type": "code",
   "execution_count": 15,
   "metadata": {},
   "outputs": [],
   "source": [
    "R = 1001\n",
    "muhats = np.full(R, np.nan) #preallocate memmory. Fill with nan to break if you dont populate something\n",
    "for r in range(R):\n",
    "    muhats[r] = np.random.normal(np.pi, 2, 10).mean()\n",
    "    \n",
    "R = 1001\n",
    "muhats2 = np.full(R, np.nan) #preallocate memmory. Fill with nan to break if you dont populate something\n",
    "for r in range(R):\n",
    "    muhats2[r] = np.random.normal(np.pi, 2, 1001).mean()\n",
    "\n",
    "R = 10001\n",
    "muhats3 = np.full(R, np.nan) #preallocate memmory. Fill with nan to break if you dont populate something\n",
    "for r in range(R):\n",
    "    muhats3[r] = np.random.normal(np.pi, 2, 10).mean()"
   ]
  },
  {
   "cell_type": "code",
   "execution_count": 17,
   "metadata": {},
   "outputs": [
    {
     "data": {
      "text/plain": [
       "[<matplotlib.lines.Line2D at 0x11e01b9b0>]"
      ]
     },
     "execution_count": 17,
     "metadata": {},
     "output_type": "execute_result"
    },
    {
     "data": {
      "image/png": "[encoded data removed]",
      "text/plain": [
       "<Figure size 432x288 with 1 Axes>"
      ]
     },
     "metadata": {
      "needs_background": "light"
     },
     "output_type": "display_data"
    }
   ],
   "source": [
    "bp.density(muhats)\n",
    "bp.density(muhats2, color = 'red')\n",
    "bp.density(muhats3, color = 'orange')"
   ]
  },
  {
   "cell_type": "markdown",
   "metadata": {},
   "source": [
    "We dont need to know pop mean to know muhats2 has a mean close to what it should be."
   ]
  },
  {
   "cell_type": "code",
   "execution_count": 25,
   "metadata": {},
   "outputs": [
    {
     "name": "stdout",
     "output_type": "stream",
     "text": [
      "0.0632139541241014\n",
      "0.06171183699078792\n"
     ]
    }
   ],
   "source": [
    "print(2/np.sqrt(1001))\n",
    "print(muhats2.std())"
   ]
  },
  {
   "cell_type": "code",
   "execution_count": null,
   "metadata": {},
   "outputs": [],
   "source": []
  },
  {
   "cell_type": "markdown",
   "metadata": {},
   "source": [
    "We could also guess the mean by using the median."
   ]
  },
  {
   "cell_type": "code",
   "execution_count": 28,
   "metadata": {},
   "outputs": [],
   "source": [
    "R = 1001\n",
    "medianhats = np.full(R, np.nan) #preallocate memmory. Fill with nan to break if you dont populate something\n",
    "for r in range(R):\n",
    "    medianhats[r] = np.median(np.random.normal(np.pi, 2, 10))"
   ]
  },
  {
   "cell_type": "code",
   "execution_count": 30,
   "metadata": {},
   "outputs": [
    {
     "name": "stdout",
     "output_type": "stream",
     "text": [
      "3.126728628466738\n",
      "0.7448901772568078\n"
     ]
    },
    {
     "data": {
      "text/plain": [
       "[<matplotlib.lines.Line2D at 0x11e01beb8>]"
      ]
     },
     "execution_count": 30,
     "metadata": {},
     "output_type": "execute_result"
    },
    {
     "data": {
      "image/png": "[encoded data removed]",
      "text/plain": [
       "<Figure size 432x288 with 1 Axes>"
      ]
     },
     "metadata": {
      "needs_background": "light"
     },
     "output_type": "display_data"
    }
   ],
   "source": [
    "print(medianhats.mean())\n",
    "print(medianhats.std())\n",
    "bp.density(medianhats)"
   ]
  },
  {
   "cell_type": "code",
   "execution_count": 7,
   "metadata": {},
   "outputs": [],
   "source": [
    "import numpy as np\n",
    "import matplotlib.pyplot as plt\n",
    "import bplot as bp"
   ]
  },
  {
   "cell_type": "markdown",
   "metadata": {},
   "source": [
    "# 10.14\n",
    "\n",
    "Let $X \\sim N(\\mu, \\sigma ^2)$\n",
    "\n",
    "$\\textbf{E}(X) = \\mu$\n",
    "\n",
    "$X_1,..., X_R \\sim N(\\mu, \\sigma ^2)$\n",
    "\n",
    "$\\textbf{E}(X) = \\frac{1}{R} \\sum X_r$\n",
    "\n",
    "let $\\hat \\mu = \\frac{1}{N} \\sum X_n $\n",
    "\n",
    "$\\textbf{E}(\\hat \\mu) \\rightarrow \\hat \\mu_1, ..., \\hat \\mu_R \\dot \\sim N(\\mu, \\frac{\\sigma^2}{N})  $ from central limit thrm\n",
    "\n",
    "From this array of random vatiables we can estimate a population paramater\n",
    "\n",
    "$\\frac{1}{R} \\sum \\hat \\mu_r$\n",
    "\n",
    "let $T(\\underline{X})$\n",
    "\n",
    "$\\textbf{E}(\\hat T) \\rightarrow \\hat T_1, ..., \\hat T_R \\sim ???$ but we dont care becuse we have dropped dependance on population paramaters. The arrays of $\\hat T s$ has all the info we need. Also know variance is perportional to $N^{-1}$. The mean of the $\\hat T$ array is $\\textbf{E}(\\hat T)$\n",
    "\n",
    "We can also estimate std. \n",
    "\n",
    "$\\hat \\sigma = \\sqrt{\\frac{\\sum (x_r - \\hat \\mu)^2}{R}}$\n",
    "\n"
   ]
  },
  {
   "cell_type": "code",
   "execution_count": 8,
   "metadata": {},
   "outputs": [
    {
     "data": {
      "text/plain": [
       "[<matplotlib.lines.Line2D at 0x11a131518>]"
      ]
     },
     "execution_count": 8,
     "metadata": {},
     "output_type": "execute_result"
    },
    {
     "data": {
      "image/png": "[encoded data removed]",
      "text/plain": [
       "<Figure size 432x288 with 1 Axes>"
      ]
     },
     "metadata": {
      "needs_background": "light"
     },
     "output_type": "display_data"
    }
   ],
   "source": [
    "X = np.random.normal(np.pi, 2, 1001)\n",
    "N = X.size\n",
    "R = 1001\n",
    "muhats = np.full(R, np.nan)\n",
    "for r in range(R):\n",
    "    muhats[r] = np.std(np.random.choice(X, replace = True, size = N))\n",
    "\n",
    "bp.density(muhats)"
   ]
  },
  {
   "cell_type": "markdown",
   "metadata": {},
   "source": [
    "^ we resample R times to get the uncertany\n",
    "\n",
    "The name for the shape that a summery stat takes on is the sampeling distrubtion\n",
    "\n",
    "all summery stats have sampling distributions. The central limit thrm tells us that the sampling dist of the sample mean is aprox normal.\n",
    "\n",
    "summry stats are to be thought of as RV so they have distributions under repeated sampling. With bootstraping we can aproxamate pop params from a distribution we don't know. "
   ]
  },
  {
   "cell_type": "markdown",
   "metadata": {},
   "source": [
    "# 10.16\n",
    "\n",
    "$X_1, ... X_N \\rightarrow T(\\underline{X})$\n",
    "\n",
    "T is some function that computes a statistic (estimates pop param). T could be minimize(LLF)\n",
    "\n",
    "We wnat to quantify uncertanty of T\n",
    "\n",
    "Sample from origional data set with replacement\n",
    "First resample WITH REPLACEMENT $X_{1n}$\n",
    "\n",
    "$X_{11}, ... X_{1N} \\rightarrow T_1(\\underline{X})$\n",
    "\n",
    "$X_{21}, ... X_{2N} \\rightarrow T_2(\\underline{X})$\n",
    "\n",
    "...\n",
    "\n",
    "$X_{R1}, ... X_{RN} \\rightarrow T_R(\\underline{X})$\n",
    "\n",
    "If $T(\\underline{X}) = \\frac{1}{N}\\sum X_n$ the central limit thrm tells us that the *sampling distribution* of the sample mean is aproxamatly normal. \n",
    "\n",
    "\n",
    "When we do a bootstrap we get a bunch of $\\underline{T}(\\underline{X})$. None of them are more correct than the first T we calculated, we just need them to find the uncertanty. \n",
    "\n",
    "The bootstrap procedure does not matter what $T(\\underline{X})$ is. There does not need to be a central limit thrm. \n",
    "\n",
    "$\\frac{\\sigma}{\\sqrt{N}}$ is called \"standard error\"\n",
    "\n",
    "We are interested in a range of value within which we are somewhat confident that the actual paramater lies \n",
    "\n",
    "New word: percentile. The medial in the 50th percentile.  definition:$$ \\int_{- \\infty} ^{m} f(x)dx  = \\frac{1}{2}$$\n",
    "\n",
    "more genetal\n",
    "$$ \\int_{- \\infty} ^{\\pi_p} f(x)dx  = p$$\n",
    "\n",
    "If we had a sampling distribution that was not normal\n"
   ]
  },
  {
   "cell_type": "markdown",
   "metadata": {},
   "source": [
    "# 10.18\n",
    "\n",
    "### Other stats class\n",
    "CLT = $T(X) = \\frac{1}{N} \\sum X_n$\n",
    "\n",
    "$$\\hat \\mu_1, ..., \\hat \\mu_N  \\dot \\sim (\\mu, \\frac{\\sigma^2}{N})$$\n",
    "\n",
    "We provide a range of values that the stat is most likley within. \n",
    "\n"
   ]
  },
  {
   "cell_type": "code",
   "execution_count": 2,
   "metadata": {},
   "outputs": [],
   "source": [
    "import numpy as np\n",
    "import bplot as bp\n",
    "from scipy.stats import norm\n"
   ]
  },
  {
   "cell_type": "code",
   "execution_count": 3,
   "metadata": {},
   "outputs": [
    {
     "name": "stdout",
     "output_type": "stream",
     "text": [
      "[-2.05132793  1.81464835]\n"
     ]
    },
    {
     "data": {
      "text/plain": [
       "array([-1.95996398,  1.95996398])"
      ]
     },
     "execution_count": 3,
     "metadata": {},
     "output_type": "execute_result"
    }
   ],
   "source": [
    "muhats = np.random.normal(size = 999)\n",
    "print(np.percentile(muhats,[2.5,97.5]))\n",
    "norm(0,1).ppf([.025,.975])"
   ]
  },
  {
   "cell_type": "markdown",
   "metadata": {},
   "source": [
    "### This class\n",
    "\n",
    "$T(X)$ is not nesessarily the sample mean. \n",
    "\n",
    "$$\\hat T_1, ..., \\hat T_R \\dot \\sim ? $$\n",
    "\n",
    "We can still make a density plot and esitimate the sampling distribution. The mean of this gives the best guess of $\\hat T$. $T(\\underline{X}).std$ is still the standard error even tho the sampling distribution may not be symetric"
   ]
  },
  {
   "cell_type": "markdown",
   "metadata": {},
   "source": [
    "## Other class\n",
    "\n",
    "Report $\\hat \\mu \\pm 2 \\frac{\\sigma}{\\sqrt N}$\n",
    "\n",
    "## This class\n",
    "That does not work because the sampling distribution may not be symetric! \"We are 95% confident that the stat is with in the range such and such\""
   ]
  },
  {
   "cell_type": "code",
   "execution_count": 4,
   "metadata": {},
   "outputs": [
    {
     "name": "stdout",
     "output_type": "stream",
     "text": [
      "median =  3.034080213107716\n",
      "[2.88134229 3.1614884 ]\n"
     ]
    }
   ],
   "source": [
    "X = np.random.normal(np.pi, 2, size = 999)\n",
    "R = 1001\n",
    "print(\"median = \", np.median(X))\n",
    "medhats = np.full(R, np.nan)\n",
    "for r in range(R):\n",
    "    medhats[r] = np.median(np.random.choice(X, replace = 1, size = X.size))\n",
    "print(np.percentile(medhats, [2.5, 97.5]))"
   ]
  },
  {
   "cell_type": "markdown",
   "metadata": {},
   "source": [
    "# 10.21\n",
    "\n",
    "\n"
   ]
  },
  {
   "cell_type": "code",
   "execution_count": null,
   "metadata": {},
   "outputs": [],
   "source": []
  },
  {
   "cell_type": "code",
   "execution_count": 6,
   "metadata": {},
   "outputs": [
    {
     "data": {
      "text/plain": [
       "array([ 8, 43,  6])"
      ]
     },
     "execution_count": 6,
     "metadata": {},
     "output_type": "execute_result"
    }
   ],
   "source": [
    "#Example: index an array with an array\n",
    "Y = np.asarray([10,9,8,6,43])\n",
    "idy = np.asarray([2,4,3])\n",
    "Y[idy]"
   ]
  },
  {
   "cell_type": "code",
   "execution_count": 9,
   "metadata": {},
   "outputs": [
    {
     "name": "stdout",
     "output_type": "stream",
     "text": [
      "median =  3.2345841622175144\n",
      "[3.00054534 3.40540784]\n"
     ]
    }
   ],
   "source": [
    "X = np.random.normal(np.pi, 2, size = 999)\n",
    "N = X.size\n",
    "R = 1001\n",
    "print(\"median = \", np.median(X))\n",
    "medhats = np.full(R, np.nan)\n",
    "for r in range(R):\n",
    "    idx = np.random.choice(N, N, replace = 1)\n",
    "    medhats[r] = np.median(X[idx])\n",
    "print(np.percentile(medhats, [2.5, 97.5]))"
   ]
  },
  {
   "cell_type": "code",
   "execution_count": 49,
   "metadata": {},
   "outputs": [
    {
     "data": {
      "text/plain": [
       "array([2.83814712, 2.94644948])"
      ]
     },
     "execution_count": 49,
     "metadata": {},
     "output_type": "execute_result"
    }
   ],
   "source": [
    "#generilize. This is broken!!!\n",
    "X = np.random.normal(np.pi, 2, size = 999)\n",
    "R = 1001\n",
    "def bootstrap(data, R, fun, conf):\n",
    "    N = data.size\n",
    "    thetas = np.full(R, np.nan)\n",
    "    for r in range(R):\n",
    "        idx = np.random.choice(N, N, replace = 1)\n",
    "        thetas[r] = fun(data[idx])\n",
    "    return np.percentile(thetas, [(1 - conf)/2, 1 - ((1 - conf)/2)])\n",
    "    #return np.percentile(thetas, [.025,.975])\n",
    "bootstrap(X, R, np.median, .95)\n"
   ]
  },
  {
   "cell_type": "code",
   "execution_count": 50,
   "metadata": {},
   "outputs": [
    {
     "data": {
      "text/plain": [
       "array([[ 3.14159265,  3.14159265],\n",
       "       [ 2.92673872,  2.98824734],\n",
       "       [ 2.31988624,  2.48672327],\n",
       "       [ 2.18751335,  2.62841654],\n",
       "       [ 1.40202744,  2.29241585],\n",
       "       [ 0.41714255,  1.49089653],\n",
       "       [-0.08339026,  0.04790056],\n",
       "       [ 0.9011561 ,  1.33838819],\n",
       "       [-0.88286089,  0.07426051],\n",
       "       [ 0.99748348,  1.1978727 ],\n",
       "       [-1.83616158, -1.79667015],\n",
       "       [-2.42131379, -1.11787117],\n",
       "       [-2.09057623, -1.71672183],\n",
       "       [-3.10180098, -1.99995191],\n",
       "       [-0.18467298,  1.11410218],\n",
       "       [-4.21050397, -3.51117405],\n",
       "       [-0.78359656,  0.47984645],\n",
       "       [-3.11780951, -1.34290356],\n",
       "       [-1.91229207,  0.67617149],\n",
       "       [-1.54985775,  1.41184893]])"
      ]
     },
     "execution_count": 50,
     "metadata": {},
     "output_type": "execute_result"
    }
   ],
   "source": [
    "S = 20\n",
    "count = 0\n",
    "CI = np.full((S, 2), np.nan) #array of confidence intervals. \n",
    "for s in range(S):\n",
    "    X = np.random.normal(np.pi, s, size = 99)\n",
    "    CI[s, :] = bootstrap(X, R, np.median, .95)\n",
    "    if CI[s, 0] < np.pi and CI[s, 1] > np.pi:\n",
    "        count += 1\n",
    "np.round(count / S, 3)\n",
    "CI"
   ]
  },
  {
   "cell_type": "markdown",
   "metadata": {},
   "source": [
    "# 10.23\n",
    "\n",
    "Start modeling! \n",
    "\n",
    "Review simplified log likleyhood\n",
    "\n",
    "$$X_1, ..., X_N \\sim N(\\mu, \\sigma ^2)$$\n",
    "\n",
    "All we are interested in is $\\mu$\n",
    "\n",
    "$$L(\\mu \\ \\underline{X}) = \\prod _{n = 1} ^N f(X_n | \\mu)$$\n",
    "\n",
    "simplify log of likleyhood\n",
    "\n",
    "$$\\text{log} (L(\\mu | \\underline{X})) = \\sum_{n = 1} ^N \\text{log}f(X_n | \\mu)$$\n",
    "\n",
    "if $f(X_n | \\mu)$ is a normal dist and we throw out things that wont effect minimization\n",
    "\n",
    "$$\\boxed{\\propto \\sum_{n=1}^N -(X_N - \\mu)^2}$$\n",
    "\n"
   ]
  },
  {
   "cell_type": "markdown",
   "metadata": {},
   "source": [
    "Now change the mean \n",
    "\n",
    "$$ \\sum_{n=1}^N -(X_N - \\mu)^2$$"
   ]
  },
  {
   "cell_type": "code",
   "execution_count": 31,
   "metadata": {},
   "outputs": [],
   "source": [
    "import numpy as np\n",
    "import matplotlib.pyplot\n",
    "import pandas as pd\n",
    "import bplot as bp\n",
    "from scipy.optimize import minimize\n",
    "import patsy"
   ]
  },
  {
   "cell_type": "code",
   "execution_count": 2,
   "metadata": {},
   "outputs": [],
   "source": [
    "def ll_normal(mu, X):\n",
    "    d = X - mu\n",
    "    return np.sum(d * d) #products are cheaper than powers!"
   ]
  },
  {
   "cell_type": "code",
   "execution_count": 3,
   "metadata": {},
   "outputs": [
    {
     "data": {
      "text/html": [
       "<div>\n",
       "<style scoped>\n",
       "    .dataframe tbody tr th:only-of-type {\n",
       "        vertical-align: middle;\n",
       "    }\n",
       "\n",
       "    .dataframe tbody tr th {\n",
       "        vertical-align: top;\n",
       "    }\n",
       "\n",
       "    .dataframe thead th {\n",
       "        text-align: right;\n",
       "    }\n",
       "</style>\n",
       "<table border=\"1\" class=\"dataframe\">\n",
       "  <thead>\n",
       "    <tr style=\"text-align: right;\">\n",
       "      <th></th>\n",
       "      <th>isbn</th>\n",
       "      <th>uclaNew</th>\n",
       "      <th>amazNew</th>\n",
       "    </tr>\n",
       "  </thead>\n",
       "  <tbody>\n",
       "    <tr>\n",
       "      <td>0</td>\n",
       "      <td>978-0803272620</td>\n",
       "      <td>27.67</td>\n",
       "      <td>27.95</td>\n",
       "    </tr>\n",
       "    <tr>\n",
       "      <td>1</td>\n",
       "      <td>978-0030119194</td>\n",
       "      <td>40.59</td>\n",
       "      <td>31.14</td>\n",
       "    </tr>\n",
       "    <tr>\n",
       "      <td>2</td>\n",
       "      <td>978-0300080643</td>\n",
       "      <td>31.68</td>\n",
       "      <td>32.00</td>\n",
       "    </tr>\n",
       "    <tr>\n",
       "      <td>3</td>\n",
       "      <td>978-0226206813</td>\n",
       "      <td>16.00</td>\n",
       "      <td>11.52</td>\n",
       "    </tr>\n",
       "    <tr>\n",
       "      <td>4</td>\n",
       "      <td>978-0892365999</td>\n",
       "      <td>18.95</td>\n",
       "      <td>14.21</td>\n",
       "    </tr>\n",
       "  </tbody>\n",
       "</table>\n",
       "</div>"
      ],
      "text/plain": [
       "             isbn  uclaNew  amazNew\n",
       "0  978-0803272620    27.67    27.95\n",
       "1  978-0030119194    40.59    31.14\n",
       "2  978-0300080643    31.68    32.00\n",
       "3  978-0226206813    16.00    11.52\n",
       "4  978-0892365999    18.95    14.21"
      ]
     },
     "execution_count": 3,
     "metadata": {},
     "output_type": "execute_result"
    }
   ],
   "source": [
    "df = pd.read_csv(\"https://raw.githubusercontent.com/roualdes/data/master/books.csv\")\n",
    "df.head()"
   ]
  },
  {
   "cell_type": "code",
   "execution_count": 4,
   "metadata": {},
   "outputs": [],
   "source": [
    "#dir(df)\n",
    "#runing this shows all the methods and members. There are a lot...\n",
    "\n",
    "#help(pd.read_csv) \n",
    "#gets help"
   ]
  },
  {
   "cell_type": "code",
   "execution_count": 5,
   "metadata": {},
   "outputs": [
    {
     "data": {
      "text/plain": [
       "array([ 27.67,  40.59,  31.68,  16.  ,  18.95,  14.95,  24.7 ,  19.5 ,\n",
       "       123.84,  17.  ,  31.63, 116.  ,  27.67,  24.7 , 126.67,  53.9 ,\n",
       "        89.73, 171.  , 152.  , 124.8 ,  16.  ,  25.95,  18.  ,  21.73,\n",
       "        40.59,  28.95,  19.95,  49.45,  41.09,  50.95,  44.5 ,  82.45,\n",
       "        34.6 ,  88.42,  84.  ,  11.25,  15.  , 180.03, 174.  , 188.58,\n",
       "       146.75, 183.75, 214.5 , 197.  , 194.  , 176.25,  24.7 , 188.  ,\n",
       "        29.7 ,  26.24,  55.13,  43.56, 129.6 , 123.84,  85.12, 152.48,\n",
       "        29.7 ,  24.7 ,  89.71,  10.5 ,  92.88, 100.88,  11.95,  72.47,\n",
       "        92.1 ,  78.35,  42.  ,  18.75,  48.46,  39.55,  29.65,  23.76,\n",
       "        27.7 ])"
      ]
     },
     "execution_count": 5,
     "metadata": {},
     "output_type": "execute_result"
    }
   ],
   "source": [
    "df['uclaNew'].values #unwraps the numpy array"
   ]
  },
  {
   "cell_type": "code",
   "execution_count": 6,
   "metadata": {},
   "outputs": [
    {
     "data": {
      "text/plain": [
       "0     29.67\n",
       "1     42.59\n",
       "2     33.68\n",
       "3     18.00\n",
       "4     20.95\n",
       "      ...  \n",
       "68    50.46\n",
       "69    41.55\n",
       "70    31.65\n",
       "71    25.76\n",
       "72    29.70\n",
       "Name: uclaNew, Length: 73, dtype: float64"
      ]
     },
     "execution_count": 6,
     "metadata": {},
     "output_type": "execute_result"
    }
   ],
   "source": [
    "#you can treat columns of a dataframe as a numpy array.\n",
    "#Vectorized math works on colmuns of dfs just like we\n",
    "#have been doing with normal arrays.\n",
    "\n",
    "df['uclaNew'] + 2"
   ]
  },
  {
   "cell_type": "code",
   "execution_count": 7,
   "metadata": {},
   "outputs": [
    {
     "name": "stdout",
     "output_type": "stream",
     "text": [
      "Index(['isbn', 'uclaNew', 'amazNew'], dtype='object')\n",
      "(73, 3)\n"
     ]
    }
   ],
   "source": [
    "print(df.columns)\n",
    "print(df.shape)"
   ]
  },
  {
   "cell_type": "code",
   "execution_count": null,
   "metadata": {},
   "outputs": [],
   "source": []
  },
  {
   "cell_type": "code",
   "execution_count": 8,
   "metadata": {},
   "outputs": [],
   "source": [
    "#bootstrap the data\n",
    "\n",
    "df['uclaNew']\n",
    "\n",
    "N = df.shape[0]\n",
    "R = 1001\n",
    "mus = np.full(R, np.nan)\n",
    "for r in range(R):\n",
    "    idx = np.random.choice(N, N, replace = 1)\n",
    "    mus[r] = minimize(ll_normal, (50), args = (df['uclaNew'][idx]),\\\n",
    "                      method = \"BFGS\").x #BFGS means we dont need bounds\n",
    "#mus.mean()"
   ]
  },
  {
   "cell_type": "code",
   "execution_count": 9,
   "metadata": {},
   "outputs": [
    {
     "data": {
      "text/plain": [
       "<matplotlib.collections.PathCollection at 0x11e048d68>"
      ]
     },
     "execution_count": 9,
     "metadata": {},
     "output_type": "execute_result"
    },
    {
     "data": {
      "image/png": "[encoded data removed]",
      "text/plain": [
       "<Figure size 432x288 with 1 Axes>"
      ]
     },
     "metadata": {
      "needs_background": "light"
     },
     "output_type": "display_data"
    }
   ],
   "source": [
    "bp.density(mus)\n",
    "bp.percentile_h(mus, y = 0)"
   ]
  },
  {
   "cell_type": "code",
   "execution_count": 10,
   "metadata": {},
   "outputs": [
    {
     "data": {
      "text/plain": [
       "<matplotlib.collections.PathCollection at 0x125d7fe80>"
      ]
     },
     "execution_count": 10,
     "metadata": {},
     "output_type": "execute_result"
    },
    {
     "data": {
      "image/png": "[encoded data removed]",
      "text/plain": [
       "<Figure size 432x288 with 1 Axes>"
      ]
     },
     "metadata": {
      "needs_background": "light"
     },
     "output_type": "display_data"
    }
   ],
   "source": [
    "#this is more common\n",
    "bp.density(df['uclaNew'])\n",
    "bp.percentile_h(mus, y = 0)"
   ]
  },
  {
   "cell_type": "code",
   "execution_count": 17,
   "metadata": {},
   "outputs": [
    {
     "name": "stdout",
     "output_type": "stream",
     "text": [
      "72.22191780821916 [67.76685093 77.20438567]\n",
      "72.22191780821916 [66.77055424 76.16438362]\n",
      "72.22191780821916 [68.01287001 77.14670179]\n",
      "72.22191780821916 [68.02737313 77.09656541]\n",
      "72.22191780821916 [68.10603712 76.51191819]\n",
      "72.22191780821916 [67.6843878  76.19370382]\n",
      "72.22191780821916 [67.51247264 76.48999802]\n",
      "72.22191780821916 [67.20096854 76.48109217]\n",
      "20.3 s ± 632 ms per loop (mean ± std. dev. of 7 runs, 1 loop each)\n"
     ]
    }
   ],
   "source": [
    "def optim(data, initval = None):\n",
    "    if not initval:\n",
    "        initval = np.random.normal()\n",
    "    return minimize(ll_normal, (initval), args = (data), method = \"BFGS\").x\n",
    "    \n",
    "def bootstrap(data, R, fun):\n",
    "    N = data.size\n",
    "    thetas = np.full(R, np.nan)\n",
    "    for r in range(R):\n",
    "        idx = np.random.choice(N, N, replace = True)\n",
    "        thetas[r] = fun(data[idx])\n",
    "    return np.percentile(thetas, [25, 75])\n",
    "\n",
    "R = 1001\n",
    "print(df['uclaNew'].mean(), bootstrap(df['uclaNew'], R, optim))\n",
    "print(df['amazNew'].mean(), bootstrap(df['amazNew'], R, optim))\n",
    "\n",
    "#20.3 s ± 632 ms per loop"
   ]
  },
  {
   "cell_type": "markdown",
   "metadata": {},
   "source": [
    "# 10.24"
   ]
  },
  {
   "cell_type": "markdown",
   "metadata": {},
   "source": [
    "Paired data: when you have two observations tied together. There exists a 1 to 1 telation between every observation in the data set. \n",
    "\n",
    "Ex: book price at amazon vs at ucla for a given book\n",
    "\n",
    "Ex: 2 measurements on oppisite sides of a symetric thing. for ex my arm lengths are paired to me. \n",
    "\n",
    "Ex: 2 measurements across one time point."
   ]
  },
  {
   "cell_type": "code",
   "execution_count": 23,
   "metadata": {},
   "outputs": [
    {
     "data": {
      "text/html": [
       "<div>\n",
       "<style scoped>\n",
       "    .dataframe tbody tr th:only-of-type {\n",
       "        vertical-align: middle;\n",
       "    }\n",
       "\n",
       "    .dataframe tbody tr th {\n",
       "        vertical-align: top;\n",
       "    }\n",
       "\n",
       "    .dataframe thead th {\n",
       "        text-align: right;\n",
       "    }\n",
       "</style>\n",
       "<table border=\"1\" class=\"dataframe\">\n",
       "  <thead>\n",
       "    <tr style=\"text-align: right;\">\n",
       "      <th></th>\n",
       "      <th>isbn</th>\n",
       "      <th>uclaNew</th>\n",
       "      <th>amazNew</th>\n",
       "      <th>diff</th>\n",
       "    </tr>\n",
       "  </thead>\n",
       "  <tbody>\n",
       "    <tr>\n",
       "      <td>0</td>\n",
       "      <td>978-0803272620</td>\n",
       "      <td>27.67</td>\n",
       "      <td>27.95</td>\n",
       "      <td>0.28</td>\n",
       "    </tr>\n",
       "    <tr>\n",
       "      <td>1</td>\n",
       "      <td>978-0030119194</td>\n",
       "      <td>40.59</td>\n",
       "      <td>31.14</td>\n",
       "      <td>-9.45</td>\n",
       "    </tr>\n",
       "    <tr>\n",
       "      <td>2</td>\n",
       "      <td>978-0300080643</td>\n",
       "      <td>31.68</td>\n",
       "      <td>32.00</td>\n",
       "      <td>0.32</td>\n",
       "    </tr>\n",
       "    <tr>\n",
       "      <td>3</td>\n",
       "      <td>978-0226206813</td>\n",
       "      <td>16.00</td>\n",
       "      <td>11.52</td>\n",
       "      <td>-4.48</td>\n",
       "    </tr>\n",
       "    <tr>\n",
       "      <td>4</td>\n",
       "      <td>978-0892365999</td>\n",
       "      <td>18.95</td>\n",
       "      <td>14.21</td>\n",
       "      <td>-4.74</td>\n",
       "    </tr>\n",
       "  </tbody>\n",
       "</table>\n",
       "</div>"
      ],
      "text/plain": [
       "             isbn  uclaNew  amazNew  diff\n",
       "0  978-0803272620    27.67    27.95  0.28\n",
       "1  978-0030119194    40.59    31.14 -9.45\n",
       "2  978-0300080643    31.68    32.00  0.32\n",
       "3  978-0226206813    16.00    11.52 -4.48\n",
       "4  978-0892365999    18.95    14.21 -4.74"
      ]
     },
     "execution_count": 23,
     "metadata": {},
     "output_type": "execute_result"
    }
   ],
   "source": [
    "df = pd.read_csv(\"https://raw.githubusercontent.com/roualdes/data/master/books.csv\")\n",
    "df['diff'] = df['amazNew'] - df['uclaNew']\n",
    "df.head()"
   ]
  },
  {
   "cell_type": "code",
   "execution_count": 28,
   "metadata": {},
   "outputs": [
    {
     "name": "stdout",
     "output_type": "stream",
     "text": [
      "we are 50% confident that the mean price of books at amazonis [-13.86369866 -11.71465579] cheaper than ucla bookstore\n"
     ]
    }
   ],
   "source": [
    "def ll_normal(mu, X):\n",
    "    d = X - mu\n",
    "    return np.sum(d * d) #products are cheaper than powers!\n",
    "\n",
    "def optim(data, initval = None):\n",
    "    if not initval:\n",
    "        initval = np.random.normal()\n",
    "    return minimize(ll_normal, (initval), args = (data), method = \"BFGS\").x\n",
    "    \n",
    "def bootstrap(data, R, fun):\n",
    "    N = data.size\n",
    "    thetas = np.full(R, np.nan)\n",
    "    for r in range(R):\n",
    "        idx = np.random.choice(N, N, replace = True)\n",
    "        thetas[r] = fun(data[idx])\n",
    "    return np.percentile(thetas, [25, 75])\n",
    "\n",
    "R = 1001\n",
    "print('we are 50% confident that the mean price of books at amazon\\\n",
    "is', bootstrap(df['diff'], R, optim), 'cheaper than ucla bookstore')\n",
    "\n",
    "      "
   ]
  },
  {
   "cell_type": "markdown",
   "metadata": {},
   "source": [
    "#### two sample means\n",
    "When you want to compare means amongst two variables. They may not have the same number of observations "
   ]
  },
  {
   "cell_type": "code",
   "execution_count": 29,
   "metadata": {},
   "outputs": [
    {
     "data": {
      "text/html": [
       "<div>\n",
       "<style scoped>\n",
       "    .dataframe tbody tr th:only-of-type {\n",
       "        vertical-align: middle;\n",
       "    }\n",
       "\n",
       "    .dataframe tbody tr th {\n",
       "        vertical-align: top;\n",
       "    }\n",
       "\n",
       "    .dataframe thead th {\n",
       "        text-align: right;\n",
       "    }\n",
       "</style>\n",
       "<table border=\"1\" class=\"dataframe\">\n",
       "  <thead>\n",
       "    <tr style=\"text-align: right;\">\n",
       "      <th></th>\n",
       "      <th>site</th>\n",
       "      <th>pop</th>\n",
       "      <th>sex</th>\n",
       "      <th>age</th>\n",
       "      <th>headL</th>\n",
       "      <th>skullW</th>\n",
       "      <th>totalL</th>\n",
       "      <th>tailL</th>\n",
       "    </tr>\n",
       "  </thead>\n",
       "  <tbody>\n",
       "    <tr>\n",
       "      <td>0</td>\n",
       "      <td>1</td>\n",
       "      <td>Vic</td>\n",
       "      <td>m</td>\n",
       "      <td>8.0</td>\n",
       "      <td>94.1</td>\n",
       "      <td>60.4</td>\n",
       "      <td>89.0</td>\n",
       "      <td>36.0</td>\n",
       "    </tr>\n",
       "    <tr>\n",
       "      <td>1</td>\n",
       "      <td>1</td>\n",
       "      <td>Vic</td>\n",
       "      <td>f</td>\n",
       "      <td>6.0</td>\n",
       "      <td>92.5</td>\n",
       "      <td>57.6</td>\n",
       "      <td>91.5</td>\n",
       "      <td>36.5</td>\n",
       "    </tr>\n",
       "    <tr>\n",
       "      <td>2</td>\n",
       "      <td>1</td>\n",
       "      <td>Vic</td>\n",
       "      <td>f</td>\n",
       "      <td>6.0</td>\n",
       "      <td>94.0</td>\n",
       "      <td>60.0</td>\n",
       "      <td>95.5</td>\n",
       "      <td>39.0</td>\n",
       "    </tr>\n",
       "    <tr>\n",
       "      <td>3</td>\n",
       "      <td>1</td>\n",
       "      <td>Vic</td>\n",
       "      <td>f</td>\n",
       "      <td>6.0</td>\n",
       "      <td>93.2</td>\n",
       "      <td>57.1</td>\n",
       "      <td>92.0</td>\n",
       "      <td>38.0</td>\n",
       "    </tr>\n",
       "    <tr>\n",
       "      <td>4</td>\n",
       "      <td>1</td>\n",
       "      <td>Vic</td>\n",
       "      <td>f</td>\n",
       "      <td>2.0</td>\n",
       "      <td>91.5</td>\n",
       "      <td>56.3</td>\n",
       "      <td>85.5</td>\n",
       "      <td>36.0</td>\n",
       "    </tr>\n",
       "  </tbody>\n",
       "</table>\n",
       "</div>"
      ],
      "text/plain": [
       "   site  pop sex  age  headL  skullW  totalL  tailL\n",
       "0     1  Vic   m  8.0   94.1    60.4    89.0   36.0\n",
       "1     1  Vic   f  6.0   92.5    57.6    91.5   36.5\n",
       "2     1  Vic   f  6.0   94.0    60.0    95.5   39.0\n",
       "3     1  Vic   f  6.0   93.2    57.1    92.0   38.0\n",
       "4     1  Vic   f  2.0   91.5    56.3    85.5   36.0"
      ]
     },
     "execution_count": 29,
     "metadata": {},
     "output_type": "execute_result"
    }
   ],
   "source": [
    "df = pd.read_csv('https://raw.githubusercontent.com/roualdes/data/master/possum.csv')\n",
    "df.head()"
   ]
  },
  {
   "cell_type": "markdown",
   "metadata": {},
   "source": [
    "model: When compairing a catagorical vatiable to a numeric vatiable you calculate the means of the catagories and find the difference"
   ]
  },
  {
   "cell_type": "code",
   "execution_count": 32,
   "metadata": {},
   "outputs": [
    {
     "data": {
      "text/plain": [
       "DesignMatrix with shape (104, 2)\n",
       "  Intercept  C(pop)[T.other]\n",
       "          1                0\n",
       "          1                0\n",
       "          1                0\n",
       "          1                0\n",
       "          1                0\n",
       "          1                0\n",
       "          1                0\n",
       "          1                0\n",
       "          1                0\n",
       "          1                0\n",
       "          1                0\n",
       "          1                0\n",
       "          1                0\n",
       "          1                0\n",
       "          1                0\n",
       "          1                0\n",
       "          1                0\n",
       "          1                0\n",
       "          1                0\n",
       "          1                0\n",
       "          1                0\n",
       "          1                0\n",
       "          1                0\n",
       "          1                0\n",
       "          1                0\n",
       "          1                0\n",
       "          1                0\n",
       "          1                0\n",
       "          1                0\n",
       "          1                0\n",
       "  [74 rows omitted]\n",
       "  Terms:\n",
       "    'Intercept' (column 0)\n",
       "    'C(pop)' (column 1)\n",
       "  (to view full data, use np.asarray(this_obj))"
      ]
     },
     "execution_count": 32,
     "metadata": {},
     "output_type": "execute_result"
    }
   ],
   "source": [
    "patsy.dmatrix('~C(pop)', data = df) \n",
    "#make a design marix based around the catagorical variable pop"
   ]
  },
  {
   "cell_type": "markdown",
   "metadata": {},
   "source": [
    "# 10.28\n",
    "\n",
    "restating \"2 sample means\" above ^\n",
    "\n",
    "to restate: we are interested in compairing the means of a numeric variable across two catigorial variables. $\\beta_1$ is the difference between the means. "
   ]
  },
  {
   "cell_type": "code",
   "execution_count": 25,
   "metadata": {},
   "outputs": [],
   "source": [
    "import numpy as np\n",
    "import bplot as bp\n",
    "import matplotlib.pyplot as plt\n",
    "import patsy\n",
    "import pandas as pd\n",
    "from scipy.optimize import minimize\n"
   ]
  },
  {
   "cell_type": "code",
   "execution_count": 30,
   "metadata": {},
   "outputs": [
    {
     "name": "stdout",
     "output_type": "stream",
     "text": [
      "[[76.  1.  1.]\n",
      " [81.  1.  1.]\n",
      " [84.  1.  1.]\n",
      " [89.  1.  0.]\n",
      " [85.  1.  0.]]\n"
     ]
    }
   ],
   "source": [
    "df = pd.read_csv('https://raw.githubusercontent.com/roualdes/data/master/possum.csv')\n",
    "X = patsy.dmatrix('~C(pop)', data = df) \n",
    "yX = np.c_[df['totalL'], X]\n",
    "print(yX[43:48, :])\n"
   ]
  },
  {
   "cell_type": "code",
   "execution_count": 36,
   "metadata": {},
   "outputs": [
    {
     "data": {
      "text/plain": [
       "array([87.08846154,  0.45908719])"
      ]
     },
     "execution_count": 36,
     "metadata": {},
     "output_type": "execute_result"
    }
   ],
   "source": [
    "def ll_normal(beta, yX):\n",
    "    y = yX[:, 0]\n",
    "    X = yX[:, 1:]\n",
    "    N = X.shape[0]\n",
    "    mu = np.full(N, np.nan)\n",
    "    for n in range(N):\n",
    "        mu = np.sum(X[n, :] * beta)\n",
    "    d = y - mu\n",
    "    return np.sum(d * d)\n",
    "\n",
    "betahat = minimize(ll_normal, np.random.normal(size = 2), args = (yX), method = \"BFGS\").x\n",
    "\n",
    "betahat #this needs to be fixed!"
   ]
  },
  {
   "cell_type": "code",
   "execution_count": 34,
   "metadata": {},
   "outputs": [
    {
     "data": {
      "text/html": [
       "<div>\n",
       "<style scoped>\n",
       "    .dataframe tbody tr th:only-of-type {\n",
       "        vertical-align: middle;\n",
       "    }\n",
       "\n",
       "    .dataframe tbody tr th {\n",
       "        vertical-align: top;\n",
       "    }\n",
       "\n",
       "    .dataframe thead th {\n",
       "        text-align: right;\n",
       "    }\n",
       "</style>\n",
       "<table border=\"1\" class=\"dataframe\">\n",
       "  <thead>\n",
       "    <tr style=\"text-align: right;\">\n",
       "      <th></th>\n",
       "      <th>site</th>\n",
       "      <th>age</th>\n",
       "      <th>headL</th>\n",
       "      <th>skullW</th>\n",
       "      <th>totalL</th>\n",
       "      <th>tailL</th>\n",
       "    </tr>\n",
       "    <tr>\n",
       "      <th>pop</th>\n",
       "      <th></th>\n",
       "      <th></th>\n",
       "      <th></th>\n",
       "      <th></th>\n",
       "      <th></th>\n",
       "      <th></th>\n",
       "    </tr>\n",
       "  </thead>\n",
       "  <tbody>\n",
       "    <tr>\n",
       "      <td>other</td>\n",
       "      <td>5.482759</td>\n",
       "      <td>3.689655</td>\n",
       "      <td>92.606897</td>\n",
       "      <td>57.065517</td>\n",
       "      <td>86.787931</td>\n",
       "      <td>37.862069</td>\n",
       "    </tr>\n",
       "    <tr>\n",
       "      <td>vic</td>\n",
       "      <td>1.282609</td>\n",
       "      <td>4.022727</td>\n",
       "      <td>92.597826</td>\n",
       "      <td>56.654348</td>\n",
       "      <td>87.467391</td>\n",
       "      <td>35.934783</td>\n",
       "    </tr>\n",
       "  </tbody>\n",
       "</table>\n",
       "</div>"
      ],
      "text/plain": [
       "           site       age      headL     skullW     totalL      tailL\n",
       "pop                                                                  \n",
       "other  5.482759  3.689655  92.606897  57.065517  86.787931  37.862069\n",
       "vic    1.282609  4.022727  92.597826  56.654348  87.467391  35.934783"
      ]
     },
     "execution_count": 34,
     "metadata": {},
     "output_type": "execute_result"
    }
   ],
   "source": [
    "#simple code to get out the group means\n",
    "\n",
    "df.groupby('pop').agg(\"mean\")"
   ]
  },
  {
   "cell_type": "code",
   "execution_count": 41,
   "metadata": {},
   "outputs": [
    {
     "ename": "TypeError",
     "evalue": "'int' object is not iterable",
     "output_type": "error",
     "traceback": [
      "\u001b[0;31m---------------------------------------------------------------------------\u001b[0m",
      "\u001b[0;31mTypeError\u001b[0m                                 Traceback (most recent call last)",
      "\u001b[0;32m<ipython-input-41-9f7270adf31d>\u001b[0m in \u001b[0;36m<module>\u001b[0;34m\u001b[0m\n\u001b[1;32m      1\u001b[0m \u001b[0;31m#This indexes a list/array\u001b[0m\u001b[0;34m\u001b[0m\u001b[0;34m\u001b[0m\u001b[0m\n\u001b[0;32m----> 2\u001b[0;31m \u001b[0;32mfor\u001b[0m \u001b[0mi\u001b[0m\u001b[0;34m,\u001b[0m \u001b[0;34m(\u001b[0m\u001b[0mname\u001b[0m\u001b[0;34m,\u001b[0m \u001b[0mgdf\u001b[0m\u001b[0;34m)\u001b[0m \u001b[0;32min\u001b[0m \u001b[0menumerate\u001b[0m\u001b[0;34m(\u001b[0m\u001b[0mrange\u001b[0m\u001b[0;34m(\u001b[0m\u001b[0;36m5\u001b[0m\u001b[0;34m,\u001b[0m\u001b[0;36m10\u001b[0m\u001b[0;34m)\u001b[0m\u001b[0;34m)\u001b[0m\u001b[0;34m:\u001b[0m\u001b[0;34m\u001b[0m\u001b[0m\n\u001b[0m\u001b[1;32m      3\u001b[0m     \u001b[0mprint\u001b[0m\u001b[0;34m(\u001b[0m\u001b[0mname\u001b[0m\u001b[0;34m)\u001b[0m\u001b[0;34m\u001b[0m\u001b[0m\n",
      "\u001b[0;31mTypeError\u001b[0m: 'int' object is not iterable"
     ]
    }
   ],
   "source": [
    "#This indexes a list/array \n",
    "for i, j in enumerate(range(5,10)):\n",
    "    print(i, j)"
   ]
  },
  {
   "cell_type": "code",
   "execution_count": 44,
   "metadata": {},
   "outputs": [
    {
     "data": {
      "image/png": "[encoded data removed]",
      "text/plain": [
       "<Figure size 432x288 with 1 Axes>"
      ]
     },
     "metadata": {
      "needs_background": "light"
     },
     "output_type": "display_data"
    }
   ],
   "source": [
    "for i, (name, gdf) in enumerate(df.groupby('pop')):\n",
    "    x = np.repeat(i, gdf['totalL'].size)\n",
    "    y = gdf['totalL']\n",
    "    bp.jitter(x, y, jitter_y = 0, label = name, color = bp.color[i])\n",
    "    bp.legend()"
   ]
  },
  {
   "cell_type": "code",
   "execution_count": null,
   "metadata": {},
   "outputs": [],
   "source": []
  }
 ],
 "metadata": {
  "kernelspec": {
   "display_name": "Python 3",
   "language": "python",
   "name": "python3"
  },
  "language_info": {
   "codemirror_mode": {
    "name": "ipython",
    "version": 3
   },
   "file_extension": ".py",
   "mimetype": "text/x-python",
   "name": "python",
   "nbconvert_exporter": "python",
   "pygments_lexer": "ipython3",
   "version": "3.6.1"
  }
 },
 "nbformat": 4,
 "nbformat_minor": 2
}

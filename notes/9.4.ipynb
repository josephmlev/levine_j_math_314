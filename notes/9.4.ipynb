{
 "cells": [
  {
   "cell_type": "markdown",
   "metadata": {},
   "source": [
    "# Four words of stats\n",
    "\n",
    "## Finite\n",
    "    sample\n",
    "    statistics\n",
    "## Infinite\n",
    "    population \n",
    "    peramaters\n",
    "\n",
    "\n",
    "\n",
    "## Random variable\n",
    "A numerical variable such that until  it's observed we don't know its value. \n",
    "\n",
    "There are three important characterstics of RVs\n",
    "\n",
    "1) Descrete vs continious\n",
    "    Descrete\n",
    "        variable that can take on any value in a counably infinite set (finite is countably infinite)\n",
    "        natural numbers, or any set with a 1 to 1 correspondence with naturnal numbers \n",
    "    Continious \n",
    "        uncountably infinite\n",
    "        real numbers\n",
    "        \n",
    "2) The values a random variable: \"the support\"\n",
    "\n",
    "3) A function that defines probabilities on values in the support (probability density function)\n",
    "  \n",
    "Two descrete random variables\n",
    "coin: x $\\in${0,1} (bernoulli distribution. Binary outcome\n",
    "\n",
    "bernuli has an unknown population peramater, P. if we wanted to estimate it we collect data from process p is representing\n",
    "\n",
    "die: x $\\in${1, 2, 3, 4, 5, 6}\n",
    "\n",
    "## Examples\n",
    "uniform random variable means equal probabilities. \n",
    "\n",
    "picture 1*"
   ]
  },
  {
   "cell_type": "code",
   "execution_count": null,
   "metadata": {},
   "outputs": [],
   "source": []
  }
 ],
 "metadata": {
  "kernelspec": {
   "display_name": "Python 3",
   "language": "python",
   "name": "python3"
  },
  "language_info": {
   "codemirror_mode": {
    "name": "ipython",
    "version": 3
   },
   "file_extension": ".py",
   "mimetype": "text/x-python",
   "name": "python",
   "nbconvert_exporter": "python",
   "pygments_lexer": "ipython3",
   "version": "3.6.1"
  }
 },
 "nbformat": 4,
 "nbformat_minor": 2
}

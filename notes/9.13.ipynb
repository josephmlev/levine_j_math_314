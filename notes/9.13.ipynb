{
 "cells": [
  {
   "cell_type": "markdown",
   "metadata": {},
   "source": [
    "# More probability!\n",
    "\n",
    "## Conditional probability\n",
    "Let A & B be events. Events are the \"word equlivent\" of a random varaible. Call them success and failure vs 1 and 0. Can be mutuailly exclusive, don't have to be. \n",
    "\n",
    "### ex:\n",
    "\n",
    "A = Failure of some system\n",
    "\n",
    "B = Success of some system\n",
    "    \n",
    "$P(A|B) = \\frac{P(A \\cap B)}{P(B)}$\n",
    "\n",
    "read: probability of A conditioned on B = probability of intersection over probabilut of b\n",
    "\n",
    "in english: whats the probability of A given that B has happened = probability A and B have happened over probability of B \n",
    "\n",
    "### ex\n",
    "    \n",
    "B = ace is drawn first rom a fair deck of cards without replacement. \n",
    "\n",
    "A = an ace was drawn second. \n",
    "\n",
    "$P(A|B)$ means given an ace was drawn first whats the probability that we draw another ace\n",
    "\n",
    "$P(A|B) = \\frac{3}{51}$ from common sense.\n",
    "\n",
    "with the formula: $P(A|B) = \\frac{\\frac{3}{51} \\frac{4}{52}}{\\frac{4}{52}} = \\frac{3}{51}$ \n",
    "\n",
    "## Independent events (events/RVs)\n",
    "\n",
    "The events A and B are independent iff  \n",
    "$P(A \\cap B) = P(A) * P (B)$\n",
    "\n",
    "Calculate the left and right hand sides and check for equality. If they are equal A and B are independent. Else they are dependent. \n",
    "\n",
    "if you have mutually exclusive sets, left side is zero. If they are not empty sets, we get 0 = not 0 $\\rightarrow$ dependent.\n",
    "\n",
    "if b has already happend, then we know A can not happen"
   ]
  },
  {
   "cell_type": "code",
   "execution_count": null,
   "metadata": {},
   "outputs": [],
   "source": []
  },
  {
   "cell_type": "code",
   "execution_count": null,
   "metadata": {},
   "outputs": [],
   "source": []
  },
  {
   "cell_type": "code",
   "execution_count": null,
   "metadata": {},
   "outputs": [],
   "source": []
  },
  {
   "cell_type": "code",
   "execution_count": null,
   "metadata": {},
   "outputs": [],
   "source": []
  },
  {
   "cell_type": "code",
   "execution_count": null,
   "metadata": {},
   "outputs": [],
   "source": []
  },
  {
   "cell_type": "code",
   "execution_count": null,
   "metadata": {},
   "outputs": [],
   "source": []
  },
  {
   "cell_type": "code",
   "execution_count": null,
   "metadata": {},
   "outputs": [],
   "source": []
  },
  {
   "cell_type": "code",
   "execution_count": null,
   "metadata": {},
   "outputs": [],
   "source": []
  },
  {
   "cell_type": "code",
   "execution_count": null,
   "metadata": {},
   "outputs": [],
   "source": []
  },
  {
   "cell_type": "code",
   "execution_count": null,
   "metadata": {},
   "outputs": [],
   "source": []
  }
 ],
 "metadata": {
  "kernelspec": {
   "display_name": "Python 3",
   "language": "python",
   "name": "python3"
  },
  "language_info": {
   "codemirror_mode": {
    "name": "ipython",
    "version": 3
   },
   "file_extension": ".py",
   "mimetype": "text/x-python",
   "name": "python",
   "nbconvert_exporter": "python",
   "pygments_lexer": "ipython3",
   "version": "3.6.1"
  }
 },
 "nbformat": 4,
 "nbformat_minor": 2
}

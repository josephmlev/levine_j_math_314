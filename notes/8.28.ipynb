{
 "cells": [
  {
   "cell_type": "code",
   "execution_count": 3,
   "metadata": {
    "collapsed": true
   },
   "outputs": [],
   "source": [
    "import numpy as np"
   ]
  },
  {
   "cell_type": "markdown",
   "metadata": {},
   "source": [
    "# shortcuts (in esc mode):\n",
    "\n",
    "h- shortcut menu\n",
    "\n",
    "m - textbox\n",
    "\n",
    "y - back to code chunk\n",
    "\n",
    "h - shortcut menu\n",
    "\n",
    "M - merges cells\n",
    "\n",
    "dd or x - delete cell\n",
    "\n",
    "add cell above/below - a/b \n",
    "\n",
    "\n",
    "\n",
    "\n",
    "\n",
    "\n",
    "\n"
   ]
  },
  {
   "cell_type": "markdown",
   "metadata": {},
   "source": [
    "# Other jupyter things:\n",
    "\n",
    "in markdown \"#\" before text makes that line a header\n",
    "\n"
   ]
  },
  {
   "cell_type": "markdown",
   "metadata": {},
   "source": [
    "# Probability\n",
    "\n",
    "probability is defined in terms of a limit. Does not exist in our finite world. We can only estimate the limit\n",
    "\n",
    "\n",
    "We need to see how well we can trust the limit. We will quantify uncertanty. "
   ]
  },
  {
   "cell_type": "code",
   "execution_count": 2,
   "metadata": {},
   "outputs": [
    {
     "name": "stdout",
     "output_type": "stream",
     "text": [
      "0.5325\n",
      "3.64\n"
     ]
    }
   ],
   "source": [
    "#mean of 400 coin flips\n",
    "\n",
    "print(np.random.choice([0,1], 400).mean())\n",
    "\n",
    "#mean of 400 rolls of die\n",
    "\n",
    "print(np.random.choice([1, 2, 3, 4, 5, 6], 400).mean())"
   ]
  },
  {
   "cell_type": "markdown",
   "metadata": {},
   "source": [
    "The real world side of the coin (get it) is called \"sample\". The abstract side is called \"population\"."
   ]
  }
 ],
 "metadata": {
  "kernelspec": {
   "display_name": "Python 3",
   "language": "python",
   "name": "python3"
  },
  "language_info": {
   "codemirror_mode": {
    "name": "ipython",
    "version": 3
   },
   "file_extension": ".py",
   "mimetype": "text/x-python",
   "name": "python",
   "nbconvert_exporter": "python",
   "pygments_lexer": "ipython3",
   "version": "3.6.1"
  }
 },
 "nbformat": 4,
 "nbformat_minor": 2
}

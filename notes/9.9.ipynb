{
 "cells": [
  {
   "cell_type": "markdown",
   "metadata": {},
   "source": [
    "# Probability\n",
    "\n",
    "\n",
    "Choosing a card is a uniform random variable. We want to turn a hand of cards into a bernoulli distrubtion. example: if you are looking for a full house 0 means you didnt get it, 1 means you did.  "
   ]
  },
  {
   "cell_type": "code",
   "execution_count": 14,
   "metadata": {},
   "outputs": [],
   "source": [
    "import numpy as np"
   ]
  },
  {
   "cell_type": "code",
   "execution_count": 15,
   "metadata": {},
   "outputs": [],
   "source": [
    "\n",
    "suit = \"HSCD\"\n",
    "ranks = \"A23456789TJQK\"\n",
    "deck = [s + r for s in suit for r in ranks] #called \"list comprehension\" "
   ]
  },
  {
   "cell_type": "code",
   "execution_count": 16,
   "metadata": {},
   "outputs": [
    {
     "name": "stdout",
     "output_type": "stream",
     "text": [
      "len =  52\n",
      "deck =  ['HA', 'H2', 'H3', 'H4', 'H5', 'H6', 'H7', 'H8', 'H9', 'HT', 'HJ', 'HQ', 'HK', 'SA', 'S2', 'S3', 'S4', 'S5', 'S6', 'S7', 'S8', 'S9', 'ST', 'SJ', 'SQ', 'SK', 'CA', 'C2', 'C3', 'C4', 'C5', 'C6', 'C7', 'C8', 'C9', 'CT', 'CJ', 'CQ', 'CK', 'DA', 'D2', 'D3', 'D4', 'D5', 'D6', 'D7', 'D8', 'D9', 'DT', 'DJ', 'DQ', 'DK']\n"
     ]
    }
   ],
   "source": [
    "print(\"len = \", len(deck))\n",
    "print(\"deck = \",deck)"
   ]
  },
  {
   "cell_type": "code",
   "execution_count": 28,
   "metadata": {},
   "outputs": [],
   "source": [
    "\n",
    "hand = np.random.choice(deck, 1, replace = False)"
   ]
  },
  {
   "cell_type": "code",
   "execution_count": 29,
   "metadata": {},
   "outputs": [
    {
     "data": {
      "text/plain": [
       "array([ True])"
      ]
     },
     "execution_count": 29,
     "metadata": {},
     "output_type": "execute_result"
    }
   ],
   "source": [
    "hand == \"D2\" #note you get an array"
   ]
  },
  {
   "cell_type": "code",
   "execution_count": 38,
   "metadata": {},
   "outputs": [
    {
     "data": {
      "text/plain": [
       "False"
      ]
     },
     "execution_count": 38,
     "metadata": {},
     "output_type": "execute_result"
    }
   ],
   "source": [
    "hand[0] == \"D2\""
   ]
  },
  {
   "cell_type": "code",
   "execution_count": 62,
   "metadata": {},
   "outputs": [
    {
     "name": "stdout",
     "output_type": "stream",
     "text": [
      "0.017198280171982803\n"
     ]
    }
   ],
   "source": [
    "#np.random.seed(1234)\n",
    "N = 10001\n",
    "count = 0\n",
    "for n in range(N):\n",
    "    hand = np.random.choice(deck, 1, replace = False)\n",
    "    if hand[0] == \"D2\":\n",
    "        count += 1\n",
    "print(count / N)"
   ]
  },
  {
   "cell_type": "markdown",
   "metadata": {},
   "source": [
    "works fine for this, we will generilize soon"
   ]
  },
  {
   "cell_type": "code",
   "execution_count": 63,
   "metadata": {},
   "outputs": [
    {
     "data": {
      "text/plain": [
       "0.019230769230769232"
      ]
     },
     "execution_count": 63,
     "metadata": {},
     "output_type": "execute_result"
    }
   ],
   "source": [
    "1 / 52"
   ]
  },
  {
   "cell_type": "markdown",
   "metadata": {},
   "source": [
    "tuples are hedrogenious python type, imutable (unchangable)\n",
    "\n",
    "we need to change the condition in the if statement for different hands, as well as the second arguement in random.choice for a 5 card hand"
   ]
  },
  {
   "cell_type": "code",
   "execution_count": 70,
   "metadata": {},
   "outputs": [
    {
     "name": "stdout",
     "output_type": "stream",
     "text": [
      "['HK' 'H2' 'CK' 'C5' 'DK']\n"
     ]
    },
    {
     "data": {
      "text/plain": [
       "(array(['C5', 'CK', 'DK', 'H2', 'HK'], dtype='<U2'), array([1, 1, 1, 1, 1]))"
      ]
     },
     "execution_count": 70,
     "metadata": {},
     "output_type": "execute_result"
    }
   ],
   "source": [
    "hand = np.random.choice(deck, 5, replace = False)\n",
    "print(hand)\n",
    "rank = [h[1] for h in hand]\n",
    "np.unique(hand, return_counts = True)"
   ]
  },
  {
   "cell_type": "code",
   "execution_count": 54,
   "metadata": {},
   "outputs": [
    {
     "name": "stdout",
     "output_type": "stream",
     "text": [
      "0.018998100189981004\n"
     ]
    }
   ],
   "source": [
    "\n",
    "np.random.seed(124325)\n",
    "N = 10001\n",
    "count = 0\n",
    "for n in range(N):\n",
    "    hand = np.random.choice(deck, 1, replace = False)\n",
    "    if (hand == \"D2\").sum() == 1:\n",
    "        count += 1\n",
    "print(count / N)"
   ]
  },
  {
   "cell_type": "code",
   "execution_count": null,
   "metadata": {},
   "outputs": [],
   "source": []
  }
 ],
 "metadata": {
  "kernelspec": {
   "display_name": "Python 3",
   "language": "python",
   "name": "python3"
  },
  "language_info": {
   "codemirror_mode": {
    "name": "ipython",
    "version": 3
   },
   "file_extension": ".py",
   "mimetype": "text/x-python",
   "name": "python",
   "nbconvert_exporter": "python",
   "pygments_lexer": "ipython3",
   "version": "3.6.1"
  }
 },
 "nbformat": 4,
 "nbformat_minor": 2
}

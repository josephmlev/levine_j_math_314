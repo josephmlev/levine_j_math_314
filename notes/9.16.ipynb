{
 "cells": [
  {
   "cell_type": "code",
   "execution_count": 6,
   "metadata": {},
   "outputs": [],
   "source": [
    "from fractions import Fraction  \n",
    "from scipy.stats import  binom"
   ]
  },
  {
   "cell_type": "markdown",
   "metadata": {},
   "source": [
    "#### ex: flip over 2 cards from a shuffled fair deck with out replacement. \n",
    "B = first card is an ace\n",
    "A = second card is an ace\n",
    "\n",
    "find $P(A) \\text{&} P(B)$\n",
    "\n",
    "B: We can get ace and ace $P = \\frac{4}{52} * \\frac{3}{51}$ OR ace and not ace $P = \\frac{4}{52} * \\frac{48}{51}$ \n",
    "\n",
    "so\n",
    "\n",
    "$P(B) = \\frac{4}{52} \\frac{3}{51} + \\frac{4}{52}\\frac{48}{51}$ \n",
    "\n",
    "A: We can get ace and ace $P = \\frac{4}{52} * \\frac{3}{51}$ OR not ace and not ace $P = \\frac{48}{52} * \\frac{4}{51}$ \n",
    "\n",
    "$P(A) = \\frac{4}{52} \\frac{3}{51} + \\frac{48}{52}\\frac{4}{51}$ \n",
    "\n",
    "Are A and B independent?\n",
    "\n",
    "Independent if $P(A|B) = P(A)P(B)$\n",
    "\n"
   ]
  },
  {
   "cell_type": "code",
   "execution_count": 4,
   "metadata": {},
   "outputs": [
    {
     "data": {
      "text/plain": [
       "Fraction(1, 13)"
      ]
     },
     "execution_count": 4,
     "metadata": {},
     "output_type": "execute_result"
    }
   ],
   "source": [
    "Fraction(4,52) * Fraction(3,51) + Fraction(48,52) * Fraction(4,51)"
   ]
  },
  {
   "cell_type": "markdown",
   "metadata": {},
   "source": [
    "There is an intersection if the hand is ace ace, but A has not ace, ace and B has ace, not ace. Also not ace, not ace is in nither of them. for this, $P(A|B) == P(A)P(B) \\rightarrow \\frac{4}{52} \\frac{3}{51} ?= \\frac{4}{52} \\frac{}{} $ Fails, dependent "
   ]
  },
  {
   "cell_type": "markdown",
   "metadata": {},
   "source": [
    "# Binomial\n",
    "A binomial R.V is the sum of K trials, Bernoilli(p)\n",
    "\n",
    "#### Ex: Binomial(K = 4)\n",
    "\n",
    "$X_1 = 0, X_2 = 1, X_3 = 1, X_4 = 0$\n",
    "\n",
    "If $Y$ is the Binomial RV, \n",
    "\n",
    "$Y = \\sum_{k = 1}^{K} X_k$\n"
   ]
  },
  {
   "cell_type": "markdown",
   "metadata": {},
   "source": [
    "#### 3 main components of R.V.'s\n",
    "\n",
    "1) Discrete vs contonious\n",
    "\n",
    "2) Support, the values the RV can take on, $x \\in${$ 0, ... , K$} \n",
    "\n",
    "3) Probability density function calculates probability for each value in the support"
   ]
  },
  {
   "cell_type": "markdown",
   "metadata": {},
   "source": [
    "Ex: Binomial(K = 4,p)\n",
    "\n",
    "we got {1, 1, 1, 0}\n",
    "\n",
    "Binomial(K = 4,p) = P(1) AND P(1) AND ... \n",
    "\n",
    "so\n",
    "\n",
    "Binomial$(K = 4, p) = p * p * p * (1-p) = p^3 (1-p)$\n",
    "\n",
    "this is not a unique way to get this. ex, {1, 0, 1, 1} AND {0, 1, 1, 1}... any time you get 3 1's you have the same Bernulli. 4 ways to do this. This prob density, $f(3) = 4 p^3 (1-p)$\n",
    "\n",
    "$f(2) = 3p^2(1-p)^2$\n",
    "\n",
    "$f(0) = 1 (1-p)^4$\n",
    "\n",
    "$f(4) = 1 p^4$\n",
    "\n",
    "turns out\n",
    "\n",
    "$f(x) = {K \\choose x} p^x (1-p)^{K - x}$\n",
    "\n",
    "where ${K \\choose x} \\equiv \\frac{K!}{x! (K - x)!} $"
   ]
  },
  {
   "cell_type": "markdown",
   "metadata": {},
   "source": [
    "homework: call method pmf in stats.binom to evaluate f(x)"
   ]
  },
  {
   "cell_type": "code",
   "execution_count": null,
   "metadata": {},
   "outputs": [],
   "source": []
  }
 ],
 "metadata": {
  "kernelspec": {
   "display_name": "Python 3",
   "language": "python",
   "name": "python3"
  },
  "language_info": {
   "codemirror_mode": {
    "name": "ipython",
    "version": 3
   },
   "file_extension": ".py",
   "mimetype": "text/x-python",
   "name": "python",
   "nbconvert_exporter": "python",
   "pygments_lexer": "ipython3",
   "version": "3.6.1"
  }
 },
 "nbformat": 4,
 "nbformat_minor": 2
}

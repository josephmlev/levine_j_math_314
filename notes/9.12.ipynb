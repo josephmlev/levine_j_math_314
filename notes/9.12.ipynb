{
 "cells": [
  {
   "cell_type": "markdown",
   "metadata": {},
   "source": [
    "$X$ = Bernoulli$(p)$\n",
    "support has two values, 0 & 1, does not to be uniform\n",
    "\n",
    "probability density $f(x) = p^x (1-p)^{1-x}$\n",
    "\n",
    "only valid on 0 and 1 so,\n",
    "\n",
    "$f(0) = 1 - p$\n",
    "\n",
    "$f(1) =  p$\n",
    "\n",
    "Examples of Bernoulli random variable\n",
    "\n",
    "    Fair coin\n",
    "    A server has probability, p, of failure \n",
    "    \n"
   ]
  },
  {
   "cell_type": "markdown",
   "metadata": {},
   "source": [
    "#### Ex: $p$ is the probability that a server fails\n",
    "\n",
    "$X_1$ = B(p_1)$\n",
    "\n",
    "$X_2$ = B(p_2)$\n",
    "\n",
    "$p(succeed)$ = 1 words and 2 works\n",
    "\n",
    "English word \"and\" means multaply probabilities\n",
    "\n",
    "$p(succeed) = (1-p_1) * (1-p_2)$\n",
    "\n",
    "$p(fail)$ is a bit more complicated. there are 3 ways to fail. $x_1 fails, x_2 fails,$ or both \n",
    "\n",
    "\n",
    "$p(fail)$ = [1 fails and 2 works] or [1 works and 2 works} or [1 fails and 2 fails] \n",
    "\n",
    "English word \"or\" means add probabilities\n",
    "\n",
    "\n",
    "$p(fail) = [p_1 * (1-p_2)] + [p_2 * (1-p_1)] + [p_1 * p_2] ]$"
   ]
  },
  {
   "cell_type": "markdown",
   "metadata": {},
   "source": [
    "mutually exclusive: if it fails, it does not succeed\n",
    "$1 = p + (1-p)$\n",
    "\n",
    "$1 = p($fail) $+ p($work)\n",
    "\n",
    "p(work) = 1 - p(fail)\n",
    "\n",
    "because success and fail are mutually exclusive we dont need to use the complicated expression for p(fail), just say p(fail) = 1 - p(succeed) or\n",
    "\n",
    "p(fail) = $1 - (1 - p_1)*(1 - p_2)$"
   ]
  },
  {
   "cell_type": "markdown",
   "metadata": {},
   "source": [
    "# Summary\n",
    "\n",
    "\"and\" $\\rightarrow$ *\n",
    "\n",
    "\"or\" $\\rightarrow$ +\n",
    "\n",
    "if events A and B are mutually exclusive and they are exhaustive (they fill the support) $\\rightarrow$ p(a) = 1 - p(b)"
   ]
  },
  {
   "cell_type": "markdown",
   "metadata": {},
   "source": [
    "# Example\n",
    "\n",
    "we had a serial requirement for our server, how about servers in parallel? \n",
    "\n",
    "it is easy to calculate p(fail) because there is only one way to fail. \n",
    "\n",
    "p(fail) =  $p_1 * p_2$\n",
    "\n",
    "they are mutually exclusive so...\n",
    "\n",
    "p(success) = $1 - (p_1 * p_2)$\n",
    "\n",
    "for more servers, ways to succeed = (states server can be in)$^n - 1$"
   ]
  },
  {
   "cell_type": "code",
   "execution_count": null,
   "metadata": {},
   "outputs": [],
   "source": []
  }
 ],
 "metadata": {
  "kernelspec": {
   "display_name": "Python 3",
   "language": "python",
   "name": "python3"
  },
  "language_info": {
   "codemirror_mode": {
    "name": "ipython",
    "version": 3
   },
   "file_extension": ".py",
   "mimetype": "text/x-python",
   "name": "python",
   "nbconvert_exporter": "python",
   "pygments_lexer": "ipython3",
   "version": "3.6.1"
  }
 },
 "nbformat": 4,
 "nbformat_minor": 2
}

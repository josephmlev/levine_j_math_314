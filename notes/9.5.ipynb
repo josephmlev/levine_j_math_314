{
 "cells": [
  {
   "cell_type": "markdown",
   "metadata": {},
   "source": [
    "X ~ Uniform(a,b)\n",
    "\n",
    "Uniform distributions have equal probabilities for all values it can take on. Can be any range\n",
    "\n",
    "## probability denisty function for a uniform distribution\n",
    "\n",
    "\n",
    "f(x) = $\\frac{1}{b - a + 1}$, independent of X (uniform)\n",
    "\n",
    "$\\sum_{n=1}^{N} P_i = 1$ all P_i's are equal (uniform) so\n",
    "\n",
    "$\\sum_{n=1}^{N} P = 1$\n",
    "\n",
    "$ N P = 1$ \n",
    "\n",
    "$P = \\frac{1}{N}$ \n",
    "\n",
    "f(x) can be written $P(X = x ) = \\frac{1}{b-a+1}$. Read as \"the probability that the descrite uniform vatiable (X) takes on the value x is this formula\"\n",
    "\n",
    "Probability density needs to be normilizable! \n",
    "\n",
    "This all refers to population! we have yet to roll a die or make a measurement. "
   ]
  },
  {
   "cell_type": "code",
   "execution_count": 1,
   "metadata": {},
   "outputs": [],
   "source": [
    "import numpy as np\n",
    "import pandas as pd\n",
    "from scipy.stats import norm as normal\n",
    "import bplot as bp"
   ]
  },
  {
   "cell_type": "code",
   "execution_count": 2,
   "metadata": {},
   "outputs": [],
   "source": [
    "N = 1001\n",
    "x = np.random.choice(np.arange(6) + 1, N  )"
   ]
  },
  {
   "cell_type": "code",
   "execution_count": 3,
   "metadata": {},
   "outputs": [
    {
     "data": {
      "text/plain": [
       "array([3, 5, 5, 4, 6])"
      ]
     },
     "execution_count": 3,
     "metadata": {},
     "output_type": "execute_result"
    }
   ],
   "source": [
    "x[:5] #first 5 values"
   ]
  },
  {
   "cell_type": "markdown",
   "metadata": {},
   "source": [
    "We want to estimate population peramater "
   ]
  },
  {
   "cell_type": "code",
   "execution_count": 4,
   "metadata": {},
   "outputs": [
    {
     "data": {
      "text/plain": [
       "0.15984015984015984"
      ]
     },
     "execution_count": 4,
     "metadata": {},
     "output_type": "execute_result"
    }
   ],
   "source": [
    "np.mean(x == 1) #sample "
   ]
  },
  {
   "cell_type": "code",
   "execution_count": 5,
   "metadata": {},
   "outputs": [
    {
     "data": {
      "text/plain": [
       "0.16666666666666666"
      ]
     },
     "execution_count": 5,
     "metadata": {},
     "output_type": "execute_result"
    }
   ],
   "source": [
    "1/6 #population peramater"
   ]
  },
  {
   "cell_type": "code",
   "execution_count": null,
   "metadata": {},
   "outputs": [],
   "source": []
  },
  {
   "cell_type": "code",
   "execution_count": null,
   "metadata": {},
   "outputs": [],
   "source": []
  }
 ],
 "metadata": {
  "kernelspec": {
   "display_name": "Python 3",
   "language": "python",
   "name": "python3"
  },
  "language_info": {
   "codemirror_mode": {
    "name": "ipython",
    "version": 3
   },
   "file_extension": ".py",
   "mimetype": "text/x-python",
   "name": "python",
   "nbconvert_exporter": "python",
   "pygments_lexer": "ipython3",
   "version": "3.6.1"
  }
 },
 "nbformat": 4,
 "nbformat_minor": 2
}

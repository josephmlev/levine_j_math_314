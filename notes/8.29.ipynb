{
 "cells": [
  {
   "cell_type": "markdown",
   "metadata": {},
   "source": [
    "# 8.29.19, git\n",
    "\n",
    "https://roualdes.us/teaching/math314/meta/howtogit.html\n",
    "\n",
    "Commit messages should be in the present tense!\n",
    "\n",
    "\n",
    "add a file called .gitignore to have git never add certin files. \n",
    "\n",
    "`touch .gitignore`\n",
    "\n",
    "`ls -a`\n",
    "\n",
    "look up syntax for git ignore. edit in using vim or whatever\n",
    "\n",
    "git log --oneline"
   ]
  },
  {
   "cell_type": "code",
   "execution_count": null,
   "metadata": {
    "collapsed": true
   },
   "outputs": [],
   "source": []
  }
 ],
 "metadata": {
  "kernelspec": {
   "display_name": "Python 3",
   "language": "python",
   "name": "python3"
  },
  "language_info": {
   "codemirror_mode": {
    "name": "ipython",
    "version": 3
   },
   "file_extension": ".py",
   "mimetype": "text/x-python",
   "name": "python",
   "nbconvert_exporter": "python",
   "pygments_lexer": "ipython3",
   "version": "3.6.1"
  }
 },
 "nbformat": 4,
 "nbformat_minor": 2
}

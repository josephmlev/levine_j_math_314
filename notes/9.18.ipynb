{
 "cells": [
  {
   "cell_type": "markdown",
   "metadata": {},
   "source": [
    "# Expected Value\n",
    "\n",
    "Let X ~ F with pdf f and support S\n",
    "\n",
    "Let g be a function of X\n",
    "\n",
    "The expected value of g(X) is $\\textbf{E}(g(X)) = \\sum_{S} g(x)*f(x)$\n",
    "\n",
    "### ex:\n",
    "\n",
    "|x|1|2|3|4|\n",
    "|-|-|-|-|-|\n",
    "|f(x)|.2|.1|.4|.3|\n",
    "\n",
    "let $g(x) = x$\n",
    "\n",
    "$\\textbf{E}(X) = \\sum_{S} x f(x) = 1 * .2 + 2 * .1 + 3 * .4 + 4 * .3$"
   ]
  },
  {
   "cell_type": "code",
   "execution_count": 1,
   "metadata": {},
   "outputs": [
    {
     "data": {
      "text/plain": [
       "2.8"
      ]
     },
     "execution_count": 1,
     "metadata": {},
     "output_type": "execute_result"
    }
   ],
   "source": [
    "import numpy as np\n",
    "x = np.arange(4) + 1\n",
    "fx = np.asarray([.2,.1,.4,.3])\n",
    "np.sum(fx * x)"
   ]
  },
  {
   "cell_type": "markdown",
   "metadata": {},
   "source": [
    "$\\textbf{E}$ is the population analoug to the sample mean}. It is what you would get if you roled the weird 4 sided die of the example a finite number of times, added up all the values, divided by the number of rolls you would get $\\textbf{E}$. This is expectation value in QM\n",
    "\n",
    "Lets estimate the sample mean"
   ]
  },
  {
   "cell_type": "code",
   "execution_count": 2,
   "metadata": {},
   "outputs": [
    {
     "data": {
      "text/plain": [
       "2.815018498150185"
      ]
     },
     "execution_count": 2,
     "metadata": {},
     "output_type": "execute_result"
    }
   ],
   "source": [
    "np.random.choice(x, p = fx, size = 10001).mean()"
   ]
  },
  {
   "cell_type": "markdown",
   "metadata": {},
   "source": [
    "Note, 2.8 is not in the support, but it is in the range of the support"
   ]
  },
  {
   "cell_type": "markdown",
   "metadata": {},
   "source": [
    "### Ex:\n",
    "$X~$uniform(1,6)\n",
    "\n",
    "find $\\textbf{E}$\n",
    "\n",
    "note: no g(x) given implys g(x) = x\n",
    "\n",
    "$\\textbf{E}(X) = \\sum_{S} x f(x)$"
   ]
  },
  {
   "cell_type": "code",
   "execution_count": 3,
   "metadata": {},
   "outputs": [
    {
     "data": {
      "text/plain": [
       "3.5"
      ]
     },
     "execution_count": 3,
     "metadata": {},
     "output_type": "execute_result"
    }
   ],
   "source": [
    "x = np.arange(6) + 1\n",
    "fx = np.repeat(1/6, 6)\n",
    "np.sum(x * fx)"
   ]
  },
  {
   "cell_type": "markdown",
   "metadata": {},
   "source": [
    "## step it up a notch: let $g(x)$ not be $x$\n",
    "\n",
    "Population variance $\\textbf{V}(x) = \\textbf{E}([X - \\textbf{E}(X)]^2)$\n",
    "\n",
    "on average how far away is the RV from the expected value in squared distance\n",
    "\n",
    "$g(x) = (x - \\textbf{E}(X))^2 $  \n",
    "\n",
    "Capital because you should do expected value first then calculate $g$\n",
    "\n",
    "$\\textbf{V}(X) = \\sum_S (x - \\textbf{E}(X))^2 * f(x) $"
   ]
  },
  {
   "cell_type": "code",
   "execution_count": 4,
   "metadata": {},
   "outputs": [
    {
     "data": {
      "text/plain": [
       "2.9166666666666665"
      ]
     },
     "execution_count": 4,
     "metadata": {},
     "output_type": "execute_result"
    }
   ],
   "source": [
    "x = np.arange(6) + 1\n",
    "fx = np.repeat(1/6, 6)\n",
    "EX = np.sum(x * fx)\n",
    "np.sum((x - EX)**2 * fx)"
   ]
  },
  {
   "cell_type": "markdown",
   "metadata": {},
   "source": [
    "The higher the variance, the wider the spread in f(x). Just like standard deviation.  "
   ]
  },
  {
   "cell_type": "code",
   "execution_count": 5,
   "metadata": {},
   "outputs": [
    {
     "data": {
      "text/plain": [
       "5.250000000000002"
      ]
     },
     "execution_count": 5,
     "metadata": {},
     "output_type": "execute_result"
    }
   ],
   "source": [
    "fx = np.asarray([.4,.05, .05, .05, .05, .4])\n",
    "EX = np.sum(x * fx)\n",
    "np.sum((x - EX)**2 * fx)"
   ]
  },
  {
   "cell_type": "code",
   "execution_count": 6,
   "metadata": {},
   "outputs": [
    {
     "data": {
      "text/plain": [
       "1.4499999999999997"
      ]
     },
     "execution_count": 6,
     "metadata": {},
     "output_type": "execute_result"
    }
   ],
   "source": [
    "fx = np.asarray([.05, .15, .3, .3, .15, .05])\n",
    "EX = np.sum(x * fx)\n",
    "np.sum((x - EX)**2 * fx)"
   ]
  },
  {
   "cell_type": "code",
   "execution_count": 7,
   "metadata": {},
   "outputs": [
    {
     "data": {
      "text/plain": [
       "0"
      ]
     },
     "execution_count": 7,
     "metadata": {},
     "output_type": "execute_result"
    }
   ],
   "source": [
    "\n",
    "fx = np.asarray([0,0,1,0,0,0])\n",
    "EX = np.sum(x * fx)\n",
    "np.sum((x - EX)**2 * fx)"
   ]
  }
 ],
 "metadata": {
  "kernelspec": {
   "display_name": "Python 3",
   "language": "python",
   "name": "python3"
  },
  "language_info": {
   "codemirror_mode": {
    "name": "ipython",
    "version": 3
   },
   "file_extension": ".py",
   "mimetype": "text/x-python",
   "name": "python",
   "nbconvert_exporter": "python",
   "pygments_lexer": "ipython3",
   "version": "3.6.1"
  }
 },
 "nbformat": 4,
 "nbformat_minor": 2
}

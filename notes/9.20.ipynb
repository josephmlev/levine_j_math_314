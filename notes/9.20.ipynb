{
 "cells": [
  {
   "cell_type": "markdown",
   "metadata": {},
   "source": [
    "## Variance\n",
    "\n",
    "$\\underline{\\text{Expected value}}$\n",
    "\n",
    "An expected value is very general.\n",
    "\n",
    "$\\textbf{E}(g(X)) = \\sum_S g(x) f(x)$\n",
    "\n",
    "The population mean is one expected value if we let $g(x) = x$\n",
    "\n",
    "$g(x)$ is an opperator in QM\n",
    "\n",
    "If we let $g(x) = [x - \\textbf{E}(X)]^2$\n",
    "\n",
    "so\n",
    "\n",
    "$\\textbf{V}(X) = \\sum_S [x - \\textbf{E}(X)]^2 f(x)$\n",
    "\n",
    "It is the average squared distance of the data from the mean"
   ]
  },
  {
   "cell_type": "code",
   "execution_count": 10,
   "metadata": {},
   "outputs": [],
   "source": [
    "import numpy as np\n",
    "from scipy.stats import binom\n",
    "import matplotlib.pyplot as plt"
   ]
  },
  {
   "cell_type": "code",
   "execution_count": 17,
   "metadata": {},
   "outputs": [
    {
     "name": "stdout",
     "output_type": "stream",
     "text": [
      "mean =  3.5\n",
      "variance =  2.9166666666666665\n"
     ]
    },
    {
     "data": {
      "image/png": "[encoded data removed]",
      "text/plain": [
       "<Figure size 432x288 with 1 Axes>"
      ]
     },
     "metadata": {
      "needs_background": "light"
     },
     "output_type": "display_data"
    }
   ],
   "source": [
    "x = np.arange(6) + 1\n",
    "fx = np.repeat(1/6, 6)\n",
    "Ex = np.sum(x*fx)\n",
    "Vx = np.sum((x - Ex)**2 * fx)\n",
    "plt.scatter(np.arange(1,7), fx)\n",
    "print(\"mean = \", Ex)\n",
    "print(\"variance = \", Vx)"
   ]
  },
  {
   "cell_type": "code",
   "execution_count": 15,
   "metadata": {},
   "outputs": [
    {
     "name": "stdout",
     "output_type": "stream",
     "text": [
      "mean =  3.5000000000000004\n",
      "variance =  5.250000000000002\n"
     ]
    },
    {
     "data": {
      "image/png": "[encoded data removed]",
      "text/plain": [
       "<Figure size 432x288 with 1 Axes>"
      ]
     },
     "metadata": {
      "needs_background": "light"
     },
     "output_type": "display_data"
    }
   ],
   "source": [
    "#change f(x)\n",
    "x = np.arange(6) + 1\n",
    "fx = np.asarray([.4, .05, .05, .05, .05, .4])\n",
    "Ex = np.sum(x*fx)\n",
    "Vx = np.sum((x - Ex)**2 * fx)\n",
    "plt.scatter(np.arange(1,7), fx)\n",
    "print(\"mean = \", Ex)\n",
    "print(\"variance = \", Vx)"
   ]
  },
  {
   "cell_type": "code",
   "execution_count": 19,
   "metadata": {},
   "outputs": [
    {
     "data": {
      "text/plain": [
       "1.720737969808117"
      ]
     },
     "execution_count": 19,
     "metadata": {},
     "output_type": "execute_result"
    }
   ],
   "source": [
    "#This is the sample side of the coin\n",
    "X = np.random.choice(x, size = 1001)\n",
    "X.std()"
   ]
  },
  {
   "cell_type": "code",
   "execution_count": null,
   "metadata": {},
   "outputs": [],
   "source": []
  }
 ],
 "metadata": {
  "kernelspec": {
   "display_name": "Python 3",
   "language": "python",
   "name": "python3"
  },
  "language_info": {
   "codemirror_mode": {
    "name": "ipython",
    "version": 3
   },
   "file_extension": ".py",
   "mimetype": "text/x-python",
   "name": "python",
   "nbconvert_exporter": "python",
   "pygments_lexer": "ipython3",
   "version": "3.6.1"
  }
 },
 "nbformat": 4,
 "nbformat_minor": 2
}

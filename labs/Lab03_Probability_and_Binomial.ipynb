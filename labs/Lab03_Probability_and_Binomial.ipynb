{
 "cells": [
  {
   "cell_type": "markdown",
   "metadata": {},
   "source": [
    "### 1) Suppose an exam has 6 multiple-choice questions, and that each question has 5 possible answers. On each question, only 1 answer is correct. If a student guesses randomly and independently from question to question,find the probability of\n",
    "\n",
    "#### a) Being correct only on questions 1 and 4.\n",
    "\n",
    "\n",
    "$p(1 \\text{ and } 4) = p(1) \\text{ AND } p(4) = p(1) * p(4)$\n",
    "\n",
    "$p(1) = p(4) = \\frac{1}{5}$\n",
    "\n",
    "$p(1 \\text{ and } 4) = \\frac{1}{25}$\n"
   ]
  },
  {
   "cell_type": "code",
   "execution_count": 22,
   "metadata": {},
   "outputs": [
    {
     "name": "stdout",
     "output_type": "stream",
     "text": [
      "probability of getting questions one and four correct =  0.04\n"
     ]
    }
   ],
   "source": [
    "print('probability of getting questions one and four correct = ', \n",
    "      1 / 25)"
   ]
  },
  {
   "cell_type": "markdown",
   "metadata": {},
   "source": [
    "#### b) Being correct on any two questions.\n",
    "    "
   ]
  },
  {
   "cell_type": "markdown",
   "metadata": {},
   "source": [
    "There are different ways to get two questions correct. We saw the probability of being correct on questions one and four is $\\frac{1}{25}$. There is a nice symmetry in the problem; this is the probability of getting any two questions correct. You could get 1 and 2, 1 and 3... etc. So we could get [1 AND 2] OR [1 AND 3] OR... # of combinations * p(2 correct) There are 6 choose 2 ways for this to come out so\n",
    "\n",
    "p(any 2 correct) = ${6 \\choose 2} * \\frac{1}{5}^2 * \\frac{4}{5}^4 $"
   ]
  },
  {
   "cell_type": "code",
   "execution_count": 36,
   "metadata": {},
   "outputs": [],
   "source": [
    "import numpy as np\n",
    "from scipy.stats import binom\n",
    "from scipy.special import comb"
   ]
  },
  {
   "cell_type": "code",
   "execution_count": 37,
   "metadata": {},
   "outputs": [
    {
     "name": "stdout",
     "output_type": "stream",
     "text": [
      "probability of getting any 2 out of 6 questions correct =  0.24576000000000003\n"
     ]
    }
   ],
   "source": [
    "print('probability of getting any 2 out of 6 questions correct = ', \n",
    "      comb(6,2) * (1 / 25) * (4/5)**4)"
   ]
  },
  {
   "cell_type": "code",
   "execution_count": 38,
   "metadata": {},
   "outputs": [
    {
     "data": {
      "text/plain": [
       "0.24576000000000003"
      ]
     },
     "execution_count": 38,
     "metadata": {},
     "output_type": "execute_result"
    }
   ],
   "source": [
    "#or just use built in stuff!!\n",
    "\n",
    "k = 2\n",
    "n = 6\n",
    "p = 1/5\n",
    "binom.pmf(k, n, p)"
   ]
  },
  {
   "cell_type": "markdown",
   "metadata": {},
   "source": [
    "### 2) It is claimed that 80% of American drivers engage in multitasking, driving while eg talking on their cell phone, eating a snack, or texting. In a random sample of 20 drivers, let X equal the number of multitaskers.\n",
    "\n",
    "#### a) What type of random variable is X?\n",
    "\n",
    "X is a Bernoulli. A given person either is distracted or not, and there is a non-uniform probability that this is the case. "
   ]
  },
  {
   "cell_type": "markdown",
   "metadata": {},
   "source": [
    "#### b) Calculate the probability that\n",
    "\n",
    "##### $P(X=15)$, eg f(15)"
   ]
  },
  {
   "cell_type": "code",
   "execution_count": 45,
   "metadata": {},
   "outputs": [
    {
     "name": "stdout",
     "output_type": "stream",
     "text": [
      "P(X=15) =  0.17455952155687976\n"
     ]
    }
   ],
   "source": [
    "k = 15\n",
    "n = 20\n",
    "p = .8\n",
    "print('P(X=15) = ', binom.pmf(k, n, p))"
   ]
  },
  {
   "cell_type": "markdown",
   "metadata": {},
   "source": [
    "$P(X>15)$\n",
    "\n",
    "This is asking what is the p(15) + p(16) +..."
   ]
  },
  {
   "cell_type": "code",
   "execution_count": 65,
   "metadata": {},
   "outputs": [
    {
     "name": "stdout",
     "output_type": "stream",
     "text": [
      "0.011529215046068481\n",
      "1.2412048587311628e-25\n"
     ]
    }
   ],
   "source": [
    "prob = 0\n",
    "k = 20\n",
    "n = 20\n",
    "p = .8\n",
    "\n",
    "\n",
    "\n",
    "for k in range (15, 21):\n",
    "    prob += binom.pmf(k, n, p)\n",
    "    \n",
    "print(prob)\n"
   ]
  },
  {
   "cell_type": "markdown",
   "metadata": {},
   "source": [
    "$P(X≤15)$"
   ]
  },
  {
   "cell_type": "markdown",
   "metadata": {},
   "source": [
    "#### c) Give values for the expected value, variance, and standard deviation."
   ]
  },
  {
   "cell_type": "code",
   "execution_count": null,
   "metadata": {},
   "outputs": [],
   "source": []
  },
  {
   "cell_type": "code",
   "execution_count": null,
   "metadata": {},
   "outputs": [],
   "source": []
  }
 ],
 "metadata": {
  "kernelspec": {
   "display_name": "Python 3",
   "language": "python",
   "name": "python3"
  },
  "language_info": {
   "codemirror_mode": {
    "name": "ipython",
    "version": 3
   },
   "file_extension": ".py",
   "mimetype": "text/x-python",
   "name": "python",
   "nbconvert_exporter": "python",
   "pygments_lexer": "ipython3",
   "version": "3.6.1"
  }
 },
 "nbformat": 4,
 "nbformat_minor": 2
}

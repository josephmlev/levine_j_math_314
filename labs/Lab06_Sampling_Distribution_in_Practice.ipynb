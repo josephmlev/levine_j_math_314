{
 "cells": [
  {
   "cell_type": "code",
   "execution_count": 4,
   "metadata": {},
   "outputs": [],
   "source": [
    "import numpy as np\n",
    "import matplotlib.pyplot as plt\n",
    "import bplot as bp\n"
   ]
  },
  {
   "cell_type": "markdown",
   "metadata": {},
   "source": [
    "# Lab06: Sampling Distribution in Practice"
   ]
  },
  {
   "cell_type": "markdown",
   "metadata": {},
   "source": [
    "#### Throughout, set R=1001 and use both N=17 and N=385 in separate runs.\n",
    "\n",
    "### 1)Assume the population is Gamma, with α,β>0 of your choice.\n",
    "\n",
    "#### a)Pre-allocate an array of size R.\n",
    "\n"
   ]
  },
  {
   "cell_type": "code",
   "execution_count": 29,
   "metadata": {},
   "outputs": [],
   "source": [
    "R = 1001\n",
    "n = 17\n",
    "N = 385\n",
    "mhatssmall = np.full(R, np.nan)\n",
    "mhatsbig = np.full(R, np.nan)"
   ]
  },
  {
   "cell_type": "markdown",
   "metadata": {},
   "source": [
    "#### b)Generate N Gamma random variables. Use the function 𝚗𝚞𝚖𝚙𝚢.𝚛𝚊𝚗𝚍𝚘𝚖.𝚐𝚊𝚖𝚖𝚊(α,β,N). Name this array X.\n",
    "\n"
   ]
  },
  {
   "cell_type": "code",
   "execution_count": 38,
   "metadata": {},
   "outputs": [],
   "source": [
    "alpha = 1\n",
    "beta = 2\n",
    "\n",
    "x = np.random.gamma(alpha,beta, n)\n",
    "X = np.random.gamma(alpha,beta, N)"
   ]
  },
  {
   "cell_type": "markdown",
   "metadata": {},
   "source": [
    "#### c)In a for loop of length R,\n",
    "    randomly choose elements of X with replacement, then estimate the population median with them. Store the estimate into the rth element of your pre-allocated array.\n"
   ]
  },
  {
   "cell_type": "code",
   "execution_count": 39,
   "metadata": {},
   "outputs": [],
   "source": [
    "for r in range(R):\n",
    "    mhatssmall[r] = np.median(np.random.choice(x, replace = 1, size = n))\n",
    "    \n",
    "for r in range(R):\n",
    "    mhatsbig[r] = np.median(np.random.choice(X, replace = 1, size = N))    "
   ]
  },
  {
   "cell_type": "markdown",
   "metadata": {},
   "source": [
    "#### d)Estimate the population standard deviation of the sample median using your array of sample medians."
   ]
  },
  {
   "cell_type": "code",
   "execution_count": 40,
   "metadata": {},
   "outputs": [
    {
     "name": "stdout",
     "output_type": "stream",
     "text": [
      "N = 17, mhatssmall.std =  0.7532583055484753\n",
      "N = 385, mhatsbig.std =  0.11759935424497592\n"
     ]
    }
   ],
   "source": [
    "print(\"N = 17, mhatssmall.std = \",np.std(mhatssmall))\n",
    "print(\"N = 385, mhatsbig.std = \",np.std(mhatsbig))"
   ]
  },
  {
   "cell_type": "markdown",
   "metadata": {},
   "source": [
    "#### e)What is the name of this quantity?\n",
    "\n",
    "Standard error"
   ]
  },
  {
   "cell_type": "markdown",
   "metadata": {},
   "source": [
    "#### f)Explain, in complete English sentences, what the standard deviation of the sample median is telling us.\n",
    "\n",
    "The std of the median of the resampled data tells us the uncertainty of our guess of the median"
   ]
  },
  {
   "cell_type": "markdown",
   "metadata": {},
   "source": [
    "#### g)Make a density plot using the array of sample medians.\n",
    "\n"
   ]
  },
  {
   "cell_type": "code",
   "execution_count": 41,
   "metadata": {},
   "outputs": [
    {
     "data": {
      "text/plain": [
       "<matplotlib.axes._subplots.AxesSubplot at 0x12064a0f0>"
      ]
     },
     "execution_count": 41,
     "metadata": {},
     "output_type": "execute_result"
    },
    {
     "data": {
      "image/png": "[encoded data removed]",
      "text/plain": [
       "<Figure size 432x288 with 1 Axes>"
      ]
     },
     "metadata": {
      "needs_background": "light"
     },
     "output_type": "display_data"
    }
   ],
   "source": [
    "bp.density(mhatssmall, label= \"small N\", color = 'b')\n",
    "bp.density(mhatsbig, label= \"big N\", color = 'g')\n",
    "bp.legend()"
   ]
  },
  {
   "cell_type": "markdown",
   "metadata": {},
   "source": [
    "#### h)What is the name of this density function?\n",
    "\n",
    "Sampling distribution"
   ]
  },
  {
   "cell_type": "markdown",
   "metadata": {},
   "source": [
    "#### i)Repeat steps a. through h. using the other sample size, overlaying the two density plots on each other. Use the color and label arguments of bp.density() to differentiate the two density curves on the same plot. Call bp.legend() after your done plotting.\n",
    "\n",
    "see above"
   ]
  },
  {
   "cell_type": "markdown",
   "metadata": {},
   "source": [
    "#### j)Explain, in complete English sentences, why your two density curves look different.\n",
    "\n",
    "Different sample sizes ($N$) give different error. In the limit as $N \\rightarrow \\infty$ the error goes to zero"
   ]
  },
  {
   "cell_type": "markdown",
   "metadata": {},
   "source": [
    "### Double secret sauce extra bonus challenge. Assume the population is Normal, with μ a real number and σ>0 of your choice.\n",
    "#### a)Pre-allocate an array of size (R,2).\n",
    "\n"
   ]
  },
  {
   "cell_type": "code",
   "execution_count": 44,
   "metadata": {},
   "outputs": [],
   "source": [
    "Thatssmall = np.full((R,2), np.nan)"
   ]
  },
  {
   "cell_type": "markdown",
   "metadata": {},
   "source": [
    "#### b) Generate N Normal random variables. Use the function 𝚗𝚞𝚖𝚙𝚢.𝚛𝚊𝚗𝚍𝚘𝚖.𝚗𝚘𝚛𝚖𝚊𝚕(μ,σ,N). Name this array X.\n",
    "\n"
   ]
  },
  {
   "cell_type": "code",
   "execution_count": 47,
   "metadata": {},
   "outputs": [],
   "source": [
    "mu = 5\n",
    "sigma = .5\n",
    "n = 17\n",
    "N = 285\n",
    "x = np.random.normal(mu, sigma, n)\n",
    "X = np.random.normal(mu, sigma, N)"
   ]
  },
  {
   "cell_type": "markdown",
   "metadata": {},
   "source": [
    "#### c) In a for loop of length R,\n",
    "    -create an array of randomly chosen integers from 0 to N-1, with replacement. Name this array idx.\n",
    "    \n",
    "\n"
   ]
  },
  {
   "cell_type": "markdown",
   "metadata": {},
   "source": [
    "    -use Scipy’s function minimize to estimate the population mean and standard deviation, using the array of random variables just generated. Instead of passing in X, pass in X indexed with idx, as your data. Store the estimate into the rth element of your pre-allocated array."
   ]
  },
  {
   "cell_type": "markdown",
   "metadata": {},
   "source": [
    "#### d) Estimate the population standard deviation of the array of each sample statistic.\n",
    "\n"
   ]
  },
  {
   "cell_type": "markdown",
   "metadata": {},
   "source": [
    "#### e) What is the name of these quantities? Hint: They can’t have the same name, they differ by what they are the standard deviation of.\n",
    "\n"
   ]
  },
  {
   "cell_type": "markdown",
   "metadata": {},
   "source": [
    "#### f) Explain, in complete English sentences, what the standard deviation of each of the sample statistics is telling us.\n",
    "\n"
   ]
  },
  {
   "cell_type": "markdown",
   "metadata": {},
   "source": [
    "#### g) Make a plot density plot using the array of each sample statistic.\n",
    "\n"
   ]
  },
  {
   "cell_type": "markdown",
   "metadata": {},
   "source": [
    "#### h) What is the name of these density functions? Hint: They can’t have the same name, they differ by what they are the standard deviation of.\n",
    "\n"
   ]
  },
  {
   "cell_type": "markdown",
   "metadata": {},
   "source": [
    "#### i ) Repeat steps a. through h. using the other sample size for each sample statistic, overlaying the two density plots on each other. Use the color and label arguments of bp.density() to differentiate the two density curves on the same plot. Call bp.legend() after your done plotting.\n",
    "\n"
   ]
  },
  {
   "cell_type": "markdown",
   "metadata": {},
   "source": [
    "#### j) Explain, in complete English sentences, why your two density curves look different."
   ]
  },
  {
   "cell_type": "markdown",
   "metadata": {},
   "source": []
  },
  {
   "cell_type": "code",
   "execution_count": null,
   "metadata": {},
   "outputs": [],
   "source": []
  }
 ],
 "metadata": {
  "kernelspec": {
   "display_name": "Python 3",
   "language": "python",
   "name": "python3"
  },
  "language_info": {
   "codemirror_mode": {
    "name": "ipython",
    "version": 3
   },
   "file_extension": ".py",
   "mimetype": "text/x-python",
   "name": "python",
   "nbconvert_exporter": "python",
   "pygments_lexer": "ipython3",
   "version": "3.6.1"
  }
 },
 "nbformat": 4,
 "nbformat_minor": 2
}

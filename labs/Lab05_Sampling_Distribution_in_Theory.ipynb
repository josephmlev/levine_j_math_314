{
 "cells": [
  {
   "cell_type": "markdown",
   "metadata": {},
   "source": [
    "# Lab 05: Sampling Distribution in Theory\n",
    "\n",
    "First lets play with a gamma distrubtion"
   ]
  },
  {
   "cell_type": "code",
   "execution_count": 33,
   "metadata": {},
   "outputs": [],
   "source": [
    "import numpy as np\n",
    "import bplot as bp\n",
    "import matplotlib.pyplot as plt"
   ]
  },
  {
   "cell_type": "code",
   "execution_count": 34,
   "metadata": {},
   "outputs": [
    {
     "data": {
      "text/plain": [
       "(array([ 4., 26., 41., 70., 89., 97., 85., 88., 91., 78., 64., 61., 43.,\n",
       "        35., 33., 23., 17., 12.,  8.,  9.,  3.,  7.,  4.,  2.,  3.,  3.,\n",
       "         1.,  1.,  1.,  2.]),\n",
       " array([ 1.13658451,  2.84088862,  4.54519273,  6.24949684,  7.95380095,\n",
       "         9.65810506, 11.36240917, 13.06671328, 14.77101738, 16.47532149,\n",
       "        18.1796256 , 19.88392971, 21.58823382, 23.29253793, 24.99684204,\n",
       "        26.70114615, 28.40545026, 30.10975436, 31.81405847, 33.51836258,\n",
       "        35.22266669, 36.9269708 , 38.63127491, 40.33557902, 42.03988313,\n",
       "        43.74418723, 45.44849134, 47.15279545, 48.85709956, 50.56140367,\n",
       "        52.26570778]),\n",
       " <a list of 30 Patch objects>)"
      ]
     },
     "execution_count": 34,
     "metadata": {},
     "output_type": "execute_result"
    },
    {
     "data": {
      "image/png": "[encoded data removed]",
      "text/plain": [
       "<Figure size 432x288 with 1 Axes>"
      ]
     },
     "metadata": {
      "needs_background": "light"
     },
     "output_type": "display_data"
    }
   ],
   "source": [
    "gammaex = np.random.gamma(1,1,1001)\n",
    "gammaex2 = np.random.gamma(1,4,1001)\n",
    "gammaex3 = np.random.gamma(4,1,1001)\n",
    "gammaex4 = np.random.gamma(4,4,1001)\n",
    "plt.hist(gammaex, color = 'r', bins = 30)\n",
    "plt.hist(gammaex2, color = 'b', bins = 30)\n",
    "plt.hist(gammaex3, color = 'g', bins = 30)\n",
    "plt.hist(gammaex4, color = 'c', bins = 30)"
   ]
  },
  {
   "cell_type": "markdown",
   "metadata": {},
   "source": [
    "Notice that $\\alpha$ shifts the peak and $\\beta$ controls the decay"
   ]
  },
  {
   "cell_type": "markdown",
   "metadata": {},
   "source": [
    "Throughout, set R=1001 and use both N=14 and N=258 in separate runs.\n",
    "1)Assume the population is Gamma, with α,β>0 of your choice.\n",
    "\n",
    "#### a)Pre-allocate an array of size R."
   ]
  },
  {
   "cell_type": "code",
   "execution_count": 40,
   "metadata": {},
   "outputs": [],
   "source": [
    "R = 1001\n",
    "muhatssmall = np.full(R, np.nan)\n",
    "sigmahats = np.full(R, np.nan)"
   ]
  },
  {
   "cell_type": "markdown",
   "metadata": {},
   "source": [
    "#### b)In a for loop of length R,\n",
    "\n",
    "- generate N Gamma random variables. Use the function 𝚗𝚞𝚖𝚙𝚢.𝚛𝚊𝚗𝚍𝚘𝚖.𝚐𝚊𝚖𝚖𝚊(α,β,N).\n",
    "- estimate the population mean, using the array of random variables just generated. Store the estimate into the rth element of your pre-allocated array."
   ]
  },
  {
   "cell_type": "code",
   "execution_count": 42,
   "metadata": {},
   "outputs": [],
   "source": [
    "for r in range(R):\n",
    "    muhatssmall[r] = np.random.gamma(1,2,14).mean()"
   ]
  },
  {
   "cell_type": "markdown",
   "metadata": {},
   "source": [
    "#### c)Estimate the population mean using the array of sample means."
   ]
  },
  {
   "cell_type": "code",
   "execution_count": 43,
   "metadata": {},
   "outputs": [
    {
     "name": "stdout",
     "output_type": "stream",
     "text": [
      "1.9811423731039826\n"
     ]
    }
   ],
   "source": [
    "print(muhatssmall.mean())"
   ]
  },
  {
   "cell_type": "markdown",
   "metadata": {},
   "source": [
    "#### d)Estimate the population standard deviation of the array of sample means.\n",
    "\n"
   ]
  },
  {
   "cell_type": "code",
   "execution_count": 44,
   "metadata": {},
   "outputs": [
    {
     "name": "stdout",
     "output_type": "stream",
     "text": [
      "0.5264233842108461\n"
     ]
    }
   ],
   "source": [
    "print(muhatssmall.std())"
   ]
  },
  {
   "cell_type": "markdown",
   "metadata": {},
   "source": [
    "#### e)Explain, in complete English sentences, what the standard deviation of the sample mean is telling us.\n",
    "\n",
    "The uncertenty on our best guess of the mean $\\textbf{for one given } \\hat \\mu$. We cheated! We took an average of R best guesses so we keep getting $\\hat \\mu$ to two or three digits. This is confusing because we keep getting $\\hat \\mu$.std() $\\sim .5$"
   ]
  },
  {
   "cell_type": "markdown",
   "metadata": {},
   "source": [
    "#### f)Make a plot density plot using the array of sample means."
   ]
  },
  {
   "cell_type": "code",
   "execution_count": 45,
   "metadata": {},
   "outputs": [
    {
     "data": {
      "text/plain": [
       "[<matplotlib.lines.Line2D at 0x11ebf3d68>]"
      ]
     },
     "execution_count": 45,
     "metadata": {},
     "output_type": "execute_result"
    },
    {
     "data": {
      "image/png": "[encoded data removed]",
      "text/plain": [
       "<Figure size 432x288 with 1 Axes>"
      ]
     },
     "metadata": {
      "needs_background": "light"
     },
     "output_type": "display_data"
    }
   ],
   "source": [
    "bp.density(muhatssmall)"
   ]
  },
  {
   "cell_type": "markdown",
   "metadata": {},
   "source": [
    "#### g)Repeat steps a. through e. using the other sample size, overlaying the two density plots on each other. Use the color and label arguments of bp.density() to differentiate the two density curves on the same plot. Call bp.legend() after your done plotting.\n",
    "\n"
   ]
  },
  {
   "cell_type": "code",
   "execution_count": 49,
   "metadata": {},
   "outputs": [
    {
     "name": "stdout",
     "output_type": "stream",
     "text": [
      "muhatsbig.mean =  1.99563052155661\n",
      "muhatsbig.std =  0.12294493405500605\n"
     ]
    },
    {
     "data": {
      "text/plain": [
       "<matplotlib.axes._subplots.AxesSubplot at 0x120fe4240>"
      ]
     },
     "execution_count": 49,
     "metadata": {},
     "output_type": "execute_result"
    },
    {
     "data": {
      "image/png": "[encoded data removed]",
      "text/plain": [
       "<Figure size 432x288 with 1 Axes>"
      ]
     },
     "metadata": {
      "needs_background": "light"
     },
     "output_type": "display_data"
    }
   ],
   "source": [
    "R = 1001\n",
    "muhatsbig = np.full(R, np.nan)\n",
    "sigmahats = np.full(R, np.nan)\n",
    "\n",
    "for r in range(R):\n",
    "    muhatsbig[r] = np.random.gamma(1,2,258).mean()\n",
    "print('muhatsbig.mean = ',muhatsbig.mean())\n",
    "print('muhatsbig.std = ',muhatsbig.std())\n",
    "bp.density(muhatsbig, color = 'blue', label = 'big N')\n",
    "bp.density(muhatssmall, color = 'red', label = 'small N')\n",
    "bp.legend()"
   ]
  },
  {
   "cell_type": "markdown",
   "metadata": {},
   "source": [
    "#### h)Explain, in complete English sentences, why your two density curves look different.\n",
    "\n",
    "Because the sample size is bigger, $\\hat \\mu$.mean() is more likley to be closer to the real population mean.  "
   ]
  },
  {
   "cell_type": "markdown",
   "metadata": {},
   "source": [
    "### 2) Assume the population is Binomial, with K an integer and p∈(0,1) of your choice."
   ]
  },
  {
   "cell_type": "code",
   "execution_count": 68,
   "metadata": {},
   "outputs": [
    {
     "data": {
      "text/plain": [
       "(array([  13.,   33.,  134.,  421.,  907., 1708., 2219., 2174., 1556.,\n",
       "         836.]),\n",
       " array([ 4. ,  5.1,  6.2,  7.3,  8.4,  9.5, 10.6, 11.7, 12.8, 13.9, 15. ]),\n",
       " <a list of 10 Patch objects>)"
      ]
     },
     "execution_count": 68,
     "metadata": {},
     "output_type": "execute_result"
    },
    {
     "data": {
      "image/png": "[encoded data removed]",
      "text/plain": [
       "<Figure size 432x288 with 1 Axes>"
      ]
     },
     "metadata": {
      "needs_background": "light"
     },
     "output_type": "display_data"
    }
   ],
   "source": [
    "binomalex = np.random.binomial(15,.75, 10001)\n",
    "plt.hist(binomalex)"
   ]
  },
  {
   "cell_type": "markdown",
   "metadata": {},
   "source": [
    "#### a) Pre-allocate an array of length R."
   ]
  },
  {
   "cell_type": "code",
   "execution_count": 78,
   "metadata": {},
   "outputs": [],
   "source": [
    "R = 1001\n",
    "sigmahatssmall = np.full(R, np.nan) \n",
    "sigmahatsbig = np.full(R, np.nan)"
   ]
  },
  {
   "cell_type": "markdown",
   "metadata": {},
   "source": [
    "#### b ) In a for loop of size R,\n",
    "\n",
    "    -generate N Binomial random variables. Use the function 𝚗𝚞𝚖𝚙𝚢.𝚛𝚊𝚗𝚍𝚘𝚖.𝚋𝚒𝚗𝚘𝚖𝚒𝚊𝚕(K,p,N).\n",
    "    -estimate the population standard deviation, using the array of random variables just generated. Store the estimate into the rth element of your pre-allocated array.\n",
    "\n",
    "\n"
   ]
  },
  {
   "cell_type": "code",
   "execution_count": 100,
   "metadata": {},
   "outputs": [],
   "source": [
    "for r in range(R):\n",
    "    sigmahatssmall[r] = np.random.binomial(15,.75, 14).std()"
   ]
  },
  {
   "cell_type": "markdown",
   "metadata": {},
   "source": [
    "#### c) Estimate the population mean using the array of sample standard deviations.\n",
    " I have no idea how to do this? I don't think its possible. In QM language mean and std don't commute. Once you observe once you lost the other \n",
    " \n",
    "Is it asking for this?\n"
   ]
  },
  {
   "cell_type": "code",
   "execution_count": 101,
   "metadata": {},
   "outputs": [
    {
     "name": "stdout",
     "output_type": "stream",
     "text": [
      "sigmahat =  1.570009735282103\n"
     ]
    }
   ],
   "source": [
    " print(\"sigmahat = \", sigmahatssmall.mean()) "
   ]
  },
  {
   "cell_type": "markdown",
   "metadata": {},
   "source": [
    "#### d) Estimate the population standard deviation of the array of sample standard deviations."
   ]
  },
  {
   "cell_type": "code",
   "execution_count": 102,
   "metadata": {},
   "outputs": [
    {
     "name": "stdout",
     "output_type": "stream",
     "text": [
      "sigmahat uncertanty =  0.30001564812623344\n"
     ]
    }
   ],
   "source": [
    "print(\"sigmahat uncertanty = \", sigmahatssmall.std()) "
   ]
  },
  {
   "cell_type": "markdown",
   "metadata": {},
   "source": [
    "#### e) Explain, in complete English sentences, what the standard deviation of the sample standard deviations is telling us.\n",
    "\n",
    "The uncertanty on the best guess for the std"
   ]
  },
  {
   "cell_type": "markdown",
   "metadata": {},
   "source": [
    "#### f)Make a plot density plot using the array of sample standard deviations.\n",
    "\n"
   ]
  },
  {
   "cell_type": "code",
   "execution_count": 103,
   "metadata": {},
   "outputs": [
    {
     "data": {
      "text/plain": [
       "[<matplotlib.lines.Line2D at 0x122aedac8>]"
      ]
     },
     "execution_count": 103,
     "metadata": {},
     "output_type": "execute_result"
    },
    {
     "data": {
      "image/png": "[encoded data removed]",
      "text/plain": [
       "<Figure size 432x288 with 1 Axes>"
      ]
     },
     "metadata": {
      "needs_background": "light"
     },
     "output_type": "display_data"
    }
   ],
   "source": [
    "bp.density(sigmahatssmall)"
   ]
  },
  {
   "cell_type": "markdown",
   "metadata": {},
   "source": [
    "#### g) Repeat steps a. through e. using the other sample size, overlaying the two density plots on each other. Use the color and label arguments of bp.density() to differentiate the two density curves on the same plot. Call bp.legend() after your done plotting.\n",
    "\n"
   ]
  },
  {
   "cell_type": "code",
   "execution_count": 106,
   "metadata": {},
   "outputs": [
    {
     "name": "stdout",
     "output_type": "stream",
     "text": [
      "sigmahat small =  1.570009735282103\n",
      "sigmahat small uncertanty  =  0.30001564812623344\n",
      "sigmahat big =  1.6730826665574665\n",
      "sigmahat big uncertanty =  0.07083046344686092\n"
     ]
    },
    {
     "data": {
      "text/plain": [
       "<matplotlib.axes._subplots.AxesSubplot at 0x122d9d978>"
      ]
     },
     "execution_count": 106,
     "metadata": {},
     "output_type": "execute_result"
    },
    {
     "data": {
      "image/png": "[encoded data removed]",
      "text/plain": [
       "<Figure size 432x288 with 1 Axes>"
      ]
     },
     "metadata": {
      "needs_background": "light"
     },
     "output_type": "display_data"
    }
   ],
   "source": [
    "for r in range(R):\n",
    "    sigmahatsbig[r] = np.random.binomial(15,.75, 258).std()\n",
    "    \n",
    "print(\"sigmahat small = \", sigmahatssmall.mean()) \n",
    "print(\"sigmahat small uncertanty  = \", sigmahatssmall.std()) \n",
    "print(\"sigmahat big = \", sigmahatsbig.mean()) \n",
    "print(\"sigmahat big uncertanty = \", sigmahatsbig.std()) \n",
    "\n",
    "\n",
    "bp.density(sigmahatssmall, color = 'b', label = \"small sample\")\n",
    "bp.density(sigmahatsbig, color = 'g', label = \"big sample\")\n",
    "bp.legend()"
   ]
  },
  {
   "cell_type": "markdown",
   "metadata": {},
   "source": [
    "#### h) Explain, in complete English sentences, why your two density curves look different.\n",
    "\n",
    "As the sample size goes up the uncertanty on the best guess of $\\hat \\mu$ goes down. In the limit that N goes to $\\infty$, we $\\textbf{will}$ get $\\frac{\\text{heads}}{N} = p$ every time, so there is no uncertanty on it."
   ]
  },
  {
   "cell_type": "markdown",
   "metadata": {},
   "source": []
  },
  {
   "cell_type": "markdown",
   "metadata": {},
   "source": []
  },
  {
   "cell_type": "code",
   "execution_count": null,
   "metadata": {},
   "outputs": [],
   "source": []
  },
  {
   "cell_type": "code",
   "execution_count": null,
   "metadata": {},
   "outputs": [],
   "source": []
  },
  {
   "cell_type": "code",
   "execution_count": null,
   "metadata": {},
   "outputs": [],
   "source": []
  }
 ],
 "metadata": {
  "kernelspec": {
   "display_name": "Python 3",
   "language": "python",
   "name": "python3"
  },
  "language_info": {
   "codemirror_mode": {
    "name": "ipython",
    "version": 3
   },
   "file_extension": ".py",
   "mimetype": "text/x-python",
   "name": "python",
   "nbconvert_exporter": "python",
   "pygments_lexer": "ipython3",
   "version": "3.6.1"
  }
 },
 "nbformat": 4,
 "nbformat_minor": 2
}

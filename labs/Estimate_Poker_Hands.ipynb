{
 "cells": [
  {
   "cell_type": "markdown",
   "metadata": {},
   "source": [
    "# Estimate the probability of the 5 card poker hand a full house."
   ]
  },
  {
   "cell_type": "code",
   "execution_count": 2,
   "metadata": {},
   "outputs": [],
   "source": [
    "import numpy as np"
   ]
  },
  {
   "cell_type": "markdown",
   "metadata": {},
   "source": [
    "Build the deck"
   ]
  },
  {
   "cell_type": "code",
   "execution_count": 3,
   "metadata": {},
   "outputs": [],
   "source": [
    "suit = \"HSCD\"\n",
    "ranks = \"A23456789TJQK\"\n",
    "deck = [r + s for r in ranks for s in suit]"
   ]
  },
  {
   "cell_type": "markdown",
   "metadata": {},
   "source": [
    "Draw a hand, extract the rank, check for uniqueness, calculate estimated probability"
   ]
  },
  {
   "cell_type": "code",
   "execution_count": 5,
   "metadata": {},
   "outputs": [
    {
     "name": "stdout",
     "output_type": "stream",
     "text": [
      "probability of full house =  0.1 %\n",
      "wikipedia says probability of full house = 0.1441% %\n"
     ]
    }
   ],
   "source": [
    "N = 1000\n",
    "count = 0  \n",
    "for i in range(N):\n",
    "    hand = np.random.choice(deck, 5, replace = False) #Draw a hand\n",
    "    handrank = [i[0] for i in hand] #extract the ranks of that hand into a list with list comprehension\n",
    "    unique_arr = np.unique(handrank, return_counts = True)[1] #check for uniqueness\n",
    "    if (np.sum(unique_arr == 2) == 1 and np.sum(unique_arr == 3)) == 1:\n",
    "        count += 1\n",
    "p = count / N #calculate estimated probability \n",
    "\n",
    "print('probability of full house = ', p * 100, '%' )\n",
    "print('wikipedia says probability of full house = 0.1441% %')"
   ]
  },
  {
   "cell_type": "code",
   "execution_count": null,
   "metadata": {},
   "outputs": [],
   "source": []
  },
  {
   "cell_type": "code",
   "execution_count": null,
   "metadata": {},
   "outputs": [],
   "source": []
  },
  {
   "cell_type": "markdown",
   "metadata": {},
   "source": [
    "# Estimate the probability of the 5 card poker hand a Flush, could be either royal flush or a straight flush."
   ]
  },
  {
   "cell_type": "code",
   "execution_count": 8,
   "metadata": {},
   "outputs": [
    {
     "name": "stdout",
     "output_type": "stream",
     "text": [
      "probability of royal flush =  0.0 %\n",
      "wikipedia says probability of royal flush = 0.000154 %\n"
     ]
    }
   ],
   "source": [
    "N = 1000\n",
    "count = 0  \n",
    "for i in range(N):\n",
    "    hand = np.random.choice(deck, 5, replace = False) #Draw a hand\n",
    "    handrank = [i[0] for i in hand] #extract the ranks of that hand into a list with list comprehension\n",
    "    unique_rank_arr = np.unique(handrank, return_counts = True)[1] #check for uniqueness\n",
    "    handsuit = [i[1] for i in hand] #extract the ranks of that hand into a list with list comprehension\n",
    "    unique_suit_arr = np.unique(handsuit, return_counts = True)[1]\n",
    "    if (np.sum(unique_arr == 5) == 1 and ####### == 1: #need to replace hashes with a check for T J K Q A\n",
    "        count += 1\n",
    "p = count / N #calculate estimated probability \n",
    "\n",
    "print('probability of royal flush = ', p * 100, '%' )\n",
    "print('wikipedia says probability of royal flush = 0.000154 %')"
   ]
  },
  {
   "cell_type": "code",
   "execution_count": null,
   "metadata": {},
   "outputs": [],
   "source": []
  },
  {
   "cell_type": "code",
   "execution_count": null,
   "metadata": {},
   "outputs": [],
   "source": []
  },
  {
   "cell_type": "code",
   "execution_count": null,
   "metadata": {},
   "outputs": [],
   "source": []
  }
 ],
 "metadata": {
  "kernelspec": {
   "display_name": "Python 3",
   "language": "python",
   "name": "python3"
  },
  "language_info": {
   "codemirror_mode": {
    "name": "ipython",
    "version": 3
   },
   "file_extension": ".py",
   "mimetype": "text/x-python",
   "name": "python",
   "nbconvert_exporter": "python",
   "pygments_lexer": "ipython3",
   "version": "3.6.1"
  }
 },
 "nbformat": 4,
 "nbformat_minor": 2
}

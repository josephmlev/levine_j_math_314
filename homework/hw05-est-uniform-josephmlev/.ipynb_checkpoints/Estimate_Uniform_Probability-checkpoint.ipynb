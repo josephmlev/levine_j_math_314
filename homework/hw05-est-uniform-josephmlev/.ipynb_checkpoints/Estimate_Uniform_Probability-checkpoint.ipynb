{
 "cells": [
  {
   "cell_type": "markdown",
   "metadata": {},
   "source": [
    "# The asignment\n",
    "Assume X∼Uniform(a=1, b=42). Estimate P(X=1). Explain your code in one complete English sentence\n"
   ]
  },
  {
   "cell_type": "code",
   "execution_count": 1,
   "metadata": {},
   "outputs": [],
   "source": [
    "import numpy as np\n",
    "import pandas as pd\n",
    "import matplotlib.pyplot as plt"
   ]
  },
  {
   "cell_type": "code",
   "execution_count": 2,
   "metadata": {},
   "outputs": [
    {
     "data": {
      "text/plain": [
       "0.017982017982017984"
      ]
     },
     "execution_count": 2,
     "metadata": {},
     "output_type": "execute_result"
    }
   ],
   "source": [
    "N = 1001\n",
    "X = np.random.choice(np.arange(42) + 1, N) \n",
    "np.mean(X == 1)"
   ]
  },
  {
   "cell_type": "markdown",
   "metadata": {},
   "source": [
    "This code generates a uniform distribution on the support 1 to 42, makes a new array of bools with 1 replaced by 1 and everything else replaced by 0 (X == 1), sums all elements in the array, then devides by number of elements (np.mean() does this bit for us)."
   ]
  },
  {
   "cell_type": "markdown",
   "metadata": {},
   "source": [
    "# Playing around!\n",
    "\n",
    "The assignment was for a sample, but we know the formula to find the population paramater for a uniform distribution for X = 1 and we can compare.\n",
    "\n",
    "$P(X = 1 ) = \\frac{1}{b-a+1} = 1/42$"
   ]
  },
  {
   "cell_type": "code",
   "execution_count": 3,
   "metadata": {},
   "outputs": [
    {
     "data": {
      "text/plain": [
       "0.023809523809523808"
      ]
     },
     "execution_count": 3,
     "metadata": {},
     "output_type": "execute_result"
    }
   ],
   "source": [
    "1/42"
   ]
  },
  {
   "cell_type": "markdown",
   "metadata": {},
   "source": [
    "The sample estimation was close to calculated population parameter, but we can get a better estimate by letting $N \\rightarrow \\infty$"
   ]
  },
  {
   "cell_type": "code",
   "execution_count": 4,
   "metadata": {},
   "outputs": [
    {
     "data": {
      "text/plain": [
       "0.02412"
      ]
     },
     "execution_count": 4,
     "metadata": {},
     "output_type": "execute_result"
    }
   ],
   "source": [
    "N = int(1e5)\n",
    "X = np.random.choice(np.arange(42) + 1, N) \n",
    "np.mean(X == 1)"
   ]
  },
  {
   "cell_type": "code",
   "execution_count": 5,
   "metadata": {},
   "outputs": [
    {
     "data": {
      "text/plain": [
       "0.0237854"
      ]
     },
     "execution_count": 5,
     "metadata": {},
     "output_type": "execute_result"
    }
   ],
   "source": [
    "N = int(1e7)\n",
    "X = np.random.choice(np.arange(42) + 1, N) \n",
    "np.mean(X == 1)"
   ]
  },
  {
   "cell_type": "markdown",
   "metadata": {},
   "source": [
    "We can watch it converge to the known value"
   ]
  },
  {
   "cell_type": "code",
   "execution_count": 6,
   "metadata": {},
   "outputs": [],
   "source": [
    "#Carful! This can take a long time to run! This takes me about 10 sec.\n",
    "steps = 50\n",
    "N_final = int(1e7)\n",
    "step_size = N_final // steps\n",
    "N_arr = np.arange(1, N_final, step_size)\n",
    "mean_arr = np.zeros(steps)\n",
    "for i in range(steps):\n",
    "    X = np.random.choice(np.arange(42) + 1, N_arr[i]) \n",
    "    mean_arr[i] = np.mean(X == 1)"
   ]
  },
  {
   "cell_type": "code",
   "execution_count": 7,
   "metadata": {
    "scrolled": true
   },
   "outputs": [
    {
     "data": {
      "text/plain": [
       "<matplotlib.legend.Legend at 0x10da324e0>"
      ]
     },
     "execution_count": 7,
     "metadata": {},
     "output_type": "execute_result"
    },
    {
     "data": {
      "image/png": "[encoded data removed]",
      "text/plain": [
       "<Figure size 432x288 with 1 Axes>"
      ]
     },
     "metadata": {
      "needs_background": "light"
     },
     "output_type": "display_data"
    }
   ],
   "source": [
    "#ploting\n",
    "plt.plot(N_arr, mean_arr, label = \"estimate of population parameter\")\n",
    "plt.ylim(.02,.03) #prevents the scale being ruined when N is small\n",
    "plt.xlabel(\"N\")\n",
    "plt.ylabel(\"P(X = 1)\")\n",
    "plt.plot((0, N_final),(1/42,1/42), \"r--\", label = \"true population parameter\" )\n",
    "plt.legend()"
   ]
  },
  {
   "cell_type": "code",
   "execution_count": null,
   "metadata": {},
   "outputs": [],
   "source": []
  }
 ],
 "metadata": {
  "kernelspec": {
   "display_name": "Python 3",
   "language": "python",
   "name": "python3"
  },
  "language_info": {
   "codemirror_mode": {
    "name": "ipython",
    "version": 3
   },
   "file_extension": ".py",
   "mimetype": "text/x-python",
   "name": "python",
   "nbconvert_exporter": "python",
   "pygments_lexer": "ipython3",
   "version": "3.6.1"
  }
 },
 "nbformat": 4,
 "nbformat_minor": 2
}

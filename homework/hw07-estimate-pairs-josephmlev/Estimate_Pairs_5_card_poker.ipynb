{
 "cells": [
  {
   "cell_type": "markdown",
   "metadata": {},
   "source": [
    "# Part 1: Estimate the probability of the 5 card poker hand one pair."
   ]
  },
  {
   "cell_type": "code",
   "execution_count": 2,
   "metadata": {},
   "outputs": [],
   "source": [
    "import numpy as np"
   ]
  },
  {
   "cell_type": "markdown",
   "metadata": {},
   "source": [
    "Build the deck"
   ]
  },
  {
   "cell_type": "code",
   "execution_count": 3,
   "metadata": {},
   "outputs": [],
   "source": [
    "suit = \"HSCD\"\n",
    "ranks = \"A23456789TJQK\"\n",
    "deck = [r + s for r in ranks for s in suit]"
   ]
  },
  {
   "cell_type": "markdown",
   "metadata": {},
   "source": [
    "Draw a hand, extract the suits, check for uniqueness, calculate estimated probability "
   ]
  },
  {
   "cell_type": "code",
   "execution_count": 8,
   "metadata": {},
   "outputs": [
    {
     "name": "stdout",
     "output_type": "stream",
     "text": [
      "probability of one pair =  42.43 %\n",
      "wikipedia says probability of one pair = 42.2569 %\n"
     ]
    }
   ],
   "source": [
    "N = 10000\n",
    "count = 0  \n",
    "for i in range(N):\n",
    "    hand = np.random.choice(deck, 5, replace = False) #Draw a hand\n",
    "    handrank = [i[0] for i in hand] #extract the suits of that hand\n",
    "    unique_arr = np.unique(handrank, return_counts = True)[1] #check for uniqueness\n",
    "    if np.sum(unique_arr == 2) == 1:\n",
    "        count += 1\n",
    "p = count / N #calculate estimated probability \n",
    "\n",
    "print('probability of one pair = ', p * 100, '%' )\n",
    "print('wikipedia says probability of one pair = 42.2569 %')"
   ]
  },
  {
   "cell_type": "markdown",
   "metadata": {},
   "source": [
    "# Part 2: Estimate the probability of the 5 card poker hand two pair."
   ]
  },
  {
   "cell_type": "code",
   "execution_count": 9,
   "metadata": {},
   "outputs": [
    {
     "name": "stdout",
     "output_type": "stream",
     "text": [
      "probability of two pair =  4.95 %\n",
      "wikipedia says probability of two pair = 4.7539 %\n"
     ]
    }
   ],
   "source": [
    "N = 10000\n",
    "count = 0  \n",
    "for i in range(N):\n",
    "    hand = np.random.choice(deck, 5, replace = False)\n",
    "    handrank = [i[0] for i in hand]\n",
    "    unique_arr = np.unique(handrank, return_counts = True)[1]\n",
    "    if np.sum(unique_arr == 2) == 2:\n",
    "        count += 1\n",
    "p = count / N\n",
    "print('probability of two pair = ', p * 100,'%' )\n",
    "print('wikipedia says probability of two pair = 4.7539 %')"
   ]
  }
 ],
 "metadata": {
  "kernelspec": {
   "display_name": "Python 3",
   "language": "python",
   "name": "python3"
  },
  "language_info": {
   "codemirror_mode": {
    "name": "ipython",
    "version": 3
   },
   "file_extension": ".py",
   "mimetype": "text/x-python",
   "name": "python",
   "nbconvert_exporter": "python",
   "pygments_lexer": "ipython3",
   "version": "3.6.1"
  }
 },
 "nbformat": 4,
 "nbformat_minor": 2
}

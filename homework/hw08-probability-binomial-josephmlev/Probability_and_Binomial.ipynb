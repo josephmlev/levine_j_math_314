{
 "cells": [
  {
   "cell_type": "markdown",
   "metadata": {},
   "source": [
    "#### 1. Define $A$ to be the event that draw number 3 from a fair deck of cards with out replacement is an Ace. Note that the first 2 draws can be anything.\n",
    "\n",
    "##### a) Calculate the true probability of event A.  "
   ]
  },
  {
   "cell_type": "markdown",
   "metadata": {},
   "source": [
    "There are several ways to get event $A$. We need to take them into account because draws one and two effect draw three. For example, if we got aces for one and two, draw three has a lower chance of coming up as an ace.\n",
    "\n",
    "Lets list out the options. Let a represent an ace and !a represent not an ace. Since there are two ways each of three cards can come out, there would be $2^3$ combinations. But event $A$ says card three is an ace so there are two free cards, or $2^2$ ways. \n",
    "\n",
    "|Hand|Card 1|Card 2|Card 3|\n",
    "|-|-|-|-|\n",
    "|1|a|a|a|\n",
    "|2|a|!a|a|\n",
    "|3|!a|a|a|\n",
    "|4|!a|!a|a|\n",
    "\n",
    "Hand 1 is an ace AND ace AND ace $\\rightarrow$ P(Hand 1) = $\\frac{4}{52}\\frac{3}{51}\\frac{2}{50}$\n",
    "\n",
    "Hand 2 is an ace AND !ace AND ace $\\rightarrow$ P(Hand 2) = $\\frac{4}{52}\\frac{48}{51}\\frac{3}{50}$\n",
    "\n",
    "Hand 3 is an !ace AND ace AND ace $\\rightarrow$ P(Hand 3) = $\\frac{48}{52}\\frac{4}{51}\\frac{3}{50}$\n",
    "\n",
    "Hand 4 is an ace AND !ace AND ace $\\rightarrow$ P(Hand 2) = $\\frac{48}{52}\\frac{47}{51}\\frac{4}{50}$\n",
    "\n",
    "Event $A$ happens from hand 1 OR 2 OR 3 OR 4 $\\rightarrow$ $\\frac{4}{52}\\frac{3}{51}\\frac{2}{50} + \\frac{4}{52}\\frac{48}{51}\\frac{3}{50} + \\frac{48}{52}\\frac{4}{51}\\frac{3}{50} + \\frac{48}{52}\\frac{47}{51}\\frac{4}{50} $\n"
   ]
  },
  {
   "cell_type": "code",
   "execution_count": 3,
   "metadata": {},
   "outputs": [],
   "source": [
    "from fractions import Fraction as frac \n",
    "from scipy.stats import  binom\n",
    "import numpy as np"
   ]
  },
  {
   "cell_type": "code",
   "execution_count": 4,
   "metadata": {},
   "outputs": [
    {
     "data": {
      "text/plain": [
       "Fraction(1, 13)"
      ]
     },
     "execution_count": 4,
     "metadata": {},
     "output_type": "execute_result"
    }
   ],
   "source": [
    "frac(4,52) * frac(3,51)* frac(2,50) + frac(4,52)*frac(48,51)*frac(3,50) + frac(48,52)*frac(4,51)*frac(3,50) + frac(48,52)*frac(47,51)*frac(4,50) "
   ]
  },
  {
   "cell_type": "code",
   "execution_count": 5,
   "metadata": {},
   "outputs": [
    {
     "name": "stdout",
     "output_type": "stream",
     "text": [
      "probability of event A = 0.07692307692307693\n"
     ]
    }
   ],
   "source": [
    "print(\"probability of event A =\", 1/13)"
   ]
  },
  {
   "cell_type": "markdown",
   "metadata": {},
   "source": [
    "#### b) Estimate the probability of event A.\n",
    "    \n",
    "This is quite a bit easier! the np.random.choice function does the hard work for us by simply not replacing the card.\n",
    "\n",
    "First we build the deck"
   ]
  },
  {
   "cell_type": "code",
   "execution_count": 6,
   "metadata": {},
   "outputs": [],
   "source": [
    "suit = \"HSCD\"\n",
    "ranks = \"A23456789TJQK\"\n",
    "deck = [r + s for r in ranks for s in suit]"
   ]
  },
  {
   "cell_type": "markdown",
   "metadata": {},
   "source": [
    "Next we make a loop that draws three cards without replacement, checks if the last card is an ace, increments a counter if it is, and estimates the probability by dividing count by the number of hands drawn. "
   ]
  },
  {
   "cell_type": "code",
   "execution_count": 8,
   "metadata": {},
   "outputs": [
    {
     "name": "stdout",
     "output_type": "stream",
     "text": [
      "Estimate of probability of event A = 0.07610923890761093\n"
     ]
    }
   ],
   "source": [
    "N = 100001\n",
    "count = 0\n",
    "\n",
    "for i in range(N):\n",
    "    hand = np.random.choice(deck, 3, replace = False)\n",
    "    if hand[2][0] == 'A':\n",
    "        count += 1\n",
    "prob = count/N\n",
    "print(\"Estimate of probability of event A =\", prob )"
   ]
  },
  {
   "cell_type": "markdown",
   "metadata": {},
   "source": [
    "#### Generate N=1001 Binomial(K=12,p=0.65) random variables using the function 𝚗𝚙.𝚛𝚊𝚗𝚍𝚘𝚖.𝚋𝚒𝚗𝚘𝚖𝚒𝚊𝚕(). Name the returned array 𝚇. Round all numeric answers to 2 decimal places.\n"
   ]
  },
  {
   "cell_type": "code",
   "execution_count": 85,
   "metadata": {},
   "outputs": [
    {
     "data": {
      "text/plain": [
       "array([8, 5, 6, ..., 6, 4, 4])"
      ]
     },
     "execution_count": 85,
     "metadata": {},
     "output_type": "execute_result"
    }
   ],
   "source": [
    "K = 12\n",
    "p = .65\n",
    "N = 1001 \n",
    "X = np.random.binomial(K, .5, size = N )\n",
    "X"
   ]
  },
  {
   "cell_type": "markdown",
   "metadata": {},
   "source": [
    "Calculate the population mean."
   ]
  },
  {
   "cell_type": "code",
   "execution_count": null,
   "metadata": {},
   "outputs": [],
   "source": []
  },
  {
   "cell_type": "markdown",
   "metadata": {},
   "source": [
    "Estimate the population mean using 𝚇."
   ]
  },
  {
   "cell_type": "code",
   "execution_count": 86,
   "metadata": {},
   "outputs": [
    {
     "data": {
      "text/plain": [
       "5.975024975024975"
      ]
     },
     "execution_count": 86,
     "metadata": {},
     "output_type": "execute_result"
    }
   ],
   "source": [
    "np.mean(X)"
   ]
  },
  {
   "cell_type": "markdown",
   "metadata": {},
   "source": [
    "Calculate f(x) for all values of x in the support.\n"
   ]
  },
  {
   "cell_type": "markdown",
   "metadata": {},
   "source": [
    "Estimate f(x) for all values of x in the support.\n",
    "\n"
   ]
  },
  {
   "cell_type": "markdown",
   "metadata": {},
   "source": [
    "Use 𝚋𝚙.𝚙𝚘𝚒𝚗𝚝() and Scipy’s function 𝚜𝚌𝚒𝚙𝚢.𝚜𝚝𝚊𝚝𝚜.𝚋𝚒𝚗𝚘𝚖().𝚙𝚖𝚏() to plot the true population probabilites associated with each value in the support. Use 𝚋𝚙.𝚙𝚘𝚒𝚗𝚝()’s argument 𝚜𝚝𝚢𝚕𝚎 to set the style equal to 1.\n",
    "\n"
   ]
  },
  {
   "cell_type": "markdown",
   "metadata": {},
   "source": [
    "Use 𝚋𝚙.𝚙𝚘𝚒𝚗𝚝() to plot the esimated probabilities associated with each value in the support. Overlay the estimates on top of the true population probabilities"
   ]
  }
 ],
 "metadata": {
  "kernelspec": {
   "display_name": "Python 3",
   "language": "python",
   "name": "python3"
  },
  "language_info": {
   "codemirror_mode": {
    "name": "ipython",
    "version": 3
   },
   "file_extension": ".py",
   "mimetype": "text/x-python",
   "name": "python",
   "nbconvert_exporter": "python",
   "pygments_lexer": "ipython3",
   "version": "3.6.1"
  }
 },
 "nbformat": 4,
 "nbformat_minor": 2
}

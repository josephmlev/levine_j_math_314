{
 "cells": [
  {
   "cell_type": "markdown",
   "metadata": {},
   "source": [
    "## Estimate Bernoulli\n",
    "\n",
    "Assume $X \\sim \\text{Bernoulli}(p=0.67)$. Estimate $P(X=0)$. Explain your code in one complete English sentence."
   ]
  },
  {
   "cell_type": "code",
   "execution_count": 1,
   "metadata": {},
   "outputs": [],
   "source": [
    "import numpy as np\n",
    "import pandas as pd"
   ]
  },
  {
   "cell_type": "code",
   "execution_count": 2,
   "metadata": {},
   "outputs": [
    {
     "data": {
      "text/plain": [
       "0.330318"
      ]
     },
     "execution_count": 2,
     "metadata": {},
     "output_type": "execute_result"
    }
   ],
   "source": [
    "N = int(1e6)\n",
    "X = np.random.choice(np.arange(2), N, p = np.array([1 - .67, .67])) \n",
    "np.mean(X == 0)"
   ]
  },
  {
   "cell_type": "markdown",
   "metadata": {},
   "source": [
    "This code generates a Bernoulli distribution where the probability of getting 1 is .67, makes a new array of bools with 0 replaced by 1 and 1 replaced by 0 (X == 0), sums all elements in the array, then divides by number of elements (np.mean() does this bit for us) to find the probability that $X = 0$. Note that since probability must sum to 1, the peramater we are expecting is $1 - .67 = .33$"
   ]
  }
 ],
 "metadata": {
  "kernelspec": {
   "display_name": "Python 3",
   "language": "python",
   "name": "python3"
  },
  "language_info": {
   "codemirror_mode": {
    "name": "ipython",
    "version": 3
   },
   "file_extension": ".py",
   "mimetype": "text/x-python",
   "name": "python",
   "nbconvert_exporter": "python",
   "pygments_lexer": "ipython3",
   "version": "3.6.1"
  }
 },
 "nbformat": 4,
 "nbformat_minor": 2
}
